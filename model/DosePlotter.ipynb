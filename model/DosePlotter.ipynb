{
 "cells": [
  {
   "cell_type": "code",
   "execution_count": 16,
   "id": "attended-bermuda",
   "metadata": {},
   "outputs": [],
   "source": [
    "%matplotlib inline\n",
    "import os\n",
    "\n",
    "import pandas as pd\n",
    "import numpy as np\n",
    "\n",
    "import matplotlib.pyplot as plt"
   ]
  },
  {
   "cell_type": "code",
   "execution_count": 17,
   "id": "printable-moral",
   "metadata": {},
   "outputs": [],
   "source": [
    "# data = pd.read_csv('build/Run0_nt_DoseDist_t0.csv', skiprows=8, names=['edep', 'x', 'y', 'z'])\n",
    "data = pd.DataFrame()\n",
    "files = list(filter(\n",
    "    lambda x: 'DoseDist_t' in x,\n",
    "    os.listdir('build')))\n",
    "\n",
    "for f in files:\n",
    "    _ = pd.read_csv('build/%s' % f, skiprows=8, names=['edep', 'x', 'y', 'z'])\n",
    "    data = data.append(_, ignore_index=True)\n",
    "\n",
    "data = data.sort_values(by=['z'])\n",
    "data['z'] -= data['z'].min()"
   ]
  },
  {
   "cell_type": "code",
   "execution_count": 18,
   "id": "a442a2bb",
   "metadata": {},
   "outputs": [
    {
     "data": {
      "text/html": [
       "<div>\n",
       "<style scoped>\n",
       "    .dataframe tbody tr th:only-of-type {\n",
       "        vertical-align: middle;\n",
       "    }\n",
       "\n",
       "    .dataframe tbody tr th {\n",
       "        vertical-align: top;\n",
       "    }\n",
       "\n",
       "    .dataframe thead th {\n",
       "        text-align: right;\n",
       "    }\n",
       "</style>\n",
       "<table border=\"1\" class=\"dataframe\">\n",
       "  <thead>\n",
       "    <tr style=\"text-align: right;\">\n",
       "      <th></th>\n",
       "      <th>edep</th>\n",
       "      <th>x</th>\n",
       "      <th>y</th>\n",
       "      <th>z</th>\n",
       "    </tr>\n",
       "  </thead>\n",
       "  <tbody>\n",
       "    <tr>\n",
       "      <th>0</th>\n",
       "      <td>0.000005</td>\n",
       "      <td>8.33588</td>\n",
       "      <td>-0.204397</td>\n",
       "      <td>0.000</td>\n",
       "    </tr>\n",
       "    <tr>\n",
       "      <th>43920</th>\n",
       "      <td>0.000078</td>\n",
       "      <td>0.14618</td>\n",
       "      <td>-5.798390</td>\n",
       "      <td>0.000</td>\n",
       "    </tr>\n",
       "    <tr>\n",
       "      <th>43924</th>\n",
       "      <td>0.000038</td>\n",
       "      <td>4.73289</td>\n",
       "      <td>-5.548590</td>\n",
       "      <td>0.000</td>\n",
       "    </tr>\n",
       "    <tr>\n",
       "      <th>44003</th>\n",
       "      <td>0.000755</td>\n",
       "      <td>-4.30584</td>\n",
       "      <td>0.157747</td>\n",
       "      <td>0.000</td>\n",
       "    </tr>\n",
       "    <tr>\n",
       "      <th>44004</th>\n",
       "      <td>0.000002</td>\n",
       "      <td>-4.30584</td>\n",
       "      <td>0.157748</td>\n",
       "      <td>0.000</td>\n",
       "    </tr>\n",
       "    <tr>\n",
       "      <th>...</th>\n",
       "      <td>...</td>\n",
       "      <td>...</td>\n",
       "      <td>...</td>\n",
       "      <td>...</td>\n",
       "    </tr>\n",
       "    <tr>\n",
       "      <th>4743</th>\n",
       "      <td>0.103497</td>\n",
       "      <td>5.50911</td>\n",
       "      <td>28.236700</td>\n",
       "      <td>69.855</td>\n",
       "    </tr>\n",
       "    <tr>\n",
       "      <th>4746</th>\n",
       "      <td>0.045491</td>\n",
       "      <td>5.50265</td>\n",
       "      <td>28.240700</td>\n",
       "      <td>69.858</td>\n",
       "    </tr>\n",
       "    <tr>\n",
       "      <th>4747</th>\n",
       "      <td>0.043024</td>\n",
       "      <td>5.50351</td>\n",
       "      <td>28.241300</td>\n",
       "      <td>69.859</td>\n",
       "    </tr>\n",
       "    <tr>\n",
       "      <th>4744</th>\n",
       "      <td>0.068609</td>\n",
       "      <td>5.50708</td>\n",
       "      <td>28.245100</td>\n",
       "      <td>69.862</td>\n",
       "    </tr>\n",
       "    <tr>\n",
       "      <th>4745</th>\n",
       "      <td>0.131057</td>\n",
       "      <td>5.50497</td>\n",
       "      <td>28.238500</td>\n",
       "      <td>69.862</td>\n",
       "    </tr>\n",
       "  </tbody>\n",
       "</table>\n",
       "<p>71034 rows × 4 columns</p>\n",
       "</div>"
      ],
      "text/plain": [
       "           edep        x          y       z\n",
       "0      0.000005  8.33588  -0.204397   0.000\n",
       "43920  0.000078  0.14618  -5.798390   0.000\n",
       "43924  0.000038  4.73289  -5.548590   0.000\n",
       "44003  0.000755 -4.30584   0.157747   0.000\n",
       "44004  0.000002 -4.30584   0.157748   0.000\n",
       "...         ...      ...        ...     ...\n",
       "4743   0.103497  5.50911  28.236700  69.855\n",
       "4746   0.045491  5.50265  28.240700  69.858\n",
       "4747   0.043024  5.50351  28.241300  69.859\n",
       "4744   0.068609  5.50708  28.245100  69.862\n",
       "4745   0.131057  5.50497  28.238500  69.862\n",
       "\n",
       "[71034 rows x 4 columns]"
      ]
     },
     "execution_count": 18,
     "metadata": {},
     "output_type": "execute_result"
    }
   ],
   "source": [
    "data"
   ]
  },
  {
   "cell_type": "code",
   "execution_count": 19,
   "id": "aging-pressure",
   "metadata": {},
   "outputs": [
    {
     "data": {
      "image/png": "[encoded data removed]",
      "text/plain": [
       "<Figure size 432x288 with 1 Axes>"
      ]
     },
     "metadata": {
      "needs_background": "light"
     },
     "output_type": "display_data"
    }
   ],
   "source": [
    "nz = 100\n",
    "dz = (data['z'].max() - data['z'].min()) / nz\n",
    "\n",
    "hist = pd.DataFrame([\n",
    "    {'z': i + dz / 2, 'edep': data[(data['z'] > i) & (data['z'] < (i + dz))]['edep'].sum()}\n",
    "    for i in np.arange(data['z'].min(), data['z'].max(), dz)\n",
    "]\n",
    ")\n",
    "\n",
    "hist['edep'] /= hist['edep'].max()\n",
    "\n",
    "d2plot = hist['edep'].values[::-1]\n",
    "plt.bar(np.arange(len(d2plot)) * dz + dz / 2, d2plot)\n",
    "# plt.plot(d2plot, 'o-')\n",
    "hist['z'] = hist['z'].values[::-1]\n",
    "hist.sort_values(by=['z']).to_csv('aDoseDepthHist.csv', index=False)\n",
    "plt.ylabel('D / Dmax')\n",
    "plt.xlabel('Z, mm')\n",
    "plt.suptitle('Распределение дозы по глубине')\n",
    "plt.savefig('aDoseDepthHist.png')"
   ]
  },
  {
   "cell_type": "code",
   "execution_count": 20,
   "id": "angry-offer",
   "metadata": {},
   "outputs": [
    {
     "data": {
      "text/html": [
       "<div>\n",
       "<style scoped>\n",
       "    .dataframe tbody tr th:only-of-type {\n",
       "        vertical-align: middle;\n",
       "    }\n",
       "\n",
       "    .dataframe tbody tr th {\n",
       "        vertical-align: top;\n",
       "    }\n",
       "\n",
       "    .dataframe thead th {\n",
       "        text-align: right;\n",
       "    }\n",
       "</style>\n",
       "<table border=\"1\" class=\"dataframe\">\n",
       "  <thead>\n",
       "    <tr style=\"text-align: right;\">\n",
       "      <th></th>\n",
       "      <th>z</th>\n",
       "      <th>edep</th>\n",
       "    </tr>\n",
       "  </thead>\n",
       "  <tbody>\n",
       "    <tr>\n",
       "      <th>0</th>\n",
       "      <td>69.51269</td>\n",
       "      <td>1.000000</td>\n",
       "    </tr>\n",
       "    <tr>\n",
       "      <th>1</th>\n",
       "      <td>68.81407</td>\n",
       "      <td>0.780673</td>\n",
       "    </tr>\n",
       "    <tr>\n",
       "      <th>2</th>\n",
       "      <td>68.11545</td>\n",
       "      <td>0.270803</td>\n",
       "    </tr>\n",
       "    <tr>\n",
       "      <th>3</th>\n",
       "      <td>67.41683</td>\n",
       "      <td>0.057596</td>\n",
       "    </tr>\n",
       "    <tr>\n",
       "      <th>4</th>\n",
       "      <td>66.71821</td>\n",
       "      <td>0.030871</td>\n",
       "    </tr>\n",
       "    <tr>\n",
       "      <th>...</th>\n",
       "      <td>...</td>\n",
       "      <td>...</td>\n",
       "    </tr>\n",
       "    <tr>\n",
       "      <th>95</th>\n",
       "      <td>3.14379</td>\n",
       "      <td>0.000000</td>\n",
       "    </tr>\n",
       "    <tr>\n",
       "      <th>96</th>\n",
       "      <td>2.44517</td>\n",
       "      <td>0.000000</td>\n",
       "    </tr>\n",
       "    <tr>\n",
       "      <th>97</th>\n",
       "      <td>1.74655</td>\n",
       "      <td>0.000000</td>\n",
       "    </tr>\n",
       "    <tr>\n",
       "      <th>98</th>\n",
       "      <td>1.04793</td>\n",
       "      <td>0.000000</td>\n",
       "    </tr>\n",
       "    <tr>\n",
       "      <th>99</th>\n",
       "      <td>0.34931</td>\n",
       "      <td>0.000197</td>\n",
       "    </tr>\n",
       "  </tbody>\n",
       "</table>\n",
       "<p>100 rows × 2 columns</p>\n",
       "</div>"
      ],
      "text/plain": [
       "           z      edep\n",
       "0   69.51269  1.000000\n",
       "1   68.81407  0.780673\n",
       "2   68.11545  0.270803\n",
       "3   67.41683  0.057596\n",
       "4   66.71821  0.030871\n",
       "..       ...       ...\n",
       "95   3.14379  0.000000\n",
       "96   2.44517  0.000000\n",
       "97   1.74655  0.000000\n",
       "98   1.04793  0.000000\n",
       "99   0.34931  0.000197\n",
       "\n",
       "[100 rows x 2 columns]"
      ]
     },
     "execution_count": 20,
     "metadata": {},
     "output_type": "execute_result"
    }
   ],
   "source": [
    "# hist['z'] = hist['z'].values[::-1]\n",
    "hist"
   ]
  },
  {
   "cell_type": "code",
   "execution_count": 21,
   "id": "first-exclusive",
   "metadata": {},
   "outputs": [
    {
     "data": {
      "text/plain": [
       "[<matplotlib.lines.Line2D at 0x7fc4b9ebb6a0>]"
      ]
     },
     "execution_count": 21,
     "metadata": {},
     "output_type": "execute_result"
    },
    {
     "data": {
      "image/png": "[encoded data removed]",
      "text/plain": [
       "<Figure size 432x288 with 1 Axes>"
      ]
     },
     "metadata": {
      "needs_background": "light"
     },
     "output_type": "display_data"
    }
   ],
   "source": [
    "plt.plot(hist['z'], hist['edep'])"
   ]
  },
  {
   "cell_type": "code",
   "execution_count": null,
   "id": "smooth-waterproof",
   "metadata": {},
   "outputs": [],
   "source": []
  },
  {
   "cell_type": "code",
   "execution_count": null,
   "id": "98c70116",
   "metadata": {},
   "outputs": [],
   "source": []
  }
 ],
 "metadata": {
  "kernelspec": {
   "display_name": "Python 3 (ipykernel)",
   "language": "python",
   "name": "python3"
  },
  "language_info": {
   "codemirror_mode": {
    "name": "ipython",
    "version": 3
   },
   "file_extension": ".py",
   "mimetype": "text/x-python",
   "name": "python",
   "nbconvert_exporter": "python",
   "pygments_lexer": "ipython3",
   "version": "3.8.10"
  }
 },
 "nbformat": 4,
 "nbformat_minor": 5
}
