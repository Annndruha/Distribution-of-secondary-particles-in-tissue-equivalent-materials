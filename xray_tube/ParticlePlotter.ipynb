{
 "cells": [
  {
   "cell_type": "markdown",
   "id": "6b9ffe9f",
   "metadata": {},
   "source": [
    "### Парсинг данных и создание датафрейма"
   ]
  },
  {
   "cell_type": "code",
   "execution_count": null,
   "id": "attended-bermuda",
   "metadata": {},
   "outputs": [],
   "source": [
    "import os\n",
    "import pandas as pd\n",
    "import numpy as np\n",
    "import glob\n",
    "import matplotlib.pyplot as plt\n",
    "\n",
    "# %matplotlib notebook"
   ]
  },
  {
   "cell_type": "code",
   "execution_count": null,
   "id": "cf91d50c",
   "metadata": {},
   "outputs": [],
   "source": [
    "runN = \"*\" # If take all runs set runN = \"*\"\n",
    "paths = glob.glob(f\"build/Run{runN}_nt_ParticleData_t*.csv\")"
   ]
  },
  {
   "cell_type": "code",
   "execution_count": null,
   "id": "b50bbf71",
   "metadata": {},
   "outputs": [],
   "source": [
    "with open(paths[0], 'r') as f:\n",
    "    print(f\"Headers from file: {paths[0]}\")\n",
    "    hlines = []\n",
    "    while True:\n",
    "        line = f.readline()\n",
    "        if len(line) == 0 or line[0] != '#':\n",
    "            break\n",
    "        hlines.append(line)\n",
    "    title = hlines[1].replace('#title ', '')[:-1]\n",
    "    sep = chr(int(hlines[2].replace('#separator ', '')[:-1]))\n",
    "    vsc_sep = chr(int(hlines[3].replace('#vector_separator ', '')[:-1]))\n",
    "    columns = [' '.join(l.split(' ')[2:])[:-1] for l in hlines[4:]]\n",
    "    meta_len = len(hlines)\n",
    "    print(f'Metarows: {meta_len}\\nColumns: {columns}')"
   ]
  },
  {
   "cell_type": "code",
   "execution_count": null,
   "id": "printable-moral",
   "metadata": {},
   "outputs": [],
   "source": [
    "data = pd.DataFrame()\n",
    "for path in paths:\n",
    "    item = pd.read_csv(path, skiprows=meta_len, names=columns)\n",
    "    data = data.append(item, ignore_index=True)"
   ]
  },
  {
   "cell_type": "code",
   "execution_count": null,
   "id": "87cdaca3",
   "metadata": {},
   "outputs": [],
   "source": [
    "data"
   ]
  },
  {
   "cell_type": "code",
   "execution_count": null,
   "id": "52c7b9d5",
   "metadata": {},
   "outputs": [],
   "source": [
    "set(data[\"particle_name\"])"
   ]
  },
  {
   "cell_type": "code",
   "execution_count": null,
   "id": "99f98aab",
   "metadata": {},
   "outputs": [],
   "source": [
    "len(data[data[\"particle_name\"]==\"e-\"])"
   ]
  },
  {
   "cell_type": "code",
   "execution_count": null,
   "id": "c2090eaf",
   "metadata": {},
   "outputs": [],
   "source": [
    "len(data[data[\"particle_name\"]==\"gamma\"])"
   ]
  },
  {
   "cell_type": "markdown",
   "id": "ac146648",
   "metadata": {},
   "source": [
    "### Отобразим собранные данные"
   ]
  },
  {
   "cell_type": "code",
   "execution_count": null,
   "id": "5a0aa605",
   "metadata": {},
   "outputs": [],
   "source": [
    "fig = plt.figure(figsize = (6, 6))\n",
    "ax = fig.add_subplot(111, projection='3d')\n",
    "ax.scatter(data[data[\"particle_name\"]==\"gamma\"][\"X\"][:1500],\n",
    "           data[data[\"particle_name\"]==\"gamma\"][\"Y\"][:1500],\n",
    "           data[data[\"particle_name\"]==\"gamma\"][\"Z\"][:1500], marker=\".\")\n",
    "ax.set_xlabel('X')\n",
    "ax.set_ylabel('Y')\n",
    "ax.set_zlabel('Z')\n",
    "plt.show()"
   ]
  },
  {
   "cell_type": "markdown",
   "id": "90927f67",
   "metadata": {},
   "source": [
    "### Поворот распределения для более удобной работы"
   ]
  },
  {
   "cell_type": "code",
   "execution_count": null,
   "id": "bd602f23",
   "metadata": {},
   "outputs": [],
   "source": [
    "xyz_e = data[data[\"particle_name\"]==\"gamma\"]\n",
    "xdata = xyz_e[\"X\"].to_numpy()\n",
    "ydata = xyz_e[\"Y\"].to_numpy()\n",
    "zdata = xyz_e[\"Z\"].to_numpy()\n",
    "xyz = np.array([xdata, ydata, zdata]).T"
   ]
  },
  {
   "cell_type": "code",
   "execution_count": null,
   "id": "546b5d9c",
   "metadata": {},
   "outputs": [],
   "source": [
    "# Матрица поворота вокруг оси х\n",
    "ang = -np.pi/4 # 45 градусов\n",
    "Mx = [[1, 0, 0], [0, np.cos(ang), -np.sin(ang)], [0, np.sin(ang), np.cos(ang)]]"
   ]
  },
  {
   "cell_type": "code",
   "execution_count": null,
   "id": "447b4273",
   "metadata": {},
   "outputs": [],
   "source": [
    "xyz = np.array([np.matmul(point, Mx) for point in xyz])"
   ]
  },
  {
   "cell_type": "markdown",
   "id": "0f38ef13",
   "metadata": {},
   "source": [
    "### Преобразование к полярным координатам"
   ]
  },
  {
   "cell_type": "code",
   "execution_count": null,
   "id": "a947a901",
   "metadata": {},
   "outputs": [],
   "source": [
    "# Я это писал 6 часов, поскольку не думал что формулы из вики или матанализа не работают\n",
    "def cart2sph(n_xyz: np.array, trh=10**-9):\n",
    "    ra, θa, φa = [], [], []\n",
    "    for x, y, z in n_xyz:\n",
    "        r = np.sqrt(x**2 + y**2 + z**2)\n",
    "        θ = 0. if np.abs(r) < trh else np.arccos(z/r)\n",
    "        if x>0 and y>0:\n",
    "            φ = np.arctan(y/x)\n",
    "        elif np.abs(x) < trh and y>0:\n",
    "            φ = np.pi/2\n",
    "        elif x<0 and y>0:\n",
    "            φ = np.pi + np.arctan(y/x)\n",
    "        elif x<0 and y<0:\n",
    "            φ = np.pi + np.arctan(y/x)\n",
    "        elif np.abs(x) < trh and y<0:\n",
    "            φ = np.pi*3/4\n",
    "        elif x>0 and y<0:\n",
    "            φ = 2*np.pi + np.arctan(y/x)\n",
    "        elif np.abs(x) < trh and np.abs(y) < trh:\n",
    "            φ = 0.\n",
    "        ra.append(r)\n",
    "        θa.append(θ)\n",
    "        φa.append(φ)\n",
    "    return np.array([ra, θa, φa]).T\n",
    "\n",
    "def sph2cart(n_rθφ: np.array):\n",
    "    n_rθφ[:, 2] = n_rθφ[:, 2] % (2*np.pi)\n",
    "    n_rθφ[:, 1] = n_rθφ[:, 1] % (np.pi)\n",
    "    x = n_rθφ[:, 0] * np.sin(n_rθφ[:, 1]) * np.cos(n_rθφ[:, 2])\n",
    "    y = n_rθφ[:, 0] * np.sin(n_rθφ[:, 1]) * np.sin(n_rθφ[:, 2])\n",
    "    z = n_rθφ[:, 0] * np.cos(n_rθφ[:, 1])\n",
    "    return np.array([x, y, z]).T"
   ]
  },
  {
   "cell_type": "code",
   "execution_count": null,
   "id": "06e75f50",
   "metadata": {},
   "outputs": [],
   "source": [
    "nrθφ = cart2sph(xyz)"
   ]
  },
  {
   "cell_type": "code",
   "execution_count": null,
   "id": "dd79f9ca",
   "metadata": {},
   "outputs": [],
   "source": [
    "print(f\"θ range: {min(nrθφ[:,1])} to {max(nrθφ[:,1])}\")\n",
    "print(f\"φ range: {min(nrθφ[:,2])} to {max(nrθφ[:,2])}\")"
   ]
  },
  {
   "cell_type": "markdown",
   "id": "7bd8f7f5",
   "metadata": {},
   "source": [
    "### Выбор интересующей области"
   ]
  },
  {
   "cell_type": "code",
   "execution_count": null,
   "id": "22b299cc",
   "metadata": {},
   "outputs": [],
   "source": [
    "θ_from = np.pi/2-np.pi/10\n",
    "θ_to = np.pi/2+np.pi/10."
   ]
  },
  {
   "cell_type": "code",
   "execution_count": null,
   "id": "5e2e0186",
   "metadata": {},
   "outputs": [],
   "source": [
    "segment, out_segment = [], []\n",
    "i = 0\n",
    "j = 0\n",
    "for r, theta, phi in nrθφ:\n",
    "    if θ_from<theta and theta<θ_to:\n",
    "        segment.append((1, theta, phi))\n",
    "        i += 1\n",
    "    else:\n",
    "        out_segment.append((1, theta, phi))\n",
    "        j += 1\n",
    "    \n",
    "xyz_segment = sph2cart(np.array(segment))\n",
    "xyz_out_segment = sph2cart(np.array(out_segment))"
   ]
  },
  {
   "cell_type": "code",
   "execution_count": null,
   "id": "bdaaaf1c",
   "metadata": {
    "scrolled": false
   },
   "outputs": [],
   "source": [
    "fig = plt.figure(figsize = (6, 6))\n",
    "ax = fig.add_subplot(111, projection='3d')\n",
    "ax.scatter(*xyz_segment[:200].T, c=\"green\", marker=\".\")\n",
    "ax.scatter(*xyz_out_segment[:800].T, marker=\".\")\n",
    "ax.set_xlabel('X')\n",
    "ax.set_ylabel('Y')\n",
    "ax.set_zlabel('Z')\n",
    "ax.set_xlim(-1, 1)\n",
    "ax.set_ylim(-1, 1)\n",
    "ax.set_zlim(-1, 1)\n",
    "plt.show()"
   ]
  },
  {
   "cell_type": "code",
   "execution_count": null,
   "id": "6686b8ba",
   "metadata": {},
   "outputs": [],
   "source": [
    "segment_theta = np.array(segment).T[2] # Select TPhi\n",
    "hist = np.histogram(segment_theta, bins=100)\n",
    "segment_theta.shape"
   ]
  },
  {
   "cell_type": "code",
   "execution_count": null,
   "id": "8bb1d0cb",
   "metadata": {},
   "outputs": [],
   "source": [
    "theta = hist[1][:100]\n",
    "radii = hist[0]"
   ]
  },
  {
   "cell_type": "code",
   "execution_count": null,
   "id": "b8fcab4f",
   "metadata": {},
   "outputs": [],
   "source": [
    "fig, ax = plt.subplots(subplot_kw={'projection': 'polar'})\n",
    "ax.plot(theta, radii)\n",
    "ax.set_title(\"Диаграмма направленности рентгеновского излучения.\", va='bottom')\n",
    "plt.show()"
   ]
  },
  {
   "cell_type": "markdown",
   "id": "291e8f7a",
   "metadata": {},
   "source": [
    "### Диаграмма по шаровому поясу"
   ]
  },
  {
   "cell_type": "code",
   "execution_count": null,
   "id": "6fbbf45d",
   "metadata": {},
   "outputs": [],
   "source": [
    "xyz_e = data[data[\"particle_name\"]==\"gamma\"]\n",
    "xdata = xyz_e[\"X\"].to_numpy()\n",
    "ydata = xyz_e[\"Y\"].to_numpy()\n",
    "zdata = xyz_e[\"Z\"].to_numpy()\n",
    "endata = xyz_e[\"energy\"].to_numpy()\n",
    "xyz = np.array([xdata, ydata, zdata]).T"
   ]
  },
  {
   "cell_type": "code",
   "execution_count": null,
   "id": "64019689",
   "metadata": {},
   "outputs": [],
   "source": [
    "ang = -np.pi/2 # 45 градусов\n",
    "def rotate(nxyz: np.array, axis: str, ang):\n",
    "    assert nxyz.shape[1] == 3 # shape == (N, 3)\n",
    "    Mx = [[1, 0, 0], [0, np.cos(ang), -np.sin(ang)], [0, np.sin(ang), np.cos(ang)]]\n",
    "    My = [[np.cos(ang), 0, np.sin(ang)], [0, 1, 0], [-np.sin(ang), 0, np.cos(ang)]]\n",
    "    Mz = [[np.cos(ang), -np.sin(ang), 0], [np.sin(ang), np.cos(ang), 0], [0, 0, 1]]\n",
    "    M = {\"X\":Mx, \"Y\":My, \"Z\":Mz}\n",
    "    return np.array([np.matmul(point, M[axis]) for point in nxyz])"
   ]
  },
  {
   "cell_type": "code",
   "execution_count": null,
   "id": "cc04bb79",
   "metadata": {},
   "outputs": [],
   "source": [
    "xyz = rotate(xyz, \"X\", np.pi)"
   ]
  },
  {
   "cell_type": "code",
   "execution_count": null,
   "id": "cc450730",
   "metadata": {},
   "outputs": [],
   "source": [
    "xyz.shape"
   ]
  },
  {
   "cell_type": "code",
   "execution_count": null,
   "id": "44055377",
   "metadata": {},
   "outputs": [],
   "source": [
    "fig = plt.figure(figsize = (6, 6))\n",
    "ax = fig.add_subplot(111, projection='3d')\n",
    "ax.scatter(xyz[:1500,0],\n",
    "           xyz[:1500,1],\n",
    "           xyz[:1500,2], marker=\".\")\n",
    "ax.set_xlabel('X')\n",
    "ax.set_ylabel('Y')\n",
    "ax.set_zlabel('Z')\n",
    "plt.show()"
   ]
  },
  {
   "cell_type": "markdown",
   "id": "89a26dd5",
   "metadata": {},
   "source": [
    "Подсчёт по кольцам"
   ]
  },
  {
   "cell_type": "code",
   "execution_count": null,
   "id": "670fad94",
   "metadata": {},
   "outputs": [],
   "source": [
    "nrθφ = cart2sph(xyz)"
   ]
  },
  {
   "cell_type": "code",
   "execution_count": null,
   "id": "32920d2f",
   "metadata": {},
   "outputs": [],
   "source": [
    "segments = [], []\n",
    "dθ = np.pi/12\n",
    "for r, theta, phi in nrθφ:\n",
    "    if θ_from<theta and theta<θ_to:\n",
    "        segment.append((1, theta, phi))\n",
    "    else:\n",
    "        out_segment.append((1, theta, phi))\n",
    "\n",
    "xyz_segment = sph2cart(np.array(segment))\n",
    "xyz_out_segment = sph2cart(np.array(out_segment))"
   ]
  }
 ],
 "metadata": {
  "kernelspec": {
   "display_name": "Python 3 (ipykernel)",
   "language": "python",
   "name": "python3"
  },
  "language_info": {
   "codemirror_mode": {
    "name": "ipython",
    "version": 3
   },
   "file_extension": ".py",
   "mimetype": "text/x-python",
   "name": "python",
   "nbconvert_exporter": "python",
   "pygments_lexer": "ipython3",
   "version": "3.8.10"
  }
 },
 "nbformat": 4,
 "nbformat_minor": 5
}
