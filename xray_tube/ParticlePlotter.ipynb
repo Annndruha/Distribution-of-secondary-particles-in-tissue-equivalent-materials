{
 "cells": [
  {
   "cell_type": "markdown",
   "id": "6b9ffe9f",
   "metadata": {},
   "source": [
    "### Парсинг данных и создание датафрейма"
   ]
  },
  {
   "cell_type": "code",
   "execution_count": null,
   "id": "attended-bermuda",
   "metadata": {},
   "outputs": [],
   "source": [
    "import os\n",
    "import pandas as pd\n",
    "import numpy as np\n",
    "import glob\n",
    "import matplotlib.pyplot as plt\n",
    "\n",
    "%matplotlib notebook"
   ]
  },
  {
   "cell_type": "code",
   "execution_count": null,
   "id": "cf91d50c",
   "metadata": {},
   "outputs": [],
   "source": [
    "paths = glob.glob(f\"build/*ParticleData_t*.csv\")"
   ]
  },
  {
   "cell_type": "code",
   "execution_count": null,
   "id": "b50bbf71",
   "metadata": {},
   "outputs": [],
   "source": [
    "# Вытаскиваем из первого файла названия столбцов\n",
    "with open(paths[0], 'r') as f:\n",
    "    lines = []\n",
    "    while True:\n",
    "        line = f.readline()\n",
    "        if line[0] != '#':\n",
    "            break\n",
    "        lines.append(line)\n",
    "    title = lines[1].replace('#title ', '')[:-1]                        # переделать через regex\n",
    "    sep = chr(int(lines[2].replace('#separator ', '')[:-1]))            # переделать через regex\n",
    "    vsc_sep = chr(int(lines[3].replace('#vector_separator ', '')[:-1])) # переделать через regex\n",
    "    columns = [' '.join(i.split(' ')[2:])[:-1] for i in lines[4:]]\n",
    "    metarows_len = len(lines)"
   ]
  },
  {
   "cell_type": "code",
   "execution_count": null,
   "id": "printable-moral",
   "metadata": {},
   "outputs": [],
   "source": [
    "data = pd.DataFrame()\n",
    "for path in paths:\n",
    "    item = pd.read_csv(path, skiprows=metarows_len, names=columns)\n",
    "    data = data.append(item, ignore_index=True)"
   ]
  },
  {
   "cell_type": "code",
   "execution_count": null,
   "id": "87cdaca3",
   "metadata": {},
   "outputs": [],
   "source": [
    "data"
   ]
  },
  {
   "cell_type": "code",
   "execution_count": null,
   "id": "52c7b9d5",
   "metadata": {},
   "outputs": [],
   "source": [
    "set(data[\"particle_name\"])"
   ]
  },
  {
   "cell_type": "code",
   "execution_count": null,
   "id": "99f98aab",
   "metadata": {},
   "outputs": [],
   "source": [
    "len(data[data[\"particle_name\"]==\"e-\"])"
   ]
  },
  {
   "cell_type": "code",
   "execution_count": null,
   "id": "c2090eaf",
   "metadata": {},
   "outputs": [],
   "source": [
    "len(data[data[\"particle_name\"]==\"gamma\"])"
   ]
  },
  {
   "cell_type": "markdown",
   "id": "0f38ef13",
   "metadata": {},
   "source": [
    "### Преобразование к полярным координатам"
   ]
  },
  {
   "cell_type": "code",
   "execution_count": null,
   "id": "bd602f23",
   "metadata": {},
   "outputs": [],
   "source": [
    "xyz_e = data[data[\"particle_name\"]==\"gamma\"][:1000]\n",
    "xdata = xyz_e[\"X\"].to_numpy()\n",
    "ydata = xyz_e[\"Y\"].to_numpy()\n",
    "zdata = xyz_e[\"Z\"].to_numpy()\n",
    "xyz = np.array([xdata, ydata, zdata]).T"
   ]
  },
  {
   "cell_type": "code",
   "execution_count": null,
   "id": "a947a901",
   "metadata": {},
   "outputs": [],
   "source": [
    "# Я это писал 6 часов, поскольку не думал что формулы из вики или матанализа не работают\n",
    "def cart2sph(n_xyz: np.array, trh=10**-9):\n",
    "    ra, θa, φa = [], [], []\n",
    "    for x, y, z in n_xyz:\n",
    "        r = np.sqrt(x**2 + y**2 + z**2)\n",
    "        θ = 0. if np.abs(r) < trh else np.arccos(z/r)\n",
    "        if x>0 and y>0:\n",
    "            φ = np.arctan(y/x)\n",
    "        elif np.abs(x) < trh and y>0:\n",
    "            φ = np.pi/2\n",
    "        elif x<0 and y>0:\n",
    "            φ = np.pi + np.arctan(y/x)\n",
    "        elif x<0 and y<0:\n",
    "            φ = np.pi + np.arctan(y/x)\n",
    "        elif np.abs(x) < trh and y<0:\n",
    "            φ = np.pi*3/4\n",
    "        elif x>0 and y<0:\n",
    "            φ = 2*np.pi + np.arctan(y/x)\n",
    "        elif np.abs(x) < trh and np.abs(y) < trh:\n",
    "            φ = 0.\n",
    "        ra.append(r)\n",
    "        θa.append(θ)\n",
    "        φa.append(φ)\n",
    "    return np.array([ra, θa, φa]).T\n",
    "\n",
    "def sph2cart(n_rθφ: np.array):\n",
    "    n_rθφ[:, 2] = n_rθφ[:, 2] % (2*np.pi)\n",
    "    n_rθφ[:, 1] = n_rθφ[:, 1] % (np.pi)\n",
    "    x = n_rθφ[:, 0] * np.sin(n_rθφ[:, 1]) * np.cos(n_rθφ[:, 2])\n",
    "    y = n_rθφ[:, 0] * np.sin(n_rθφ[:, 1]) * np.sin(n_rθφ[:, 2])\n",
    "    z = n_rθφ[:, 0] * np.cos(n_rθφ[:, 1])\n",
    "    return np.array([x, y, z]).T"
   ]
  },
  {
   "cell_type": "code",
   "execution_count": null,
   "id": "06e75f50",
   "metadata": {},
   "outputs": [],
   "source": [
    "nrθφ = cart2sph(xyz)"
   ]
  },
  {
   "cell_type": "code",
   "execution_count": null,
   "id": "dd79f9ca",
   "metadata": {},
   "outputs": [],
   "source": [
    "print(f\"θ range: {min(nrθφ[:,1])} to {max(nrθφ[:,1])}\")\n",
    "print(f\"φ range: {min(nrθφ[:,2])} to {max(nrθφ[:,2])}\")"
   ]
  },
  {
   "cell_type": "markdown",
   "id": "7bd8f7f5",
   "metadata": {},
   "source": [
    "### Выбор интересующей области"
   ]
  },
  {
   "cell_type": "code",
   "execution_count": null,
   "id": "22b299cc",
   "metadata": {},
   "outputs": [],
   "source": [
    "θ_from = np.pi/2-np.pi/10\n",
    "θ_to = np.pi/2+np.pi/10."
   ]
  },
  {
   "cell_type": "code",
   "execution_count": null,
   "id": "5e2e0186",
   "metadata": {},
   "outputs": [],
   "source": [
    "segment, out_segment = [], []\n",
    "i = 0\n",
    "j = 0\n",
    "for r, theta, phi in nrθφ:\n",
    "    if θ_from<theta and theta<θ_to:\n",
    "        segment.append((1, theta, phi))\n",
    "        i += 1\n",
    "    else:\n",
    "        out_segment.append((1, theta, phi))\n",
    "        j += 1\n",
    "    \n",
    "xyz_segment = sph2cart(np.array(segment))\n",
    "xyz_out_segment = sph2cart(np.array(out_segment))"
   ]
  },
  {
   "cell_type": "code",
   "execution_count": null,
   "id": "bdaaaf1c",
   "metadata": {},
   "outputs": [],
   "source": [
    "fig = plt.figure(figsize = (6, 6))\n",
    "ax = fig.add_subplot(111, projection='3d')\n",
    "ax.scatter(*xyz_segment.T, c=\"red\")\n",
    "ax.scatter(*xyz_out_segment.T, c=\"blue\")\n",
    "ax.set_xlabel('X Label')\n",
    "ax.set_ylabel('Y Label')\n",
    "ax.set_zlabel('Z Label')\n",
    "ax.set_xlim(-1, 1)\n",
    "ax.set_ylim(-1, 1)\n",
    "ax.set_zlim(-1, 1)\n",
    "plt.show()"
   ]
  },
  {
   "cell_type": "code",
   "execution_count": null,
   "id": "6686b8ba",
   "metadata": {},
   "outputs": [],
   "source": [
    "segment_theta = np.array(segment).T[1] # Select phi\n",
    "hist = np.histogram(segment_theta, bins=100)\n",
    "segment_theta.shape"
   ]
  },
  {
   "cell_type": "code",
   "execution_count": null,
   "id": "8bb1d0cb",
   "metadata": {},
   "outputs": [],
   "source": [
    "theta = hist[1][:100]\n",
    "radii = hist[0]"
   ]
  },
  {
   "cell_type": "code",
   "execution_count": null,
   "id": "b8fcab4f",
   "metadata": {},
   "outputs": [],
   "source": [
    "fig, ax = plt.subplots(subplot_kw={'projection': 'polar'})\n",
    "ax.plot(theta, radii)\n",
    "ax.set_title(\"Диаграмма направленности рентгеновского излучения.\", va='bottom')\n",
    "plt.show()"
   ]
  },
  {
   "cell_type": "code",
   "execution_count": null,
   "id": "04443f78",
   "metadata": {},
   "outputs": [],
   "source": []
  }
 ],
 "metadata": {
  "kernelspec": {
   "display_name": "Python 3 (ipykernel)",
   "language": "python",
   "name": "python3"
  },
  "language_info": {
   "codemirror_mode": {
    "name": "ipython",
    "version": 3
   },
   "file_extension": ".py",
   "mimetype": "text/x-python",
   "name": "python",
   "nbconvert_exporter": "python",
   "pygments_lexer": "ipython3",
   "version": "3.8.10"
  }
 },
 "nbformat": 4,
 "nbformat_minor": 5
}
