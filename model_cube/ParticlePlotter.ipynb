{
 "cells": [
  {
   "cell_type": "markdown",
   "id": "6b9ffe9f",
   "metadata": {},
   "source": [
    "### Парсинг данных и создание датафрейма"
   ]
  },
  {
   "cell_type": "code",
   "execution_count": 1,
   "id": "attended-bermuda",
   "metadata": {},
   "outputs": [],
   "source": [
    "import os\n",
    "import pandas as pd\n",
    "import numpy as np\n",
    "import glob\n",
    "import matplotlib.pyplot as plt"
   ]
  },
  {
   "cell_type": "code",
   "execution_count": 32,
   "id": "cf91d50c",
   "metadata": {},
   "outputs": [],
   "source": [
    "runN = \"*\" # If take all runs set runN = \"*\"\n",
    "paths = glob.glob(f\"build/Run{runN}_nt_ParticleData_t*.csv\") #accel_data_secondary"
   ]
  },
  {
   "cell_type": "code",
   "execution_count": 33,
   "id": "b50bbf71",
   "metadata": {},
   "outputs": [
    {
     "name": "stdout",
     "output_type": "stream",
     "text": [
      "Headers from file: build/Run0_nt_ParticleData_t8.csv\n"
     ]
    }
   ],
   "source": [
    "with open(paths[0], 'r') as f:\n",
    "    print(f\"Headers from file: {paths[0]}\")\n",
    "\n",
    "    hlines = []\n",
    "    while True:\n",
    "        line = f.readline()\n",
    "        if len(line) == 0 or line[0] != '#':\n",
    "            break\n",
    "        hlines.append(line)\n",
    "    title = hlines[1].replace('#title ', '')[:-1]\n",
    "    sep = chr(int(hlines[2].replace('#separator ', '')[:-1]))\n",
    "    vsc_sep = chr(int(hlines[3].replace('#vector_separator ', '')[:-1]))\n",
    "    columns = [' '.join(l.split(' ')[2:])[:-1] for l in hlines[4:]]\n",
    "    meta_len = len(hlines)\n",
    "    # print(f'Metarows: {meta_len}\\nColumns: {columns}')"
   ]
  },
  {
   "cell_type": "code",
   "execution_count": 34,
   "id": "printable-moral",
   "metadata": {},
   "outputs": [],
   "source": [
    "data = pd.DataFrame()\n",
    "for path in paths[:10]:\n",
    "    item = pd.read_csv(path, skiprows=meta_len, names=columns)\n",
    "    data = pd.concat([data, item], ignore_index=True)"
   ]
  },
  {
   "cell_type": "code",
   "execution_count": 35,
   "id": "948b6d2f",
   "metadata": {},
   "outputs": [
    {
     "data": {
      "text/plain": [
       "6240668"
      ]
     },
     "execution_count": 35,
     "metadata": {},
     "output_type": "execute_result"
    }
   ],
   "source": [
    "len(data)"
   ]
  },
  {
   "cell_type": "code",
   "execution_count": 36,
   "id": "c0244ce6",
   "metadata": {},
   "outputs": [
    {
     "data": {
      "text/html": [
       "<div>\n",
       "<style scoped>\n",
       "    .dataframe tbody tr th:only-of-type {\n",
       "        vertical-align: middle;\n",
       "    }\n",
       "\n",
       "    .dataframe tbody tr th {\n",
       "        vertical-align: top;\n",
       "    }\n",
       "\n",
       "    .dataframe thead th {\n",
       "        text-align: right;\n",
       "    }\n",
       "</style>\n",
       "<table border=\"1\" class=\"dataframe\">\n",
       "  <thead>\n",
       "    <tr style=\"text-align: right;\">\n",
       "      <th></th>\n",
       "      <th>particle_name</th>\n",
       "      <th>creator_process</th>\n",
       "      <th>parentID</th>\n",
       "      <th>energy</th>\n",
       "      <th>z</th>\n",
       "      <th>dE</th>\n",
       "    </tr>\n",
       "  </thead>\n",
       "  <tbody>\n",
       "    <tr>\n",
       "      <th>0</th>\n",
       "      <td>e-</td>\n",
       "      <td>compt</td>\n",
       "      <td>1</td>\n",
       "      <td>0.019490</td>\n",
       "      <td>1.36201</td>\n",
       "      <td>0.000871</td>\n",
       "    </tr>\n",
       "    <tr>\n",
       "      <th>1</th>\n",
       "      <td>e-</td>\n",
       "      <td>compt</td>\n",
       "      <td>1</td>\n",
       "      <td>0.000000</td>\n",
       "      <td>1.36197</td>\n",
       "      <td>0.019490</td>\n",
       "    </tr>\n",
       "    <tr>\n",
       "      <th>2</th>\n",
       "      <td>e-</td>\n",
       "      <td>compt</td>\n",
       "      <td>1</td>\n",
       "      <td>0.100797</td>\n",
       "      <td>4.17628</td>\n",
       "      <td>0.005162</td>\n",
       "    </tr>\n",
       "    <tr>\n",
       "      <th>3</th>\n",
       "      <td>e-</td>\n",
       "      <td>compt</td>\n",
       "      <td>1</td>\n",
       "      <td>0.073536</td>\n",
       "      <td>4.17662</td>\n",
       "      <td>0.027262</td>\n",
       "    </tr>\n",
       "    <tr>\n",
       "      <th>4</th>\n",
       "      <td>e-</td>\n",
       "      <td>compt</td>\n",
       "      <td>1</td>\n",
       "      <td>0.060872</td>\n",
       "      <td>4.17709</td>\n",
       "      <td>0.012663</td>\n",
       "    </tr>\n",
       "    <tr>\n",
       "      <th>...</th>\n",
       "      <td>...</td>\n",
       "      <td>...</td>\n",
       "      <td>...</td>\n",
       "      <td>...</td>\n",
       "      <td>...</td>\n",
       "      <td>...</td>\n",
       "    </tr>\n",
       "    <tr>\n",
       "      <th>6240663</th>\n",
       "      <td>e-</td>\n",
       "      <td>compt</td>\n",
       "      <td>1</td>\n",
       "      <td>0.058656</td>\n",
       "      <td>-8.22958</td>\n",
       "      <td>0.015636</td>\n",
       "    </tr>\n",
       "    <tr>\n",
       "      <th>6240664</th>\n",
       "      <td>e-</td>\n",
       "      <td>compt</td>\n",
       "      <td>1</td>\n",
       "      <td>0.049009</td>\n",
       "      <td>-8.23210</td>\n",
       "      <td>0.009647</td>\n",
       "    </tr>\n",
       "    <tr>\n",
       "      <th>6240665</th>\n",
       "      <td>e-</td>\n",
       "      <td>compt</td>\n",
       "      <td>1</td>\n",
       "      <td>0.035212</td>\n",
       "      <td>-8.23303</td>\n",
       "      <td>0.013797</td>\n",
       "    </tr>\n",
       "    <tr>\n",
       "      <th>6240666</th>\n",
       "      <td>e-</td>\n",
       "      <td>compt</td>\n",
       "      <td>1</td>\n",
       "      <td>0.018566</td>\n",
       "      <td>-8.23300</td>\n",
       "      <td>0.016645</td>\n",
       "    </tr>\n",
       "    <tr>\n",
       "      <th>6240667</th>\n",
       "      <td>e-</td>\n",
       "      <td>compt</td>\n",
       "      <td>1</td>\n",
       "      <td>0.000000</td>\n",
       "      <td>-8.23364</td>\n",
       "      <td>0.018566</td>\n",
       "    </tr>\n",
       "  </tbody>\n",
       "</table>\n",
       "<p>6240668 rows × 6 columns</p>\n",
       "</div>"
      ],
      "text/plain": [
       "        particle_name creator_process  parentID    energy        z        dE\n",
       "0                  e-           compt         1  0.019490  1.36201  0.000871\n",
       "1                  e-           compt         1  0.000000  1.36197  0.019490\n",
       "2                  e-           compt         1  0.100797  4.17628  0.005162\n",
       "3                  e-           compt         1  0.073536  4.17662  0.027262\n",
       "4                  e-           compt         1  0.060872  4.17709  0.012663\n",
       "...               ...             ...       ...       ...      ...       ...\n",
       "6240663            e-           compt         1  0.058656 -8.22958  0.015636\n",
       "6240664            e-           compt         1  0.049009 -8.23210  0.009647\n",
       "6240665            e-           compt         1  0.035212 -8.23303  0.013797\n",
       "6240666            e-           compt         1  0.018566 -8.23300  0.016645\n",
       "6240667            e-           compt         1  0.000000 -8.23364  0.018566\n",
       "\n",
       "[6240668 rows x 6 columns]"
      ]
     },
     "execution_count": 36,
     "metadata": {},
     "output_type": "execute_result"
    }
   ],
   "source": [
    "data"
   ]
  },
  {
   "cell_type": "code",
   "execution_count": 55,
   "id": "26fda50c",
   "metadata": {},
   "outputs": [
    {
     "data": {
      "text/html": [
       "<div>\n",
       "<style scoped>\n",
       "    .dataframe tbody tr th:only-of-type {\n",
       "        vertical-align: middle;\n",
       "    }\n",
       "\n",
       "    .dataframe tbody tr th {\n",
       "        vertical-align: top;\n",
       "    }\n",
       "\n",
       "    .dataframe thead th {\n",
       "        text-align: right;\n",
       "    }\n",
       "</style>\n",
       "<table border=\"1\" class=\"dataframe\">\n",
       "  <thead>\n",
       "    <tr style=\"text-align: right;\">\n",
       "      <th></th>\n",
       "      <th>name</th>\n",
       "      <th>count</th>\n",
       "      <th>percent</th>\n",
       "    </tr>\n",
       "  </thead>\n",
       "  <tbody>\n",
       "    <tr>\n",
       "      <th>0</th>\n",
       "      <td>e+</td>\n",
       "      <td>78045</td>\n",
       "      <td>1.250587</td>\n",
       "    </tr>\n",
       "    <tr>\n",
       "      <th>1</th>\n",
       "      <td>N15</td>\n",
       "      <td>3</td>\n",
       "      <td>0.000048</td>\n",
       "    </tr>\n",
       "    <tr>\n",
       "      <th>2</th>\n",
       "      <td>e-</td>\n",
       "      <td>5965429</td>\n",
       "      <td>95.589591</td>\n",
       "    </tr>\n",
       "    <tr>\n",
       "      <th>3</th>\n",
       "      <td>O16</td>\n",
       "      <td>2949</td>\n",
       "      <td>0.047255</td>\n",
       "    </tr>\n",
       "    <tr>\n",
       "      <th>4</th>\n",
       "      <td>alpha</td>\n",
       "      <td>29</td>\n",
       "      <td>0.000465</td>\n",
       "    </tr>\n",
       "    <tr>\n",
       "      <th>5</th>\n",
       "      <td>neutron</td>\n",
       "      <td>25</td>\n",
       "      <td>0.000401</td>\n",
       "    </tr>\n",
       "    <tr>\n",
       "      <th>6</th>\n",
       "      <td>deuteron</td>\n",
       "      <td>1</td>\n",
       "      <td>0.000016</td>\n",
       "    </tr>\n",
       "    <tr>\n",
       "      <th>7</th>\n",
       "      <td>gamma</td>\n",
       "      <td>194091</td>\n",
       "      <td>3.110100</td>\n",
       "    </tr>\n",
       "    <tr>\n",
       "      <th>8</th>\n",
       "      <td>C12</td>\n",
       "      <td>17</td>\n",
       "      <td>0.000272</td>\n",
       "    </tr>\n",
       "    <tr>\n",
       "      <th>9</th>\n",
       "      <td>O18</td>\n",
       "      <td>6</td>\n",
       "      <td>0.000096</td>\n",
       "    </tr>\n",
       "    <tr>\n",
       "      <th>10</th>\n",
       "      <td>O15</td>\n",
       "      <td>1</td>\n",
       "      <td>0.000016</td>\n",
       "    </tr>\n",
       "    <tr>\n",
       "      <th>11</th>\n",
       "      <td>proton</td>\n",
       "      <td>72</td>\n",
       "      <td>0.001154</td>\n",
       "    </tr>\n",
       "  </tbody>\n",
       "</table>\n",
       "</div>"
      ],
      "text/plain": [
       "        name    count    percent\n",
       "0         e+    78045   1.250587\n",
       "1        N15        3   0.000048\n",
       "2         e-  5965429  95.589591\n",
       "3        O16     2949   0.047255\n",
       "4      alpha       29   0.000465\n",
       "5    neutron       25   0.000401\n",
       "6   deuteron        1   0.000016\n",
       "7      gamma   194091   3.110100\n",
       "8        C12       17   0.000272\n",
       "9        O18        6   0.000096\n",
       "10       O15        1   0.000016\n",
       "11    proton       72   0.001154"
      ]
     },
     "execution_count": 55,
     "metadata": {},
     "output_type": "execute_result"
    }
   ],
   "source": [
    "l = len(data)\n",
    "res = []\n",
    "for name in set(data['particle_name']):\n",
    "    count = len(data[data['particle_name'] == name])\n",
    "    res.append((name, count, count/l*100))\n",
    "    \n",
    "pd.DataFrame(res, columns=['name', 'count', 'percent'])"
   ]
  },
  {
   "cell_type": "code",
   "execution_count": 62,
   "id": "d3e6e7da",
   "metadata": {},
   "outputs": [
    {
     "name": "stderr",
     "output_type": "stream",
     "text": [
      "/tmp/ipykernel_12458/2208960678.py:6: UserWarning: Boolean Series key will be reindexed to match DataFrame index.\n",
      "  bin_data = nfilt[nfilt['z']>b][nfilt['z']<borders[i+1]]\n"
     ]
    },
    {
     "data": {
      "image/png": "[encoded data removed]",
      "text/plain": [
       "<Figure size 432x288 with 1 Axes>"
      ]
     },
     "metadata": {
      "needs_background": "light"
     },
     "output_type": "display_data"
    }
   ],
   "source": [
    "for name in ['gamma', 'e-', 'e+']:\n",
    "    nfilt = data[data['particle_name'] == name]\n",
    "    bins = []\n",
    "    borders = np.linspace(-20, 20, 100)\n",
    "    for i, b in enumerate(borders[:-1]):\n",
    "        bin_data = nfilt[nfilt['z']>b][nfilt['z']<borders[i+1]]\n",
    "        bins.append(sum(bin_data['dE']))\n",
    "    plt.scatter(np.array(borders[:-1])+20, np.array(bins)/sum(np.array(bins)), s=2, label=name)\n",
    "    plt.xlim([0, plt.xlim()[1]])\n",
    "    plt.ylim([0, plt.ylim()[1]])\n",
    "    # plt.yscale('log')\n",
    "    plt.legend()\n",
    "    plt.ylabel('Доза, норм. ед.')\n",
    "    plt.xlabel('Глубина, см')\n",
    "plt.show()"
   ]
  },
  {
   "cell_type": "code",
   "execution_count": 6,
   "id": "095eac67",
   "metadata": {},
   "outputs": [
    {
     "data": {
      "text/plain": [
       "{'annihil',\n",
       " 'compt',\n",
       " 'conv',\n",
       " 'eBrem',\n",
       " 'eIoni',\n",
       " 'hadElastic',\n",
       " 'phot',\n",
       " 'photonNuclear'}"
      ]
     },
     "execution_count": 6,
     "metadata": {},
     "output_type": "execute_result"
    }
   ],
   "source": [
    "set(data['creator_process'])"
   ]
  },
  {
   "cell_type": "code",
   "execution_count": 14,
   "id": "2f68cab1",
   "metadata": {},
   "outputs": [],
   "source": [
    "pnames = {'annihil':'Аннигиляция',\n",
    " 'compt':'Комптон-эффект',\n",
    " 'conv':'Обратная аннигиляция',\n",
    " 'eBrem':'Тормозное излучение',\n",
    " 'eIoni':'Ионизационные потери',\n",
    " 'hadElastic':'?',\n",
    " 'phot':'Фотоэффект',\n",
    " 'photonNuclear':'?'}"
   ]
  },
  {
   "cell_type": "markdown",
   "id": "6a606c94",
   "metadata": {},
   "source": [
    "e - elecron, Brem - тормозное излучение, Ionic - ионизационные потери (неупругое)\n",
    "\n",
    "conv - обратная аннигилияция (фотоны в электроны и позитроны)\n",
    "\n",
    "annihil - аннигилиция\n",
    "\n",
    "phot - фотоэффект"
   ]
  },
  {
   "cell_type": "code",
   "execution_count": 7,
   "id": "dc2d9778",
   "metadata": {},
   "outputs": [
    {
     "data": {
      "text/html": [
       "<div>\n",
       "<style scoped>\n",
       "    .dataframe tbody tr th:only-of-type {\n",
       "        vertical-align: middle;\n",
       "    }\n",
       "\n",
       "    .dataframe tbody tr th {\n",
       "        vertical-align: top;\n",
       "    }\n",
       "\n",
       "    .dataframe thead th {\n",
       "        text-align: right;\n",
       "    }\n",
       "</style>\n",
       "<table border=\"1\" class=\"dataframe\">\n",
       "  <thead>\n",
       "    <tr style=\"text-align: right;\">\n",
       "      <th></th>\n",
       "      <th>particle_name</th>\n",
       "      <th>creator_process</th>\n",
       "      <th>parentID</th>\n",
       "      <th>energy</th>\n",
       "    </tr>\n",
       "  </thead>\n",
       "  <tbody>\n",
       "    <tr>\n",
       "      <th>0</th>\n",
       "      <td>e-</td>\n",
       "      <td>compt</td>\n",
       "      <td>1</td>\n",
       "      <td>0.014900</td>\n",
       "    </tr>\n",
       "    <tr>\n",
       "      <th>1</th>\n",
       "      <td>e-</td>\n",
       "      <td>compt</td>\n",
       "      <td>1</td>\n",
       "      <td>0.000000</td>\n",
       "    </tr>\n",
       "    <tr>\n",
       "      <th>2</th>\n",
       "      <td>e-</td>\n",
       "      <td>compt</td>\n",
       "      <td>1</td>\n",
       "      <td>0.000249</td>\n",
       "    </tr>\n",
       "    <tr>\n",
       "      <th>3</th>\n",
       "      <td>e-</td>\n",
       "      <td>compt</td>\n",
       "      <td>1</td>\n",
       "      <td>0.000000</td>\n",
       "    </tr>\n",
       "    <tr>\n",
       "      <th>4</th>\n",
       "      <td>gamma</td>\n",
       "      <td>eBrem</td>\n",
       "      <td>1</td>\n",
       "      <td>0.047696</td>\n",
       "    </tr>\n",
       "  </tbody>\n",
       "</table>\n",
       "</div>"
      ],
      "text/plain": [
       "  particle_name creator_process  parentID    energy\n",
       "0            e-           compt         1  0.014900\n",
       "1            e-           compt         1  0.000000\n",
       "2            e-           compt         1  0.000249\n",
       "3            e-           compt         1  0.000000\n",
       "4         gamma           eBrem         1  0.047696"
      ]
     },
     "execution_count": 7,
     "metadata": {},
     "output_type": "execute_result"
    }
   ],
   "source": [
    "data.head()"
   ]
  },
  {
   "cell_type": "code",
   "execution_count": null,
   "id": "4cc5b0a4",
   "metadata": {},
   "outputs": [],
   "source": []
  },
  {
   "cell_type": "code",
   "execution_count": 22,
   "id": "87cdaca3",
   "metadata": {},
   "outputs": [],
   "source": [
    "filt = data[data['parentID'] != 0] # Вторичные частицы\n",
    "\n",
    "filt = filt[filt['creator_process'] != 'user']\n",
    "# filt = filt[filt['particle_name'] == 'gamma'] # Вторичные электроны"
   ]
  },
  {
   "cell_type": "code",
   "execution_count": 7,
   "id": "422df63a",
   "metadata": {},
   "outputs": [
    {
     "data": {
      "text/plain": [
       "61200423"
      ]
     },
     "execution_count": 7,
     "metadata": {},
     "output_type": "execute_result"
    }
   ],
   "source": [
    "len(filt)"
   ]
  },
  {
   "cell_type": "code",
   "execution_count": 24,
   "id": "15f49822",
   "metadata": {},
   "outputs": [],
   "source": [
    "# for process in ['eIoni', 'compt', 'conv', 'phot']:\n",
    "#     proc_data = filt[filt['creator_process'] == process]\n",
    "#     # n, e, _ = plt.hist(proc_data['energy'], bins=100)\n",
    "#     n, e = np.histogram(proc_data['energy'], bins=100)\n",
    "#     plt.plot(e[:-1], n/(0.5*10**7), label=pnames[process]) # \n",
    "# plt.legend()\n",
    "# plt.yscale('log')\n",
    "# plt.ylabel('Количество частиц')\n",
    "# plt.xlabel('Энергия, МэВ')\n",
    "# plt.show()"
   ]
  },
  {
   "cell_type": "code",
   "execution_count": 23,
   "id": "b99c1343",
   "metadata": {},
   "outputs": [
    {
     "data": {
      "image/png": "[encoded data removed]",
      "text/plain": [
       "<Figure size 432x288 with 1 Axes>"
      ]
     },
     "metadata": {
      "needs_background": "light"
     },
     "output_type": "display_data"
    }
   ],
   "source": [
    "n, e = np.histogram(filt['energy'], bins=100)\n",
    "n, e = n[:-10], e[:-11]\n",
    "plt.plot(e, n/(0.5*10**7))\n",
    "#plt.xlim([0, 20])\n",
    "#plt.legend()\n",
    "plt.yscale('log')\n",
    "plt.ylabel('Количество частиц')\n",
    "plt.xlabel('Энергия, МэВ')\n",
    "plt.show()"
   ]
  },
  {
   "cell_type": "code",
   "execution_count": null,
   "id": "9a08f707",
   "metadata": {},
   "outputs": [],
   "source": []
  }
 ],
 "metadata": {
  "kernelspec": {
   "display_name": "Python 3 (ipykernel)",
   "language": "python",
   "name": "python3"
  },
  "language_info": {
   "codemirror_mode": {
    "name": "ipython",
    "version": 3
   },
   "file_extension": ".py",
   "mimetype": "text/x-python",
   "name": "python",
   "nbconvert_exporter": "python",
   "pygments_lexer": "ipython3",
   "version": "3.10.4"
  }
 },
 "nbformat": 4,
 "nbformat_minor": 5
}
