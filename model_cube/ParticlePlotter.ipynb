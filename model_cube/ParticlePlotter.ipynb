{
 "cells": [
  {
   "cell_type": "markdown",
   "id": "6b9ffe9f",
   "metadata": {},
   "source": [
    "### Парсинг данных и создание датафрейма"
   ]
  },
  {
   "cell_type": "code",
   "execution_count": 1,
   "id": "attended-bermuda",
   "metadata": {},
   "outputs": [],
   "source": [
    "import os\n",
    "import pandas as pd\n",
    "import numpy as np\n",
    "import glob\n",
    "import matplotlib.pyplot as plt\n",
    "\n",
    "# %matplotlib notebook"
   ]
  },
  {
   "cell_type": "code",
   "execution_count": 2,
   "id": "cf91d50c",
   "metadata": {},
   "outputs": [],
   "source": [
    "runN = \"*\" # If take all runs set runN = \"*\"\n",
    "paths = glob.glob(f\"build/Run{runN}_nt_ParticleData_t*.csv\")"
   ]
  },
  {
   "cell_type": "code",
   "execution_count": 3,
   "id": "b50bbf71",
   "metadata": {},
   "outputs": [
    {
     "name": "stdout",
     "output_type": "stream",
     "text": [
      "Headers from file: build/Run0_nt_ParticleData_t3.csv\n",
      "Metarows: 8\n",
      "Columns: ['particle_name', 'creator_process', 'parentID', 'energy']\n"
     ]
    }
   ],
   "source": [
    "with open(paths[0], 'r') as f:\n",
    "    print(f\"Headers from file: {paths[0]}\")\n",
    "    \n",
    "#     lines = f.readline().strip()\n",
    "#     print(lines)\n",
    "#     columns = lines[1:]\n",
    "#     columns = columns.split(\",\")\n",
    "#     meta_len = 1\n",
    "\n",
    "    hlines = []\n",
    "    while True:\n",
    "        line = f.readline()\n",
    "        if len(line) == 0 or line[0] != '#':\n",
    "            break\n",
    "        hlines.append(line)\n",
    "    title = hlines[1].replace('#title ', '')[:-1]\n",
    "    sep = chr(int(hlines[2].replace('#separator ', '')[:-1]))\n",
    "    vsc_sep = chr(int(hlines[3].replace('#vector_separator ', '')[:-1]))\n",
    "    columns = [' '.join(l.split(' ')[2:])[:-1] for l in hlines[4:]]\n",
    "    meta_len = len(hlines)\n",
    "    print(f'Metarows: {meta_len}\\nColumns: {columns}')"
   ]
  },
  {
   "cell_type": "code",
   "execution_count": 11,
   "id": "printable-moral",
   "metadata": {},
   "outputs": [],
   "source": [
    "data = pd.DataFrame()\n",
    "for path in paths:\n",
    "    item = pd.read_csv(path, skiprows=meta_len, names=columns)\n",
    "    data = pd.concat([data, item], ignore_index=True)"
   ]
  },
  {
   "cell_type": "markdown",
   "id": "6a606c94",
   "metadata": {},
   "source": [
    "e - elecron, Brem - тормозное излучение, Ionic - ионизационные потери (неупругое)\n",
    "\n",
    "conv - обратная аннигилияция (фотоны в электроны и позитроны)\n",
    "\n",
    "annihil - аннигилиция\n",
    "\n",
    "phot - фотоэффект"
   ]
  },
  {
   "cell_type": "code",
   "execution_count": 12,
   "id": "dc2d9778",
   "metadata": {},
   "outputs": [
    {
     "data": {
      "text/html": [
       "<div>\n",
       "<style scoped>\n",
       "    .dataframe tbody tr th:only-of-type {\n",
       "        vertical-align: middle;\n",
       "    }\n",
       "\n",
       "    .dataframe tbody tr th {\n",
       "        vertical-align: top;\n",
       "    }\n",
       "\n",
       "    .dataframe thead th {\n",
       "        text-align: right;\n",
       "    }\n",
       "</style>\n",
       "<table border=\"1\" class=\"dataframe\">\n",
       "  <thead>\n",
       "    <tr style=\"text-align: right;\">\n",
       "      <th></th>\n",
       "      <th>particle_name</th>\n",
       "      <th>creator_process</th>\n",
       "      <th>parentID</th>\n",
       "      <th>energy</th>\n",
       "    </tr>\n",
       "  </thead>\n",
       "  <tbody>\n",
       "    <tr>\n",
       "      <th>0</th>\n",
       "      <td>e-</td>\n",
       "      <td>compt</td>\n",
       "      <td>1</td>\n",
       "      <td>12.116800</td>\n",
       "    </tr>\n",
       "    <tr>\n",
       "      <th>1</th>\n",
       "      <td>e-</td>\n",
       "      <td>compt</td>\n",
       "      <td>1</td>\n",
       "      <td>3.660700</td>\n",
       "    </tr>\n",
       "    <tr>\n",
       "      <th>2</th>\n",
       "      <td>e-</td>\n",
       "      <td>compt</td>\n",
       "      <td>1</td>\n",
       "      <td>4.600220</td>\n",
       "    </tr>\n",
       "    <tr>\n",
       "      <th>3</th>\n",
       "      <td>gamma</td>\n",
       "      <td>eBrem</td>\n",
       "      <td>2</td>\n",
       "      <td>0.000000</td>\n",
       "    </tr>\n",
       "    <tr>\n",
       "      <th>4</th>\n",
       "      <td>e-</td>\n",
       "      <td>phot</td>\n",
       "      <td>4</td>\n",
       "      <td>0.004900</td>\n",
       "    </tr>\n",
       "    <tr>\n",
       "      <th>...</th>\n",
       "      <td>...</td>\n",
       "      <td>...</td>\n",
       "      <td>...</td>\n",
       "      <td>...</td>\n",
       "    </tr>\n",
       "    <tr>\n",
       "      <th>186</th>\n",
       "      <td>e-</td>\n",
       "      <td>conv</td>\n",
       "      <td>1</td>\n",
       "      <td>5.719790</td>\n",
       "    </tr>\n",
       "    <tr>\n",
       "      <th>187</th>\n",
       "      <td>e-</td>\n",
       "      <td>eIoni</td>\n",
       "      <td>2</td>\n",
       "      <td>1.048250</td>\n",
       "    </tr>\n",
       "    <tr>\n",
       "      <th>188</th>\n",
       "      <td>e-</td>\n",
       "      <td>eIoni</td>\n",
       "      <td>16</td>\n",
       "      <td>0.525575</td>\n",
       "    </tr>\n",
       "    <tr>\n",
       "      <th>189</th>\n",
       "      <td>e-</td>\n",
       "      <td>compt</td>\n",
       "      <td>1</td>\n",
       "      <td>2.652640</td>\n",
       "    </tr>\n",
       "    <tr>\n",
       "      <th>190</th>\n",
       "      <td>e-</td>\n",
       "      <td>eIoni</td>\n",
       "      <td>2</td>\n",
       "      <td>0.548725</td>\n",
       "    </tr>\n",
       "  </tbody>\n",
       "</table>\n",
       "<p>191 rows × 4 columns</p>\n",
       "</div>"
      ],
      "text/plain": [
       "    particle_name creator_process  parentID     energy\n",
       "0              e-           compt         1  12.116800\n",
       "1              e-           compt         1   3.660700\n",
       "2              e-           compt         1   4.600220\n",
       "3           gamma           eBrem         2   0.000000\n",
       "4              e-            phot         4   0.004900\n",
       "..            ...             ...       ...        ...\n",
       "186            e-            conv         1   5.719790\n",
       "187            e-           eIoni         2   1.048250\n",
       "188            e-           eIoni        16   0.525575\n",
       "189            e-           compt         1   2.652640\n",
       "190            e-           eIoni         2   0.548725\n",
       "\n",
       "[191 rows x 4 columns]"
      ]
     },
     "execution_count": 12,
     "metadata": {},
     "output_type": "execute_result"
    }
   ],
   "source": [
    "data"
   ]
  },
  {
   "cell_type": "code",
   "execution_count": 19,
   "id": "c56822e2",
   "metadata": {},
   "outputs": [
    {
     "data": {
      "text/plain": [
       "{1, 2, 3, 4, 5, 6, 7, 8, 9, 12, 13, 15, 16, 19, 21}"
      ]
     },
     "execution_count": 19,
     "metadata": {},
     "output_type": "execute_result"
    }
   ],
   "source": [
    "set(data['parentID'])"
   ]
  },
  {
   "cell_type": "code",
   "execution_count": 14,
   "id": "87cdaca3",
   "metadata": {},
   "outputs": [],
   "source": [
    "filt = data[data['creator_process'] == 'conv']\n",
    "# filt = filt[filt['particle_name'] == 'e+' | filt['particle_name'] == 'e-']"
   ]
  },
  {
   "cell_type": "code",
   "execution_count": 15,
   "id": "161a67fb",
   "metadata": {},
   "outputs": [
    {
     "data": {
      "text/plain": [
       "59"
      ]
     },
     "execution_count": 15,
     "metadata": {},
     "output_type": "execute_result"
    }
   ],
   "source": [
    "len(data[data[\"parentID\"] == 1])"
   ]
  },
  {
   "cell_type": "code",
   "execution_count": 16,
   "id": "9a24c146",
   "metadata": {},
   "outputs": [],
   "source": [
    "secondary = data[data[\"parentID\"] == 1]\n",
    "secondary_e_energy = sum(secondary[secondary['particle_name']=='e-']['energy'])"
   ]
  },
  {
   "cell_type": "code",
   "execution_count": 17,
   "id": "4ce2e68f",
   "metadata": {},
   "outputs": [
    {
     "ename": "ZeroDivisionError",
     "evalue": "float division by zero",
     "output_type": "error",
     "traceback": [
      "\u001b[0;31m---------------------------------------------------------------------------\u001b[0m",
      "\u001b[0;31mZeroDivisionError\u001b[0m                         Traceback (most recent call last)",
      "Input \u001b[0;32mIn [17]\u001b[0m, in \u001b[0;36m<cell line: 3>\u001b[0;34m()\u001b[0m\n\u001b[1;32m      1\u001b[0m primary \u001b[38;5;241m=\u001b[39m data[data[\u001b[38;5;124m\"\u001b[39m\u001b[38;5;124mparentID\u001b[39m\u001b[38;5;124m\"\u001b[39m] \u001b[38;5;241m==\u001b[39m \u001b[38;5;241m0\u001b[39m]\n\u001b[1;32m      2\u001b[0m primary_energy \u001b[38;5;241m=\u001b[39m \u001b[38;5;28msum\u001b[39m(primary[\u001b[38;5;124m'\u001b[39m\u001b[38;5;124menergy\u001b[39m\u001b[38;5;124m'\u001b[39m])\n\u001b[0;32m----> 3\u001b[0m \u001b[43msecondary_e_energy\u001b[49m\u001b[38;5;241;43m/\u001b[39;49m\u001b[43mprimary_energy\u001b[49m\n",
      "\u001b[0;31mZeroDivisionError\u001b[0m: float division by zero"
     ]
    }
   ],
   "source": [
    "primary = data[data[\"parentID\"] == 0]\n",
    "primary_energy = sum(primary['energy'])\n",
    "secondary_e_energy/primary_energy"
   ]
  },
  {
   "cell_type": "code",
   "execution_count": null,
   "id": "dbfa92d1",
   "metadata": {},
   "outputs": [],
   "source": [
    "plt.hist(secondary['energy']/150000, bins=100)\n",
    "plt.show()"
   ]
  },
  {
   "cell_type": "code",
   "execution_count": null,
   "id": "3f307f9a",
   "metadata": {},
   "outputs": [],
   "source": []
  }
 ],
 "metadata": {
  "kernelspec": {
   "display_name": "Python 3 (ipykernel)",
   "language": "python",
   "name": "python3"
  },
  "language_info": {
   "codemirror_mode": {
    "name": "ipython",
    "version": 3
   },
   "file_extension": ".py",
   "mimetype": "text/x-python",
   "name": "python",
   "nbconvert_exporter": "python",
   "pygments_lexer": "ipython3",
   "version": "3.8.10"
  }
 },
 "nbformat": 4,
 "nbformat_minor": 5
}
