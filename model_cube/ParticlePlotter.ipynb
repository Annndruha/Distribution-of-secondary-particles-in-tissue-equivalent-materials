{
 "cells": [
  {
   "cell_type": "markdown",
   "id": "6b9ffe9f",
   "metadata": {},
   "source": [
    "### Парсинг данных и создание датафрейма"
   ]
  },
  {
   "cell_type": "code",
   "execution_count": 83,
   "id": "attended-bermuda",
   "metadata": {},
   "outputs": [],
   "source": [
    "import os\n",
    "import pandas as pd\n",
    "import numpy as np\n",
    "import glob\n",
    "import matplotlib.pyplot as plt"
   ]
  },
  {
   "cell_type": "code",
   "execution_count": 96,
   "id": "cf91d50c",
   "metadata": {},
   "outputs": [],
   "source": [
    "runN = \"*\" # If take all runs set runN = \"*\"\n",
    "paths = glob.glob(f\"build/Run{runN}_nt_ParticleData_t*.csv\")"
   ]
  },
  {
   "cell_type": "code",
   "execution_count": 97,
   "id": "b50bbf71",
   "metadata": {},
   "outputs": [
    {
     "name": "stdout",
     "output_type": "stream",
     "text": [
      "Headers from file: build/Run0_nt_ParticleData_t8.csv\n"
     ]
    }
   ],
   "source": [
    "with open(paths[0], 'r') as f:\n",
    "    print(f\"Headers from file: {paths[0]}\")\n",
    "\n",
    "    hlines = []\n",
    "    while True:\n",
    "        line = f.readline()\n",
    "        if len(line) == 0 or line[0] != '#':\n",
    "            break\n",
    "        hlines.append(line)\n",
    "    title = hlines[1].replace('#title ', '')[:-1]\n",
    "    sep = chr(int(hlines[2].replace('#separator ', '')[:-1]))\n",
    "    vsc_sep = chr(int(hlines[3].replace('#vector_separator ', '')[:-1]))\n",
    "    columns = [' '.join(l.split(' ')[2:])[:-1] for l in hlines[4:]]\n",
    "    meta_len = len(hlines)\n",
    "    # print(f'Metarows: {meta_len}\\nColumns: {columns}')"
   ]
  },
  {
   "cell_type": "code",
   "execution_count": 98,
   "id": "printable-moral",
   "metadata": {},
   "outputs": [],
   "source": [
    "data = pd.DataFrame()\n",
    "for path in paths:\n",
    "    item = pd.read_csv(path, skiprows=meta_len, names=columns)\n",
    "    data = pd.concat([data, item], ignore_index=True)"
   ]
  },
  {
   "cell_type": "code",
   "execution_count": 99,
   "id": "948b6d2f",
   "metadata": {},
   "outputs": [
    {
     "data": {
      "text/plain": [
       "3799159"
      ]
     },
     "execution_count": 99,
     "metadata": {},
     "output_type": "execute_result"
    }
   ],
   "source": [
    "len(data)"
   ]
  },
  {
   "cell_type": "code",
   "execution_count": 100,
   "id": "095eac67",
   "metadata": {},
   "outputs": [
    {
     "data": {
      "text/plain": [
       "{'annihil', 'compt', 'conv', 'eBrem', 'eIoni', 'phot', 'user'}"
      ]
     },
     "execution_count": 100,
     "metadata": {},
     "output_type": "execute_result"
    }
   ],
   "source": [
    "set(data['creator_process'])"
   ]
  },
  {
   "cell_type": "code",
   "execution_count": 101,
   "id": "44b99a20",
   "metadata": {},
   "outputs": [
    {
     "data": {
      "text/html": [
       "<div>\n",
       "<style scoped>\n",
       "    .dataframe tbody tr th:only-of-type {\n",
       "        vertical-align: middle;\n",
       "    }\n",
       "\n",
       "    .dataframe tbody tr th {\n",
       "        vertical-align: top;\n",
       "    }\n",
       "\n",
       "    .dataframe thead th {\n",
       "        text-align: right;\n",
       "    }\n",
       "</style>\n",
       "<table border=\"1\" class=\"dataframe\">\n",
       "  <thead>\n",
       "    <tr style=\"text-align: right;\">\n",
       "      <th></th>\n",
       "      <th>particle_name</th>\n",
       "      <th>creator_process</th>\n",
       "      <th>parentID</th>\n",
       "      <th>energy</th>\n",
       "    </tr>\n",
       "  </thead>\n",
       "  <tbody>\n",
       "    <tr>\n",
       "      <th>1024</th>\n",
       "      <td>e-</td>\n",
       "      <td>compt</td>\n",
       "      <td>3</td>\n",
       "      <td>0.085779</td>\n",
       "    </tr>\n",
       "    <tr>\n",
       "      <th>1025</th>\n",
       "      <td>e-</td>\n",
       "      <td>compt</td>\n",
       "      <td>3</td>\n",
       "      <td>0.047562</td>\n",
       "    </tr>\n",
       "    <tr>\n",
       "      <th>1026</th>\n",
       "      <td>e-</td>\n",
       "      <td>compt</td>\n",
       "      <td>3</td>\n",
       "      <td>0.000000</td>\n",
       "    </tr>\n",
       "    <tr>\n",
       "      <th>1078</th>\n",
       "      <td>e-</td>\n",
       "      <td>compt</td>\n",
       "      <td>2</td>\n",
       "      <td>0.012430</td>\n",
       "    </tr>\n",
       "    <tr>\n",
       "      <th>1079</th>\n",
       "      <td>e-</td>\n",
       "      <td>compt</td>\n",
       "      <td>2</td>\n",
       "      <td>0.000000</td>\n",
       "    </tr>\n",
       "    <tr>\n",
       "      <th>...</th>\n",
       "      <td>...</td>\n",
       "      <td>...</td>\n",
       "      <td>...</td>\n",
       "      <td>...</td>\n",
       "    </tr>\n",
       "    <tr>\n",
       "      <th>3798866</th>\n",
       "      <td>e-</td>\n",
       "      <td>compt</td>\n",
       "      <td>2</td>\n",
       "      <td>0.080613</td>\n",
       "    </tr>\n",
       "    <tr>\n",
       "      <th>3798867</th>\n",
       "      <td>e-</td>\n",
       "      <td>compt</td>\n",
       "      <td>2</td>\n",
       "      <td>0.034701</td>\n",
       "    </tr>\n",
       "    <tr>\n",
       "      <th>3798868</th>\n",
       "      <td>e-</td>\n",
       "      <td>compt</td>\n",
       "      <td>2</td>\n",
       "      <td>0.000000</td>\n",
       "    </tr>\n",
       "    <tr>\n",
       "      <th>3798869</th>\n",
       "      <td>e-</td>\n",
       "      <td>compt</td>\n",
       "      <td>2</td>\n",
       "      <td>0.026467</td>\n",
       "    </tr>\n",
       "    <tr>\n",
       "      <th>3798870</th>\n",
       "      <td>e-</td>\n",
       "      <td>compt</td>\n",
       "      <td>2</td>\n",
       "      <td>0.000000</td>\n",
       "    </tr>\n",
       "  </tbody>\n",
       "</table>\n",
       "<p>173113 rows × 4 columns</p>\n",
       "</div>"
      ],
      "text/plain": [
       "        particle_name creator_process  parentID    energy\n",
       "1024               e-           compt         3  0.085779\n",
       "1025               e-           compt         3  0.047562\n",
       "1026               e-           compt         3  0.000000\n",
       "1078               e-           compt         2  0.012430\n",
       "1079               e-           compt         2  0.000000\n",
       "...               ...             ...       ...       ...\n",
       "3798866            e-           compt         2  0.080613\n",
       "3798867            e-           compt         2  0.034701\n",
       "3798868            e-           compt         2  0.000000\n",
       "3798869            e-           compt         2  0.026467\n",
       "3798870            e-           compt         2  0.000000\n",
       "\n",
       "[173113 rows x 4 columns]"
      ]
     },
     "execution_count": 101,
     "metadata": {},
     "output_type": "execute_result"
    }
   ],
   "source": [
    "data[data['creator_process']=='compt']"
   ]
  },
  {
   "cell_type": "markdown",
   "id": "6a606c94",
   "metadata": {},
   "source": [
    "e - elecron, Brem - тормозное излучение, Ionic - ионизационные потери (неупругое)\n",
    "\n",
    "conv - обратная аннигилияция (фотоны в электроны и позитроны)\n",
    "\n",
    "annihil - аннигилиция\n",
    "\n",
    "phot - фотоэффект"
   ]
  },
  {
   "cell_type": "code",
   "execution_count": 102,
   "id": "dc2d9778",
   "metadata": {},
   "outputs": [
    {
     "data": {
      "text/html": [
       "<div>\n",
       "<style scoped>\n",
       "    .dataframe tbody tr th:only-of-type {\n",
       "        vertical-align: middle;\n",
       "    }\n",
       "\n",
       "    .dataframe tbody tr th {\n",
       "        vertical-align: top;\n",
       "    }\n",
       "\n",
       "    .dataframe thead th {\n",
       "        text-align: right;\n",
       "    }\n",
       "</style>\n",
       "<table border=\"1\" class=\"dataframe\">\n",
       "  <thead>\n",
       "    <tr style=\"text-align: right;\">\n",
       "      <th></th>\n",
       "      <th>particle_name</th>\n",
       "      <th>creator_process</th>\n",
       "      <th>parentID</th>\n",
       "      <th>energy</th>\n",
       "    </tr>\n",
       "  </thead>\n",
       "  <tbody>\n",
       "    <tr>\n",
       "      <th>0</th>\n",
       "      <td>e-</td>\n",
       "      <td>user</td>\n",
       "      <td>0</td>\n",
       "      <td>0.258338</td>\n",
       "    </tr>\n",
       "    <tr>\n",
       "      <th>1</th>\n",
       "      <td>e-</td>\n",
       "      <td>user</td>\n",
       "      <td>0</td>\n",
       "      <td>0.257750</td>\n",
       "    </tr>\n",
       "    <tr>\n",
       "      <th>2</th>\n",
       "      <td>e-</td>\n",
       "      <td>user</td>\n",
       "      <td>0</td>\n",
       "      <td>0.257713</td>\n",
       "    </tr>\n",
       "    <tr>\n",
       "      <th>3</th>\n",
       "      <td>e-</td>\n",
       "      <td>user</td>\n",
       "      <td>0</td>\n",
       "      <td>0.257707</td>\n",
       "    </tr>\n",
       "    <tr>\n",
       "      <th>4</th>\n",
       "      <td>e-</td>\n",
       "      <td>user</td>\n",
       "      <td>0</td>\n",
       "      <td>0.257696</td>\n",
       "    </tr>\n",
       "  </tbody>\n",
       "</table>\n",
       "</div>"
      ],
      "text/plain": [
       "  particle_name creator_process  parentID    energy\n",
       "0            e-            user         0  0.258338\n",
       "1            e-            user         0  0.257750\n",
       "2            e-            user         0  0.257713\n",
       "3            e-            user         0  0.257707\n",
       "4            e-            user         0  0.257696"
      ]
     },
     "execution_count": 102,
     "metadata": {},
     "output_type": "execute_result"
    }
   ],
   "source": [
    "data.head()"
   ]
  },
  {
   "cell_type": "code",
   "execution_count": 103,
   "id": "87cdaca3",
   "metadata": {},
   "outputs": [],
   "source": [
    "filt = data\n",
    "filt = filt[filt['parentID'] != 0] # Вторичные частицы\n",
    "filt = filt[filt['particle_name'] == 'e-'] # Вторичные электроны"
   ]
  },
  {
   "cell_type": "code",
   "execution_count": 104,
   "id": "15f49822",
   "metadata": {},
   "outputs": [
    {
     "data": {
      "image/png": "[encoded data removed]",
      "text/plain": [
       "<Figure size 432x288 with 1 Axes>"
      ]
     },
     "metadata": {
      "needs_background": "light"
     },
     "output_type": "display_data"
    }
   ],
   "source": [
    "for process in ['eIoni', 'compt', 'conv', 'phot']:\n",
    "    proc_data = filt[filt['creator_process'] == process]\n",
    "    # n, e, _ = plt.hist(proc_data['energy'], bins=100)\n",
    "    n, e = np.histogram(proc_data['energy'], bins=100)\n",
    "    plt.plot(e[1:], n, label=process) # \n",
    "plt.legend()\n",
    "plt.yscale('log')\n",
    "plt.ylabel('Количество частиц')\n",
    "plt.xlabel('Энергия, МэВ')\n",
    "plt.show()"
   ]
  }
 ],
 "metadata": {
  "kernelspec": {
   "display_name": "Python 3 (ipykernel)",
   "language": "python",
   "name": "python3"
  },
  "language_info": {
   "codemirror_mode": {
    "name": "ipython",
    "version": 3
   },
   "file_extension": ".py",
   "mimetype": "text/x-python",
   "name": "python",
   "nbconvert_exporter": "python",
   "pygments_lexer": "ipython3",
   "version": "3.10.4"
  }
 },
 "nbformat": 4,
 "nbformat_minor": 5
}
