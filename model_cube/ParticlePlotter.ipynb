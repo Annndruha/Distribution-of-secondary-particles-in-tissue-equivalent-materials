{
 "cells": [
  {
   "cell_type": "markdown",
   "id": "6b9ffe9f",
   "metadata": {},
   "source": [
    "### Парсинг данных и создание датафрейма"
   ]
  },
  {
   "cell_type": "code",
   "execution_count": 1,
   "id": "attended-bermuda",
   "metadata": {},
   "outputs": [],
   "source": [
    "import os\n",
    "import pandas as pd\n",
    "import numpy as np\n",
    "import glob\n",
    "import matplotlib.pyplot as plt"
   ]
  },
  {
   "cell_type": "code",
   "execution_count": 9,
   "id": "cf91d50c",
   "metadata": {},
   "outputs": [],
   "source": [
    "runN = \"*\" # If take all runs set runN = \"*\"\n",
    "paths = glob.glob(f\"build/Run{runN}_nt_ParticleData_t*.csv\") #accel_data_secondary"
   ]
  },
  {
   "cell_type": "code",
   "execution_count": 10,
   "id": "b50bbf71",
   "metadata": {},
   "outputs": [
    {
     "name": "stdout",
     "output_type": "stream",
     "text": [
      "Headers from file: build/Run0_nt_ParticleData_t8.csv\n"
     ]
    }
   ],
   "source": [
    "with open(paths[0], 'r') as f:\n",
    "    print(f\"Headers from file: {paths[0]}\")\n",
    "\n",
    "    hlines = []\n",
    "    while True:\n",
    "        line = f.readline()\n",
    "        if len(line) == 0 or line[0] != '#':\n",
    "            break\n",
    "        hlines.append(line)\n",
    "    title = hlines[1].replace('#title ', '')[:-1]\n",
    "    sep = chr(int(hlines[2].replace('#separator ', '')[:-1]))\n",
    "    vsc_sep = chr(int(hlines[3].replace('#vector_separator ', '')[:-1]))\n",
    "    columns = [' '.join(l.split(' ')[2:])[:-1] for l in hlines[4:]]\n",
    "    meta_len = len(hlines)\n",
    "    # print(f'Metarows: {meta_len}\\nColumns: {columns}')"
   ]
  },
  {
   "cell_type": "code",
   "execution_count": 25,
   "id": "b887a6a4",
   "metadata": {},
   "outputs": [],
   "source": [
    "pnames = {'annihil':'Аннигиляция','compt':'Комптон-эффект','conv':'Обратная аннигиляция',\n",
    "          'eBrem':'Тормозное излучение','eIoni':'Ионизационные потери','hadElastic':'?',\n",
    "          'phot':'Фотоэффект','photonNuclear':'?'}"
   ]
  },
  {
   "cell_type": "code",
   "execution_count": 11,
   "id": "printable-moral",
   "metadata": {},
   "outputs": [],
   "source": [
    "data = pd.DataFrame()\n",
    "for path in paths[:10]:\n",
    "    item = pd.read_csv(path, skiprows=meta_len, names=columns)\n",
    "    data = pd.concat([data, item], ignore_index=True)"
   ]
  },
  {
   "cell_type": "code",
   "execution_count": 12,
   "id": "948b6d2f",
   "metadata": {},
   "outputs": [
    {
     "data": {
      "text/plain": [
       "64328356"
      ]
     },
     "execution_count": 12,
     "metadata": {},
     "output_type": "execute_result"
    }
   ],
   "source": [
    "len(data)"
   ]
  },
  {
   "cell_type": "code",
   "execution_count": 6,
   "id": "c0244ce6",
   "metadata": {},
   "outputs": [
    {
     "data": {
      "text/html": [
       "<div>\n",
       "<style scoped>\n",
       "    .dataframe tbody tr th:only-of-type {\n",
       "        vertical-align: middle;\n",
       "    }\n",
       "\n",
       "    .dataframe tbody tr th {\n",
       "        vertical-align: top;\n",
       "    }\n",
       "\n",
       "    .dataframe thead th {\n",
       "        text-align: right;\n",
       "    }\n",
       "</style>\n",
       "<table border=\"1\" class=\"dataframe\">\n",
       "  <thead>\n",
       "    <tr style=\"text-align: right;\">\n",
       "      <th></th>\n",
       "      <th>particle_name</th>\n",
       "      <th>creator_process</th>\n",
       "      <th>parentID</th>\n",
       "      <th>energy</th>\n",
       "      <th>z</th>\n",
       "      <th>dE</th>\n",
       "    </tr>\n",
       "  </thead>\n",
       "  <tbody>\n",
       "    <tr>\n",
       "      <th>0</th>\n",
       "      <td>e-</td>\n",
       "      <td>compt</td>\n",
       "      <td>1</td>\n",
       "      <td>0.032766</td>\n",
       "      <td>-19.4246</td>\n",
       "      <td>0.012944</td>\n",
       "    </tr>\n",
       "    <tr>\n",
       "      <th>1</th>\n",
       "      <td>e-</td>\n",
       "      <td>compt</td>\n",
       "      <td>1</td>\n",
       "      <td>0.012949</td>\n",
       "      <td>-19.4245</td>\n",
       "      <td>0.019817</td>\n",
       "    </tr>\n",
       "    <tr>\n",
       "      <th>2</th>\n",
       "      <td>e-</td>\n",
       "      <td>compt</td>\n",
       "      <td>1</td>\n",
       "      <td>0.000000</td>\n",
       "      <td>-19.4243</td>\n",
       "      <td>0.012949</td>\n",
       "    </tr>\n",
       "    <tr>\n",
       "      <th>3</th>\n",
       "      <td>e-</td>\n",
       "      <td>compt</td>\n",
       "      <td>1</td>\n",
       "      <td>0.558379</td>\n",
       "      <td>-18.5898</td>\n",
       "      <td>0.027293</td>\n",
       "    </tr>\n",
       "    <tr>\n",
       "      <th>4</th>\n",
       "      <td>e-</td>\n",
       "      <td>compt</td>\n",
       "      <td>1</td>\n",
       "      <td>0.466845</td>\n",
       "      <td>-18.5728</td>\n",
       "      <td>0.091534</td>\n",
       "    </tr>\n",
       "    <tr>\n",
       "      <th>...</th>\n",
       "      <td>...</td>\n",
       "      <td>...</td>\n",
       "      <td>...</td>\n",
       "      <td>...</td>\n",
       "      <td>...</td>\n",
       "      <td>...</td>\n",
       "    </tr>\n",
       "    <tr>\n",
       "      <th>6414796</th>\n",
       "      <td>e-</td>\n",
       "      <td>compt</td>\n",
       "      <td>1</td>\n",
       "      <td>0.090380</td>\n",
       "      <td>-10.6916</td>\n",
       "      <td>0.020039</td>\n",
       "    </tr>\n",
       "    <tr>\n",
       "      <th>6414797</th>\n",
       "      <td>e-</td>\n",
       "      <td>compt</td>\n",
       "      <td>1</td>\n",
       "      <td>0.074532</td>\n",
       "      <td>-10.6940</td>\n",
       "      <td>0.015847</td>\n",
       "    </tr>\n",
       "    <tr>\n",
       "      <th>6414798</th>\n",
       "      <td>e-</td>\n",
       "      <td>compt</td>\n",
       "      <td>1</td>\n",
       "      <td>0.035912</td>\n",
       "      <td>-10.6943</td>\n",
       "      <td>0.038620</td>\n",
       "    </tr>\n",
       "    <tr>\n",
       "      <th>6414799</th>\n",
       "      <td>e-</td>\n",
       "      <td>compt</td>\n",
       "      <td>1</td>\n",
       "      <td>0.004879</td>\n",
       "      <td>-10.6939</td>\n",
       "      <td>0.031033</td>\n",
       "    </tr>\n",
       "    <tr>\n",
       "      <th>6414800</th>\n",
       "      <td>e-</td>\n",
       "      <td>compt</td>\n",
       "      <td>1</td>\n",
       "      <td>0.000000</td>\n",
       "      <td>-10.6945</td>\n",
       "      <td>0.004879</td>\n",
       "    </tr>\n",
       "  </tbody>\n",
       "</table>\n",
       "<p>6414801 rows × 6 columns</p>\n",
       "</div>"
      ],
      "text/plain": [
       "        particle_name creator_process  parentID    energy        z        dE\n",
       "0                  e-           compt         1  0.032766 -19.4246  0.012944\n",
       "1                  e-           compt         1  0.012949 -19.4245  0.019817\n",
       "2                  e-           compt         1  0.000000 -19.4243  0.012949\n",
       "3                  e-           compt         1  0.558379 -18.5898  0.027293\n",
       "4                  e-           compt         1  0.466845 -18.5728  0.091534\n",
       "...               ...             ...       ...       ...      ...       ...\n",
       "6414796            e-           compt         1  0.090380 -10.6916  0.020039\n",
       "6414797            e-           compt         1  0.074532 -10.6940  0.015847\n",
       "6414798            e-           compt         1  0.035912 -10.6943  0.038620\n",
       "6414799            e-           compt         1  0.004879 -10.6939  0.031033\n",
       "6414800            e-           compt         1  0.000000 -10.6945  0.004879\n",
       "\n",
       "[6414801 rows x 6 columns]"
      ]
     },
     "execution_count": 6,
     "metadata": {},
     "output_type": "execute_result"
    }
   ],
   "source": [
    "data"
   ]
  },
  {
   "cell_type": "code",
   "execution_count": 7,
   "id": "26fda50c",
   "metadata": {},
   "outputs": [
    {
     "data": {
      "text/html": [
       "<div>\n",
       "<style scoped>\n",
       "    .dataframe tbody tr th:only-of-type {\n",
       "        vertical-align: middle;\n",
       "    }\n",
       "\n",
       "    .dataframe tbody tr th {\n",
       "        vertical-align: top;\n",
       "    }\n",
       "\n",
       "    .dataframe thead th {\n",
       "        text-align: right;\n",
       "    }\n",
       "</style>\n",
       "<table border=\"1\" class=\"dataframe\">\n",
       "  <thead>\n",
       "    <tr style=\"text-align: right;\">\n",
       "      <th></th>\n",
       "      <th>name</th>\n",
       "      <th>count</th>\n",
       "      <th>percent</th>\n",
       "    </tr>\n",
       "  </thead>\n",
       "  <tbody>\n",
       "    <tr>\n",
       "      <th>0</th>\n",
       "      <td>C12</td>\n",
       "      <td>17</td>\n",
       "      <td>0.000265</td>\n",
       "    </tr>\n",
       "    <tr>\n",
       "      <th>1</th>\n",
       "      <td>proton</td>\n",
       "      <td>83</td>\n",
       "      <td>0.001294</td>\n",
       "    </tr>\n",
       "    <tr>\n",
       "      <th>2</th>\n",
       "      <td>e+</td>\n",
       "      <td>80470</td>\n",
       "      <td>1.254443</td>\n",
       "    </tr>\n",
       "    <tr>\n",
       "      <th>3</th>\n",
       "      <td>e-</td>\n",
       "      <td>6131089</td>\n",
       "      <td>95.577228</td>\n",
       "    </tr>\n",
       "    <tr>\n",
       "      <th>4</th>\n",
       "      <td>alpha</td>\n",
       "      <td>29</td>\n",
       "      <td>0.000452</td>\n",
       "    </tr>\n",
       "    <tr>\n",
       "      <th>5</th>\n",
       "      <td>neutron</td>\n",
       "      <td>19</td>\n",
       "      <td>0.000296</td>\n",
       "    </tr>\n",
       "    <tr>\n",
       "      <th>6</th>\n",
       "      <td>N15</td>\n",
       "      <td>3</td>\n",
       "      <td>0.000047</td>\n",
       "    </tr>\n",
       "    <tr>\n",
       "      <th>7</th>\n",
       "      <td>O18</td>\n",
       "      <td>6</td>\n",
       "      <td>0.000094</td>\n",
       "    </tr>\n",
       "    <tr>\n",
       "      <th>8</th>\n",
       "      <td>gamma</td>\n",
       "      <td>200020</td>\n",
       "      <td>3.118101</td>\n",
       "    </tr>\n",
       "    <tr>\n",
       "      <th>9</th>\n",
       "      <td>O16</td>\n",
       "      <td>3064</td>\n",
       "      <td>0.047765</td>\n",
       "    </tr>\n",
       "    <tr>\n",
       "      <th>10</th>\n",
       "      <td>O15</td>\n",
       "      <td>1</td>\n",
       "      <td>0.000016</td>\n",
       "    </tr>\n",
       "  </tbody>\n",
       "</table>\n",
       "</div>"
      ],
      "text/plain": [
       "       name    count    percent\n",
       "0       C12       17   0.000265\n",
       "1    proton       83   0.001294\n",
       "2        e+    80470   1.254443\n",
       "3        e-  6131089  95.577228\n",
       "4     alpha       29   0.000452\n",
       "5   neutron       19   0.000296\n",
       "6       N15        3   0.000047\n",
       "7       O18        6   0.000094\n",
       "8     gamma   200020   3.118101\n",
       "9       O16     3064   0.047765\n",
       "10      O15        1   0.000016"
      ]
     },
     "execution_count": 7,
     "metadata": {},
     "output_type": "execute_result"
    }
   ],
   "source": [
    "l = len(data)\n",
    "res = []\n",
    "for name in set(data['particle_name']):\n",
    "    count = len(data[data['particle_name'] == name])\n",
    "    res.append((name, count, count/l*100))\n",
    "    \n",
    "pd.DataFrame(res, columns=['name', 'count', 'percent'])"
   ]
  },
  {
   "cell_type": "markdown",
   "id": "87586049",
   "metadata": {},
   "source": [
    "**Вклад вторичных частиц в дозу**"
   ]
  },
  {
   "cell_type": "code",
   "execution_count": 27,
   "id": "15e18e2c",
   "metadata": {},
   "outputs": [
    {
     "data": {
      "text/html": [
       "<div>\n",
       "<style scoped>\n",
       "    .dataframe tbody tr th:only-of-type {\n",
       "        vertical-align: middle;\n",
       "    }\n",
       "\n",
       "    .dataframe tbody tr th {\n",
       "        vertical-align: top;\n",
       "    }\n",
       "\n",
       "    .dataframe thead th {\n",
       "        text-align: right;\n",
       "    }\n",
       "</style>\n",
       "<table border=\"1\" class=\"dataframe\">\n",
       "  <thead>\n",
       "    <tr style=\"text-align: right;\">\n",
       "      <th></th>\n",
       "      <th>name</th>\n",
       "      <th>dose</th>\n",
       "      <th>dose_percent</th>\n",
       "    </tr>\n",
       "  </thead>\n",
       "  <tbody>\n",
       "    <tr>\n",
       "      <th>0</th>\n",
       "      <td>proton</td>\n",
       "      <td>2.179126e+02</td>\n",
       "      <td>9.099049e-03</td>\n",
       "    </tr>\n",
       "    <tr>\n",
       "      <th>1</th>\n",
       "      <td>C12</td>\n",
       "      <td>2.053490e+02</td>\n",
       "      <td>8.574451e-03</td>\n",
       "    </tr>\n",
       "    <tr>\n",
       "      <th>2</th>\n",
       "      <td>e+</td>\n",
       "      <td>1.020539e+05</td>\n",
       "      <td>4.261311e+00</td>\n",
       "    </tr>\n",
       "    <tr>\n",
       "      <th>3</th>\n",
       "      <td>deuteron</td>\n",
       "      <td>1.349282e-03</td>\n",
       "      <td>5.633996e-08</td>\n",
       "    </tr>\n",
       "    <tr>\n",
       "      <th>4</th>\n",
       "      <td>e-</td>\n",
       "      <td>2.291409e+06</td>\n",
       "      <td>9.567890e+01</td>\n",
       "    </tr>\n",
       "    <tr>\n",
       "      <th>5</th>\n",
       "      <td>alpha</td>\n",
       "      <td>6.316402e+02</td>\n",
       "      <td>2.637445e-02</td>\n",
       "    </tr>\n",
       "    <tr>\n",
       "      <th>6</th>\n",
       "      <td>neutron</td>\n",
       "      <td>1.464976e+00</td>\n",
       "      <td>6.117082e-05</td>\n",
       "    </tr>\n",
       "    <tr>\n",
       "      <th>7</th>\n",
       "      <td>N15</td>\n",
       "      <td>1.438639e+01</td>\n",
       "      <td>6.007109e-04</td>\n",
       "    </tr>\n",
       "    <tr>\n",
       "      <th>8</th>\n",
       "      <td>Be8</td>\n",
       "      <td>2.119136e+00</td>\n",
       "      <td>8.848557e-05</td>\n",
       "    </tr>\n",
       "    <tr>\n",
       "      <th>9</th>\n",
       "      <td>O18</td>\n",
       "      <td>3.202822e-03</td>\n",
       "      <td>1.337354e-07</td>\n",
       "    </tr>\n",
       "    <tr>\n",
       "      <th>10</th>\n",
       "      <td>O17</td>\n",
       "      <td>2.286942e-03</td>\n",
       "      <td>9.549240e-08</td>\n",
       "    </tr>\n",
       "    <tr>\n",
       "      <th>11</th>\n",
       "      <td>gamma</td>\n",
       "      <td>3.532774e+02</td>\n",
       "      <td>1.475127e-02</td>\n",
       "    </tr>\n",
       "    <tr>\n",
       "      <th>12</th>\n",
       "      <td>O16</td>\n",
       "      <td>3.792739e+00</td>\n",
       "      <td>1.583677e-04</td>\n",
       "    </tr>\n",
       "    <tr>\n",
       "      <th>13</th>\n",
       "      <td>O15</td>\n",
       "      <td>1.876547e+00</td>\n",
       "      <td>7.835616e-05</td>\n",
       "    </tr>\n",
       "  </tbody>\n",
       "</table>\n",
       "</div>"
      ],
      "text/plain": [
       "        name          dose  dose_percent\n",
       "0     proton  2.179126e+02  9.099049e-03\n",
       "1        C12  2.053490e+02  8.574451e-03\n",
       "2         e+  1.020539e+05  4.261311e+00\n",
       "3   deuteron  1.349282e-03  5.633996e-08\n",
       "4         e-  2.291409e+06  9.567890e+01\n",
       "5      alpha  6.316402e+02  2.637445e-02\n",
       "6    neutron  1.464976e+00  6.117082e-05\n",
       "7        N15  1.438639e+01  6.007109e-04\n",
       "8        Be8  2.119136e+00  8.848557e-05\n",
       "9        O18  3.202822e-03  1.337354e-07\n",
       "10       O17  2.286942e-03  9.549240e-08\n",
       "11     gamma  3.532774e+02  1.475127e-02\n",
       "12       O16  3.792739e+00  1.583677e-04\n",
       "13       O15  1.876547e+00  7.835616e-05"
      ]
     },
     "execution_count": 27,
     "metadata": {},
     "output_type": "execute_result"
    }
   ],
   "source": [
    "filt = data[data['parentID'] != 0] # Вторичные частицы\n",
    "filt = filt[filt['creator_process'] != 'user']\n",
    "total_dose = sum(filt['dE'])\n",
    "\n",
    "l = len(filt)\n",
    "res = []\n",
    "for name in set(filt['particle_name']):\n",
    "    particle_filt = filt[filt['particle_name'] == name]\n",
    "    dose = sum(particle_filt['dE'])\n",
    "    res.append((name, dose, dose/total_dose*100))\n",
    "pd.DataFrame(res, columns=['name', 'dose', 'dose_percent'])"
   ]
  },
  {
   "cell_type": "markdown",
   "id": "819549eb",
   "metadata": {},
   "source": [
    "**Доза от глубины**"
   ]
  },
  {
   "cell_type": "code",
   "execution_count": 17,
   "id": "5164cc5b",
   "metadata": {},
   "outputs": [
    {
     "name": "stderr",
     "output_type": "stream",
     "text": [
      "/tmp/ipykernel_11654/2958221994.py:5: UserWarning: Boolean Series key will be reindexed to match DataFrame index.\n",
      "  bin_data = nfilt[nfilt['z']>b][nfilt['z']<borders[i+1]]\n"
     ]
    },
    {
     "data": {
      "image/png": "[encoded data removed]",
      "text/plain": [
       "<Figure size 432x288 with 1 Axes>"
      ]
     },
     "metadata": {
      "needs_background": "light"
     },
     "output_type": "display_data"
    }
   ],
   "source": [
    "nfilt = data[data['particle_name'] == 'gamma']\n",
    "bins = []\n",
    "borders = np.linspace(-20, 20, 100)\n",
    "for i, b in enumerate(borders[:-1]):\n",
    "    bin_data = nfilt[nfilt['z']>b][nfilt['z']<borders[i+1]]\n",
    "    bins.append(sum(bin_data['dE']))\n",
    "plt.scatter(np.array(borders[:-1])+20, np.array(bins)/sum(np.array(bins)), s=2)\n",
    "plt.xlim([0, plt.xlim()[1]])\n",
    "# plt.ylim([0, plt.ylim()[1]])\n",
    "plt.yscale('log')\n",
    "plt.ylabel('Доза, норм. ед.')\n",
    "plt.xlabel('Глубина, см')\n",
    "plt.show()"
   ]
  },
  {
   "cell_type": "code",
   "execution_count": 62,
   "id": "d3e6e7da",
   "metadata": {},
   "outputs": [
    {
     "name": "stderr",
     "output_type": "stream",
     "text": [
      "/tmp/ipykernel_12458/2208960678.py:6: UserWarning: Boolean Series key will be reindexed to match DataFrame index.\n",
      "  bin_data = nfilt[nfilt['z']>b][nfilt['z']<borders[i+1]]\n"
     ]
    },
    {
     "data": {
      "image/png": "[encoded data removed]",
      "text/plain": [
       "<Figure size 432x288 with 1 Axes>"
      ]
     },
     "metadata": {
      "needs_background": "light"
     },
     "output_type": "display_data"
    }
   ],
   "source": [
    "for name in ['gamma', 'e-', 'e+']:\n",
    "    nfilt = data[data['particle_name'] == name]\n",
    "    bins = []\n",
    "    borders = np.linspace(-20, 20, 100)\n",
    "    for i, b in enumerate(borders[:-1]):\n",
    "        bin_data = nfilt[nfilt['z']>b][nfilt['z']<borders[i+1]]\n",
    "        bins.append(sum(bin_data['dE']))\n",
    "    plt.scatter(np.array(borders[:-1])+20, np.array(bins)/sum(np.array(bins)), s=2, label=name)\n",
    "    plt.xlim([0, plt.xlim()[1]])\n",
    "    plt.ylim([0, plt.ylim()[1]])\n",
    "    # plt.yscale('log')\n",
    "    plt.legend()\n",
    "    plt.ylabel('Доза, норм. ед.')\n",
    "    plt.xlabel('Глубина, см')\n",
    "plt.show()"
   ]
  },
  {
   "cell_type": "markdown",
   "id": "ac22ba5d",
   "metadata": {},
   "source": [
    "**Энергия вторичных частиц**"
   ]
  },
  {
   "cell_type": "code",
   "execution_count": 18,
   "id": "87cdaca3",
   "metadata": {},
   "outputs": [],
   "source": [
    "filt = data[data['parentID'] != 0] # Вторичные частицы\n",
    "filt = filt[filt['creator_process'] != 'user']\n",
    "filt = filt[filt['particle_name'] == 'e-'] # Вторичные электроны"
   ]
  },
  {
   "cell_type": "code",
   "execution_count": 24,
   "id": "15f49822",
   "metadata": {},
   "outputs": [
    {
     "data": {
      "image/png": "[encoded data removed]",
      "text/plain": [
       "<Figure size 432x288 with 1 Axes>"
      ]
     },
     "metadata": {
      "needs_background": "light"
     },
     "output_type": "display_data"
    }
   ],
   "source": [
    "for process in ['eIoni', 'compt', 'conv', 'phot']:\n",
    "    proc_data = filt[filt['creator_process'] == process]\n",
    "    # n, e, _ = plt.hist(proc_data['energy'], bins=100)\n",
    "    n, e = np.histogram(proc_data['energy'], bins=100)\n",
    "    plt.plot(e[:-1], n, label=pnames[process]) # \n",
    "plt.legend()\n",
    "plt.ylim([10, 10**8])\n",
    "plt.yscale('log')\n",
    "plt.ylabel('Количество частиц')\n",
    "plt.xlabel('Энергия, МэВ')\n",
    "plt.show()"
   ]
  },
  {
   "cell_type": "code",
   "execution_count": 13,
   "id": "b99c1343",
   "metadata": {},
   "outputs": [
    {
     "data": {
      "image/png": "[encoded data removed]",
      "text/plain": [
       "<Figure size 432x288 with 1 Axes>"
      ]
     },
     "metadata": {
      "needs_background": "light"
     },
     "output_type": "display_data"
    }
   ],
   "source": [
    "filt = data[data['particle_name'] == 'gamma']\n",
    "n, e = np.histogram(filt['energy'], bins=100)\n",
    "n, e = n[:-10], e[:-11]\n",
    "plt.plot(e, n/(0.5*10**7))\n",
    "#plt.xlim([0, 20])\n",
    "#plt.legend()\n",
    "plt.yscale('log')\n",
    "plt.ylabel('Количество частиц')\n",
    "plt.xlabel('Энергия, МэВ')\n",
    "plt.show()"
   ]
  }
 ],
 "metadata": {
  "kernelspec": {
   "display_name": "Python 3 (ipykernel)",
   "language": "python",
   "name": "python3"
  },
  "language_info": {
   "codemirror_mode": {
    "name": "ipython",
    "version": 3
   },
   "file_extension": ".py",
   "mimetype": "text/x-python",
   "name": "python",
   "nbconvert_exporter": "python",
   "pygments_lexer": "ipython3",
   "version": "3.10.4"
  }
 },
 "nbformat": 4,
 "nbformat_minor": 5
}
