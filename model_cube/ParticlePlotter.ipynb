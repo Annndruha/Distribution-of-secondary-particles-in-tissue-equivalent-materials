{
 "cells": [
  {
   "cell_type": "markdown",
   "id": "6b9ffe9f",
   "metadata": {},
   "source": [
    "### Парсинг данных и создание датафрейма"
   ]
  },
  {
   "cell_type": "code",
   "execution_count": 67,
   "id": "3ec29165",
   "metadata": {},
   "outputs": [],
   "source": [
    "def procents(d):\n",
    "    l = len(d)\n",
    "    res = []\n",
    "    for name in set(d['name']):\n",
    "        count = len(d[d['name'] == name])\n",
    "        res.append((name, count, count/l*100))\n",
    "    return pd.DataFrame(res, columns=['name', 'count', 'percent'])"
   ]
  },
  {
   "cell_type": "code",
   "execution_count": 68,
   "id": "838f33c2",
   "metadata": {},
   "outputs": [],
   "source": [
    "def dose_weights(d):\n",
    "    l = len(d)\n",
    "    res = []\n",
    "    total_dose = sum(d['dE'])\n",
    "    for name in set(d['name']):\n",
    "        particle_filt = d[d['name'] == name]\n",
    "        dose = sum(particle_filt['dE'])\n",
    "        res.append((name, dose, dose/total_dose*100))\n",
    "    return pd.DataFrame(res, columns=['name', 'dose', 'dose_percent'])"
   ]
  },
  {
   "cell_type": "code",
   "execution_count": 69,
   "id": "ec36fb8b",
   "metadata": {},
   "outputs": [],
   "source": [
    "def get_z_dose_bins(d, bins=100):\n",
    "    borders = np.linspace(-20, 20, bins)\n",
    "    bins = []\n",
    "    for i in range(len(borders[:-1])):\n",
    "        dd = d[d['z'] > borders[i]]\n",
    "        bin_data = dd[dd['z'] < borders[i+1]]\n",
    "        bins.append(sum(bin_data['dE']))\n",
    "    return np.array(borders[:-1])+20, np.array(bins)"
   ]
  },
  {
   "cell_type": "code",
   "execution_count": 70,
   "id": "5ca86d8f",
   "metadata": {},
   "outputs": [],
   "source": [
    "def get_energy_count_bins(d, bins=100):\n",
    "    n, e = np.histogram(d['energy'], bins)\n",
    "    return e[:-1], n"
   ]
  },
  {
   "cell_type": "code",
   "execution_count": 71,
   "id": "attended-bermuda",
   "metadata": {},
   "outputs": [],
   "source": [
    "import os\n",
    "import pandas as pd\n",
    "import numpy as np\n",
    "import glob\n",
    "import matplotlib.pyplot as plt\n",
    "plt.rcParams[\"figure.figsize\"] = (10,6)"
   ]
  },
  {
   "cell_type": "code",
   "execution_count": 72,
   "id": "cf91d50c",
   "metadata": {},
   "outputs": [],
   "source": [
    "runN = \"*\" # If take all runs set runN = \"*\"\n",
    "paths = glob.glob(f\"build/Run{runN}_nt_ParticleData_t*.csv\") #accel_data_secondary\n",
    "assert len(paths) == 20"
   ]
  },
  {
   "cell_type": "code",
   "execution_count": 73,
   "id": "b50bbf71",
   "metadata": {},
   "outputs": [
    {
     "name": "stdout",
     "output_type": "stream",
     "text": [
      "Headers from file: build/Run0_nt_ParticleData_t8.csv\n"
     ]
    }
   ],
   "source": [
    "with open(paths[0], 'r') as f:\n",
    "    print(f\"Headers from file: {paths[0]}\")\n",
    "\n",
    "    hlines = []\n",
    "    while True:\n",
    "        line = f.readline()\n",
    "        if len(line) == 0 or line[0] != '#':\n",
    "            break\n",
    "        hlines.append(line)\n",
    "    title = hlines[1].replace('#title ', '')[:-1]\n",
    "    sep = chr(int(hlines[2].replace('#separator ', '')[:-1]))\n",
    "    vsc_sep = chr(int(hlines[3].replace('#vector_separator ', '')[:-1]))\n",
    "    columns = [' '.join(l.split(' ')[2:])[:-1] for l in hlines[4:]]\n",
    "    meta_len = len(hlines)\n",
    "    # print(f'Metarows: {meta_len}\\nColumns: {columns}')"
   ]
  },
  {
   "cell_type": "code",
   "execution_count": 74,
   "id": "b887a6a4",
   "metadata": {},
   "outputs": [],
   "source": [
    "pnames = {'annihil':'Аннигиляция','compt':'Комптон-эффект','conv':'Рождение пар',\n",
    "          'eBrem':'Тормозное излучение','eIoni':'Ионизационные потери','hadElastic':'?',\n",
    "          'phot':'Фотоэффект','photonNuclear':'?'}"
   ]
  },
  {
   "cell_type": "code",
   "execution_count": 75,
   "id": "printable-moral",
   "metadata": {},
   "outputs": [],
   "source": [
    "data = pd.DataFrame()\n",
    "for path in paths[:10]:\n",
    "    item = pd.read_csv(path, skiprows=meta_len, names=columns)\n",
    "    data = pd.concat([data, item], ignore_index=True)"
   ]
  },
  {
   "cell_type": "code",
   "execution_count": 76,
   "id": "948b6d2f",
   "metadata": {},
   "outputs": [
    {
     "data": {
      "text/plain": [
       "10925928"
      ]
     },
     "execution_count": 76,
     "metadata": {},
     "output_type": "execute_result"
    }
   ],
   "source": [
    "len(data)"
   ]
  },
  {
   "cell_type": "code",
   "execution_count": 77,
   "id": "c0244ce6",
   "metadata": {},
   "outputs": [
    {
     "data": {
      "text/html": [
       "<div>\n",
       "<style scoped>\n",
       "    .dataframe tbody tr th:only-of-type {\n",
       "        vertical-align: middle;\n",
       "    }\n",
       "\n",
       "    .dataframe tbody tr th {\n",
       "        vertical-align: top;\n",
       "    }\n",
       "\n",
       "    .dataframe thead th {\n",
       "        text-align: right;\n",
       "    }\n",
       "</style>\n",
       "<table border=\"1\" class=\"dataframe\">\n",
       "  <thead>\n",
       "    <tr style=\"text-align: right;\">\n",
       "      <th></th>\n",
       "      <th>name</th>\n",
       "      <th>creator_process</th>\n",
       "      <th>energy</th>\n",
       "      <th>z</th>\n",
       "      <th>dE</th>\n",
       "    </tr>\n",
       "  </thead>\n",
       "  <tbody>\n",
       "    <tr>\n",
       "      <th>0</th>\n",
       "      <td>gamma</td>\n",
       "      <td>user</td>\n",
       "      <td>1.158420</td>\n",
       "      <td>-20.000000</td>\n",
       "      <td>0.000014</td>\n",
       "    </tr>\n",
       "    <tr>\n",
       "      <th>1</th>\n",
       "      <td>gamma</td>\n",
       "      <td>user</td>\n",
       "      <td>0.534114</td>\n",
       "      <td>-2.683950</td>\n",
       "      <td>0.000537</td>\n",
       "    </tr>\n",
       "    <tr>\n",
       "      <th>2</th>\n",
       "      <td>gamma</td>\n",
       "      <td>user</td>\n",
       "      <td>0.534114</td>\n",
       "      <td>0.297007</td>\n",
       "      <td>0.000000</td>\n",
       "    </tr>\n",
       "    <tr>\n",
       "      <th>3</th>\n",
       "      <td>e-</td>\n",
       "      <td>compt</td>\n",
       "      <td>0.593445</td>\n",
       "      <td>0.297007</td>\n",
       "      <td>0.030323</td>\n",
       "    </tr>\n",
       "    <tr>\n",
       "      <th>4</th>\n",
       "      <td>e-</td>\n",
       "      <td>compt</td>\n",
       "      <td>0.478106</td>\n",
       "      <td>0.315491</td>\n",
       "      <td>0.115339</td>\n",
       "    </tr>\n",
       "    <tr>\n",
       "      <th>...</th>\n",
       "      <td>...</td>\n",
       "      <td>...</td>\n",
       "      <td>...</td>\n",
       "      <td>...</td>\n",
       "      <td>...</td>\n",
       "    </tr>\n",
       "    <tr>\n",
       "      <th>10925923</th>\n",
       "      <td>e-</td>\n",
       "      <td>eIoni</td>\n",
       "      <td>0.076909</td>\n",
       "      <td>7.288480</td>\n",
       "      <td>0.029212</td>\n",
       "    </tr>\n",
       "    <tr>\n",
       "      <th>10925924</th>\n",
       "      <td>e-</td>\n",
       "      <td>eIoni</td>\n",
       "      <td>0.052263</td>\n",
       "      <td>7.284870</td>\n",
       "      <td>0.024646</td>\n",
       "    </tr>\n",
       "    <tr>\n",
       "      <th>10925925</th>\n",
       "      <td>e-</td>\n",
       "      <td>eIoni</td>\n",
       "      <td>0.035371</td>\n",
       "      <td>7.282570</td>\n",
       "      <td>0.016892</td>\n",
       "    </tr>\n",
       "    <tr>\n",
       "      <th>10925926</th>\n",
       "      <td>e-</td>\n",
       "      <td>eIoni</td>\n",
       "      <td>0.014260</td>\n",
       "      <td>7.282640</td>\n",
       "      <td>0.021111</td>\n",
       "    </tr>\n",
       "    <tr>\n",
       "      <th>10925927</th>\n",
       "      <td>e-</td>\n",
       "      <td>eIoni</td>\n",
       "      <td>0.000000</td>\n",
       "      <td>7.282150</td>\n",
       "      <td>0.014260</td>\n",
       "    </tr>\n",
       "  </tbody>\n",
       "</table>\n",
       "<p>10925928 rows × 5 columns</p>\n",
       "</div>"
      ],
      "text/plain": [
       "           name creator_process    energy          z        dE\n",
       "0         gamma            user  1.158420 -20.000000  0.000014\n",
       "1         gamma            user  0.534114  -2.683950  0.000537\n",
       "2         gamma            user  0.534114   0.297007  0.000000\n",
       "3            e-           compt  0.593445   0.297007  0.030323\n",
       "4            e-           compt  0.478106   0.315491  0.115339\n",
       "...         ...             ...       ...        ...       ...\n",
       "10925923     e-           eIoni  0.076909   7.288480  0.029212\n",
       "10925924     e-           eIoni  0.052263   7.284870  0.024646\n",
       "10925925     e-           eIoni  0.035371   7.282570  0.016892\n",
       "10925926     e-           eIoni  0.014260   7.282640  0.021111\n",
       "10925927     e-           eIoni  0.000000   7.282150  0.014260\n",
       "\n",
       "[10925928 rows x 5 columns]"
      ]
     },
     "execution_count": 77,
     "metadata": {},
     "output_type": "execute_result"
    }
   ],
   "source": [
    "data"
   ]
  },
  {
   "cell_type": "markdown",
   "id": "269b5727",
   "metadata": {},
   "source": [
    "## \"Первичные\" ускорительные частицы"
   ]
  },
  {
   "cell_type": "code",
   "execution_count": 78,
   "id": "d59c241f",
   "metadata": {},
   "outputs": [
    {
     "data": {
      "text/plain": [
       "2191980"
      ]
     },
     "execution_count": 78,
     "metadata": {},
     "output_type": "execute_result"
    }
   ],
   "source": [
    "primary = data[data['creator_process'] == 'user']\n",
    "len(primary)"
   ]
  },
  {
   "cell_type": "code",
   "execution_count": 79,
   "id": "121131f7",
   "metadata": {},
   "outputs": [
    {
     "data": {
      "text/html": [
       "<div>\n",
       "<style scoped>\n",
       "    .dataframe tbody tr th:only-of-type {\n",
       "        vertical-align: middle;\n",
       "    }\n",
       "\n",
       "    .dataframe tbody tr th {\n",
       "        vertical-align: top;\n",
       "    }\n",
       "\n",
       "    .dataframe thead th {\n",
       "        text-align: right;\n",
       "    }\n",
       "</style>\n",
       "<table border=\"1\" class=\"dataframe\">\n",
       "  <thead>\n",
       "    <tr style=\"text-align: right;\">\n",
       "      <th></th>\n",
       "      <th>name</th>\n",
       "      <th>count</th>\n",
       "      <th>percent</th>\n",
       "    </tr>\n",
       "  </thead>\n",
       "  <tbody>\n",
       "    <tr>\n",
       "      <th>0</th>\n",
       "      <td>e+</td>\n",
       "      <td>35446</td>\n",
       "      <td>1.617077</td>\n",
       "    </tr>\n",
       "    <tr>\n",
       "      <th>1</th>\n",
       "      <td>neutron</td>\n",
       "      <td>46401</td>\n",
       "      <td>2.116853</td>\n",
       "    </tr>\n",
       "    <tr>\n",
       "      <th>2</th>\n",
       "      <td>e-</td>\n",
       "      <td>917606</td>\n",
       "      <td>41.861970</td>\n",
       "    </tr>\n",
       "    <tr>\n",
       "      <th>3</th>\n",
       "      <td>gamma</td>\n",
       "      <td>1192527</td>\n",
       "      <td>54.404100</td>\n",
       "    </tr>\n",
       "  </tbody>\n",
       "</table>\n",
       "</div>"
      ],
      "text/plain": [
       "      name    count    percent\n",
       "0       e+    35446   1.617077\n",
       "1  neutron    46401   2.116853\n",
       "2       e-   917606  41.861970\n",
       "3    gamma  1192527  54.404100"
      ]
     },
     "execution_count": 79,
     "metadata": {},
     "output_type": "execute_result"
    }
   ],
   "source": [
    "procents(primary)"
   ]
  },
  {
   "cell_type": "code",
   "execution_count": 80,
   "id": "28df52b2",
   "metadata": {},
   "outputs": [
    {
     "name": "stdout",
     "output_type": "stream",
     "text": [
      "Суммарная доза от первичных частиц: 37244.398456309566\n"
     ]
    },
    {
     "data": {
      "text/html": [
       "<div>\n",
       "<style scoped>\n",
       "    .dataframe tbody tr th:only-of-type {\n",
       "        vertical-align: middle;\n",
       "    }\n",
       "\n",
       "    .dataframe tbody tr th {\n",
       "        vertical-align: top;\n",
       "    }\n",
       "\n",
       "    .dataframe thead th {\n",
       "        text-align: right;\n",
       "    }\n",
       "</style>\n",
       "<table border=\"1\" class=\"dataframe\">\n",
       "  <thead>\n",
       "    <tr style=\"text-align: right;\">\n",
       "      <th></th>\n",
       "      <th>name</th>\n",
       "      <th>dose</th>\n",
       "      <th>dose_percent</th>\n",
       "    </tr>\n",
       "  </thead>\n",
       "  <tbody>\n",
       "    <tr>\n",
       "      <th>0</th>\n",
       "      <td>e+</td>\n",
       "      <td>2180.715624</td>\n",
       "      <td>5.855151</td>\n",
       "    </tr>\n",
       "    <tr>\n",
       "      <th>1</th>\n",
       "      <td>neutron</td>\n",
       "      <td>194.117591</td>\n",
       "      <td>0.521199</td>\n",
       "    </tr>\n",
       "    <tr>\n",
       "      <th>2</th>\n",
       "      <td>e-</td>\n",
       "      <td>34741.042098</td>\n",
       "      <td>93.278569</td>\n",
       "    </tr>\n",
       "    <tr>\n",
       "      <th>3</th>\n",
       "      <td>gamma</td>\n",
       "      <td>128.523143</td>\n",
       "      <td>0.345080</td>\n",
       "    </tr>\n",
       "  </tbody>\n",
       "</table>\n",
       "</div>"
      ],
      "text/plain": [
       "      name          dose  dose_percent\n",
       "0       e+   2180.715624      5.855151\n",
       "1  neutron    194.117591      0.521199\n",
       "2       e-  34741.042098     93.278569\n",
       "3    gamma    128.523143      0.345080"
      ]
     },
     "execution_count": 80,
     "metadata": {},
     "output_type": "execute_result"
    }
   ],
   "source": [
    "print('Суммарная доза от первичных частиц:', sum(dose_weights(primary)['dose']))\n",
    "dose_weights(primary)"
   ]
  },
  {
   "cell_type": "markdown",
   "id": "92f27a46",
   "metadata": {},
   "source": [
    "## Вторичные частицы в фантоме"
   ]
  },
  {
   "cell_type": "code",
   "execution_count": 81,
   "id": "61acad71",
   "metadata": {},
   "outputs": [
    {
     "data": {
      "text/plain": [
       "8733948"
      ]
     },
     "execution_count": 81,
     "metadata": {},
     "output_type": "execute_result"
    }
   ],
   "source": [
    "secondary = data[data['creator_process'] != 'user']\n",
    "len(secondary)"
   ]
  },
  {
   "cell_type": "code",
   "execution_count": 82,
   "id": "9283918b",
   "metadata": {},
   "outputs": [
    {
     "name": "stdout",
     "output_type": "stream",
     "text": [
      "Суммарная доза от вторичных частиц: 425132.0795659667\n"
     ]
    },
    {
     "data": {
      "text/html": [
       "<div>\n",
       "<style scoped>\n",
       "    .dataframe tbody tr th:only-of-type {\n",
       "        vertical-align: middle;\n",
       "    }\n",
       "\n",
       "    .dataframe tbody tr th {\n",
       "        vertical-align: top;\n",
       "    }\n",
       "\n",
       "    .dataframe thead th {\n",
       "        text-align: right;\n",
       "    }\n",
       "</style>\n",
       "<table border=\"1\" class=\"dataframe\">\n",
       "  <thead>\n",
       "    <tr style=\"text-align: right;\">\n",
       "      <th></th>\n",
       "      <th>name</th>\n",
       "      <th>dose</th>\n",
       "      <th>dose_percent</th>\n",
       "    </tr>\n",
       "  </thead>\n",
       "  <tbody>\n",
       "    <tr>\n",
       "      <th>0</th>\n",
       "      <td>O17</td>\n",
       "      <td>0.000041</td>\n",
       "      <td>9.735233e-09</td>\n",
       "    </tr>\n",
       "    <tr>\n",
       "      <th>1</th>\n",
       "      <td>O16</td>\n",
       "      <td>39.639670</td>\n",
       "      <td>9.324083e-03</td>\n",
       "    </tr>\n",
       "    <tr>\n",
       "      <th>2</th>\n",
       "      <td>O15</td>\n",
       "      <td>0.077820</td>\n",
       "      <td>1.830481e-05</td>\n",
       "    </tr>\n",
       "    <tr>\n",
       "      <th>3</th>\n",
       "      <td>O18</td>\n",
       "      <td>0.158966</td>\n",
       "      <td>3.739217e-05</td>\n",
       "    </tr>\n",
       "    <tr>\n",
       "      <th>4</th>\n",
       "      <td>e+</td>\n",
       "      <td>18787.019613</td>\n",
       "      <td>4.419102e+00</td>\n",
       "    </tr>\n",
       "    <tr>\n",
       "      <th>5</th>\n",
       "      <td>deuteron</td>\n",
       "      <td>0.203293</td>\n",
       "      <td>4.781876e-05</td>\n",
       "    </tr>\n",
       "    <tr>\n",
       "      <th>6</th>\n",
       "      <td>N15</td>\n",
       "      <td>0.929196</td>\n",
       "      <td>2.185664e-04</td>\n",
       "    </tr>\n",
       "    <tr>\n",
       "      <th>7</th>\n",
       "      <td>C12</td>\n",
       "      <td>15.069317</td>\n",
       "      <td>3.544620e-03</td>\n",
       "    </tr>\n",
       "    <tr>\n",
       "      <th>8</th>\n",
       "      <td>proton</td>\n",
       "      <td>981.400105</td>\n",
       "      <td>2.308459e-01</td>\n",
       "    </tr>\n",
       "    <tr>\n",
       "      <th>9</th>\n",
       "      <td>alpha</td>\n",
       "      <td>44.402987</td>\n",
       "      <td>1.044452e-02</td>\n",
       "    </tr>\n",
       "    <tr>\n",
       "      <th>10</th>\n",
       "      <td>e-</td>\n",
       "      <td>405227.562497</td>\n",
       "      <td>9.531804e+01</td>\n",
       "    </tr>\n",
       "    <tr>\n",
       "      <th>11</th>\n",
       "      <td>neutron</td>\n",
       "      <td>0.108681</td>\n",
       "      <td>2.556399e-05</td>\n",
       "    </tr>\n",
       "    <tr>\n",
       "      <th>12</th>\n",
       "      <td>gamma</td>\n",
       "      <td>35.507380</td>\n",
       "      <td>8.352082e-03</td>\n",
       "    </tr>\n",
       "  </tbody>\n",
       "</table>\n",
       "</div>"
      ],
      "text/plain": [
       "        name           dose  dose_percent\n",
       "0        O17       0.000041  9.735233e-09\n",
       "1        O16      39.639670  9.324083e-03\n",
       "2        O15       0.077820  1.830481e-05\n",
       "3        O18       0.158966  3.739217e-05\n",
       "4         e+   18787.019613  4.419102e+00\n",
       "5   deuteron       0.203293  4.781876e-05\n",
       "6        N15       0.929196  2.185664e-04\n",
       "7        C12      15.069317  3.544620e-03\n",
       "8     proton     981.400105  2.308459e-01\n",
       "9      alpha      44.402987  1.044452e-02\n",
       "10        e-  405227.562497  9.531804e+01\n",
       "11   neutron       0.108681  2.556399e-05\n",
       "12     gamma      35.507380  8.352082e-03"
      ]
     },
     "execution_count": 82,
     "metadata": {},
     "output_type": "execute_result"
    }
   ],
   "source": [
    "print('Суммарная доза от вторичных частиц:', sum(dose_weights(secondary)['dose']))\n",
    "dose_weights(secondary)"
   ]
  },
  {
   "cell_type": "markdown",
   "id": "819549eb",
   "metadata": {},
   "source": [
    "## Доза от глубины"
   ]
  },
  {
   "cell_type": "markdown",
   "id": "2e3bd0b0",
   "metadata": {},
   "source": [
    "**Доза от первичных и вторичных частиц**"
   ]
  },
  {
   "cell_type": "code",
   "execution_count": 83,
   "id": "52d1210b",
   "metadata": {},
   "outputs": [],
   "source": [
    "borders1, bins1 = get_z_dose_bins(data)\n",
    "borders2, bins2 = get_z_dose_bins(primary)\n",
    "borders3, bins3 = get_z_dose_bins(secondary)"
   ]
  },
  {
   "cell_type": "code",
   "execution_count": 84,
   "id": "f8792580",
   "metadata": {},
   "outputs": [
    {
     "data": {
      "image/png": "[encoded data removed]",
      "text/plain": [
       "<Figure size 720x432 with 1 Axes>"
      ]
     },
     "metadata": {
      "needs_background": "light"
     },
     "output_type": "display_data"
    }
   ],
   "source": [
    "plt.scatter(borders1, bins1, s=5, label='total')\n",
    "plt.scatter(borders2, bins2, s=5, label='primary')\n",
    "plt.scatter(borders3, bins3, s=5, label='secondary')\n",
    "plt.xlim([0, plt.xlim()[1]])\n",
    "# plt.ylim([0, plt.ylim()[1]])\n",
    "plt.yscale('log')\n",
    "plt.ylabel('Доза, относительные единицы')\n",
    "plt.xlabel('Глубина, см')\n",
    "plt.legend()\n",
    "plt.show()"
   ]
  },
  {
   "cell_type": "markdown",
   "id": "4d3aa294",
   "metadata": {},
   "source": [
    "**Доза от первичных частиц**"
   ]
  },
  {
   "cell_type": "code",
   "execution_count": 85,
   "id": "1a8dc565",
   "metadata": {},
   "outputs": [],
   "source": [
    "borders1, bins1 = get_z_dose_bins(primary[primary['name'] == 'e-'])\n",
    "borders2, bins2 = get_z_dose_bins(primary[primary['name'] == 'gamma'])"
   ]
  },
  {
   "cell_type": "code",
   "execution_count": 86,
   "id": "f08c3811",
   "metadata": {},
   "outputs": [
    {
     "data": {
      "image/png": "[encoded data removed]",
      "text/plain": [
       "<Figure size 720x432 with 1 Axes>"
      ]
     },
     "metadata": {
      "needs_background": "light"
     },
     "output_type": "display_data"
    }
   ],
   "source": [
    "plt.scatter(borders1, bins1, s=5, label='e-')\n",
    "plt.scatter(borders2, bins2, s=5, label='gamma')\n",
    "plt.xlim([0, plt.xlim()[1]])\n",
    "# plt.ylim([0, plt.ylim()[1]])\n",
    "plt.yscale('log')\n",
    "plt.ylabel('Доза, относительные единицы')\n",
    "plt.xlabel('Глубина, см')\n",
    "plt.legend()\n",
    "plt.show()"
   ]
  },
  {
   "cell_type": "markdown",
   "id": "a4af5641",
   "metadata": {},
   "source": [
    "**Доза от вторичных частиц**"
   ]
  },
  {
   "cell_type": "code",
   "execution_count": 87,
   "id": "525c9a8b",
   "metadata": {},
   "outputs": [
    {
     "data": {
      "image/png": "[encoded data removed]",
      "text/plain": [
       "<Figure size 720x432 with 1 Axes>"
      ]
     },
     "metadata": {
      "needs_background": "light"
     },
     "output_type": "display_data"
    }
   ],
   "source": [
    "for name in ['e-','e+', 'gamma']:\n",
    "    borders, bins = get_z_dose_bins(secondary[secondary['name'] == name])\n",
    "    plt.scatter(borders, bins, s=5, label=name)\n",
    "plt.yscale('log')\n",
    "plt.ylabel('Доза, относительные единицы')\n",
    "plt.xlabel('Глубина, см')\n",
    "plt.legend()\n",
    "plt.show()"
   ]
  },
  {
   "cell_type": "markdown",
   "id": "fadbaa46",
   "metadata": {},
   "source": [
    "## Распределение по энергиям"
   ]
  },
  {
   "cell_type": "markdown",
   "id": "ac22ba5d",
   "metadata": {},
   "source": [
    "**Энергия по вторичным частицам**"
   ]
  },
  {
   "cell_type": "code",
   "execution_count": 88,
   "id": "b3f4f95e",
   "metadata": {},
   "outputs": [
    {
     "data": {
      "image/png": "[encoded data removed]",
      "text/plain": [
       "<Figure size 720x432 with 1 Axes>"
      ]
     },
     "metadata": {
      "needs_background": "light"
     },
     "output_type": "display_data"
    }
   ],
   "source": [
    "for pname in ['gamma', 'e-', 'e+']:\n",
    "    names_particle = secondary[secondary['name'] == pname]\n",
    "    energys, counts = get_energy_count_bins(names_particle)\n",
    "    plt.scatter(energys, counts, s=5, label=pname)\n",
    "\n",
    "plt.legend()\n",
    "# plt.ylim([10, 10**8])\n",
    "plt.yscale('log')\n",
    "plt.ylabel('Количество частиц')\n",
    "plt.xlabel('Энергия, МэВ')\n",
    "plt.show()"
   ]
  },
  {
   "cell_type": "markdown",
   "id": "e0c9b58e",
   "metadata": {},
   "source": [
    "**Энергия вторичной частицы по процессу рождения**"
   ]
  },
  {
   "cell_type": "code",
   "execution_count": 89,
   "id": "62aed066",
   "metadata": {},
   "outputs": [],
   "source": [
    "def energy_by_process(paticles):\n",
    "    for process in pnames.keys():\n",
    "        names_process = paticles[paticles['creator_process'] == process]\n",
    "        if len(names_process) == 0:\n",
    "            continue\n",
    "        energys, counts = get_energy_count_bins(names_process)\n",
    "        plt.scatter(energys, counts, s=5, label=pnames[process])\n",
    "\n",
    "    plt.legend()\n",
    "    # plt.ylim([10, 10**8])\n",
    "    plt.yscale('log')\n",
    "    plt.ylabel('Количество частиц')\n",
    "    plt.xlabel('Энергия, МэВ')\n",
    "    plt.show()"
   ]
  },
  {
   "cell_type": "code",
   "execution_count": 90,
   "id": "25e7c415",
   "metadata": {},
   "outputs": [
    {
     "data": {
      "image/png": "[encoded data removed]",
      "text/plain": [
       "<Figure size 720x432 with 1 Axes>"
      ]
     },
     "metadata": {
      "needs_background": "light"
     },
     "output_type": "display_data"
    }
   ],
   "source": [
    "paticles = secondary[secondary['name'] == 'gamma']\n",
    "energy_by_process(paticles)"
   ]
  },
  {
   "cell_type": "code",
   "execution_count": 92,
   "id": "15f49822",
   "metadata": {},
   "outputs": [
    {
     "data": {
      "image/png": "[encoded data removed]",
      "text/plain": [
       "<Figure size 720x432 with 1 Axes>"
      ]
     },
     "metadata": {
      "needs_background": "light"
     },
     "output_type": "display_data"
    }
   ],
   "source": [
    "paticles = secondary[secondary['name'] == 'e-']\n",
    "energy_by_process(paticles)"
   ]
  },
  {
   "cell_type": "code",
   "execution_count": 93,
   "id": "b581a512",
   "metadata": {},
   "outputs": [
    {
     "data": {
      "image/png": "[encoded data removed]",
      "text/plain": [
       "<Figure size 720x432 with 1 Axes>"
      ]
     },
     "metadata": {
      "needs_background": "light"
     },
     "output_type": "display_data"
    }
   ],
   "source": [
    "paticles = secondary[secondary['name'] == 'e+']\n",
    "energy_by_process(paticles)"
   ]
  },
  {
   "cell_type": "code",
   "execution_count": null,
   "id": "b91f8274",
   "metadata": {},
   "outputs": [],
   "source": []
  },
  {
   "cell_type": "code",
   "execution_count": null,
   "id": "adbf4607",
   "metadata": {},
   "outputs": [],
   "source": []
  }
 ],
 "metadata": {
  "kernelspec": {
   "display_name": "Python 3 (ipykernel)",
   "language": "python",
   "name": "python3"
  },
  "language_info": {
   "codemirror_mode": {
    "name": "ipython",
    "version": 3
   },
   "file_extension": ".py",
   "mimetype": "text/x-python",
   "name": "python",
   "nbconvert_exporter": "python",
   "pygments_lexer": "ipython3",
   "version": "3.10.4"
  }
 },
 "nbformat": 4,
 "nbformat_minor": 5
}
