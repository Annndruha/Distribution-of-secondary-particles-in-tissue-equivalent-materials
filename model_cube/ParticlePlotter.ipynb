{
 "cells": [
  {
   "cell_type": "markdown",
   "id": "6b9ffe9f",
   "metadata": {},
   "source": [
    "### Парсинг данных и создание датафрейма"
   ]
  },
  {
   "cell_type": "code",
   "execution_count": 13,
   "id": "0db7974d",
   "metadata": {},
   "outputs": [],
   "source": [
    "def procents(d):\n",
    "    l = len(d)\n",
    "    res = []\n",
    "    for name in set(d['name']):\n",
    "        count = len(d[d['name'] == name])\n",
    "        res.append((name, count, count/l*100))\n",
    "    return pd.DataFrame(res, columns=['name', 'count', 'percent'])"
   ]
  },
  {
   "cell_type": "code",
   "execution_count": 18,
   "id": "2cdd77ad",
   "metadata": {},
   "outputs": [],
   "source": [
    "def dose_weights(d):\n",
    "    l = len(d)\n",
    "    res = []\n",
    "    total_dose = sum(d['dE'])\n",
    "    for name in set(d['name']):\n",
    "        particle_filt = d[d['name'] == name]\n",
    "        dose = sum(particle_filt['dE'])\n",
    "        res.append((name, dose, dose/total_dose*100))\n",
    "    return pd.DataFrame(res, columns=['name', 'dose', 'dose_percent'])"
   ]
  },
  {
   "cell_type": "code",
   "execution_count": 69,
   "id": "18fab538",
   "metadata": {},
   "outputs": [],
   "source": [
    "def get_z_dose_bins(d, bins=100):\n",
    "    borders = np.linspace(-20, 20, bins)\n",
    "    bins = []\n",
    "    for i in range(len(borders[:-1])):\n",
    "        dd = d[d['z'] > borders[i]]\n",
    "        bin_data = dd[dd['z'] < borders[i+1]]\n",
    "        bins.append(sum(bin_data['dE']))\n",
    "    return np.array(borders[:-1])+20, np.array(bins)"
   ]
  },
  {
   "cell_type": "code",
   "execution_count": 75,
   "id": "attended-bermuda",
   "metadata": {},
   "outputs": [],
   "source": [
    "import os\n",
    "import pandas as pd\n",
    "import numpy as np\n",
    "import glob\n",
    "import matplotlib.pyplot as plt\n",
    "plt.rcParams[\"figure.figsize\"] = (10,6)"
   ]
  },
  {
   "cell_type": "code",
   "execution_count": 3,
   "id": "cf91d50c",
   "metadata": {},
   "outputs": [],
   "source": [
    "runN = \"*\" # If take all runs set runN = \"*\"\n",
    "paths = glob.glob(f\"build/Run{runN}_nt_ParticleData_t*.csv\") #accel_data_secondary\n",
    "assert len(paths) == 20"
   ]
  },
  {
   "cell_type": "code",
   "execution_count": 4,
   "id": "b50bbf71",
   "metadata": {},
   "outputs": [
    {
     "name": "stdout",
     "output_type": "stream",
     "text": [
      "Headers from file: build/Run0_nt_ParticleData_t8.csv\n"
     ]
    }
   ],
   "source": [
    "with open(paths[0], 'r') as f:\n",
    "    print(f\"Headers from file: {paths[0]}\")\n",
    "\n",
    "    hlines = []\n",
    "    while True:\n",
    "        line = f.readline()\n",
    "        if len(line) == 0 or line[0] != '#':\n",
    "            break\n",
    "        hlines.append(line)\n",
    "    title = hlines[1].replace('#title ', '')[:-1]\n",
    "    sep = chr(int(hlines[2].replace('#separator ', '')[:-1]))\n",
    "    vsc_sep = chr(int(hlines[3].replace('#vector_separator ', '')[:-1]))\n",
    "    columns = [' '.join(l.split(' ')[2:])[:-1] for l in hlines[4:]]\n",
    "    meta_len = len(hlines)\n",
    "    # print(f'Metarows: {meta_len}\\nColumns: {columns}')"
   ]
  },
  {
   "cell_type": "code",
   "execution_count": 5,
   "id": "b887a6a4",
   "metadata": {},
   "outputs": [],
   "source": [
    "pnames = {'annihil':'Аннигиляция','compt':'Комптон-эффект','conv':'Обратная аннигиляция',\n",
    "          'eBrem':'Тормозное излучение','eIoni':'Ионизационные потери','hadElastic':'?',\n",
    "          'phot':'Фотоэффект','photonNuclear':'?'}"
   ]
  },
  {
   "cell_type": "code",
   "execution_count": 6,
   "id": "printable-moral",
   "metadata": {},
   "outputs": [],
   "source": [
    "data = pd.DataFrame()\n",
    "for path in paths[:10]:\n",
    "    item = pd.read_csv(path, skiprows=meta_len, names=columns)\n",
    "    data = pd.concat([data, item], ignore_index=True)"
   ]
  },
  {
   "cell_type": "code",
   "execution_count": 7,
   "id": "948b6d2f",
   "metadata": {},
   "outputs": [
    {
     "data": {
      "text/plain": [
       "13977862"
      ]
     },
     "execution_count": 7,
     "metadata": {},
     "output_type": "execute_result"
    }
   ],
   "source": [
    "len(data)"
   ]
  },
  {
   "cell_type": "code",
   "execution_count": 8,
   "id": "c0244ce6",
   "metadata": {},
   "outputs": [
    {
     "data": {
      "text/html": [
       "<div>\n",
       "<style scoped>\n",
       "    .dataframe tbody tr th:only-of-type {\n",
       "        vertical-align: middle;\n",
       "    }\n",
       "\n",
       "    .dataframe tbody tr th {\n",
       "        vertical-align: top;\n",
       "    }\n",
       "\n",
       "    .dataframe thead th {\n",
       "        text-align: right;\n",
       "    }\n",
       "</style>\n",
       "<table border=\"1\" class=\"dataframe\">\n",
       "  <thead>\n",
       "    <tr style=\"text-align: right;\">\n",
       "      <th></th>\n",
       "      <th>particle_name</th>\n",
       "      <th>creator_process</th>\n",
       "      <th>parentID</th>\n",
       "      <th>energy</th>\n",
       "      <th>z</th>\n",
       "      <th>dE</th>\n",
       "    </tr>\n",
       "  </thead>\n",
       "  <tbody>\n",
       "    <tr>\n",
       "      <th>0</th>\n",
       "      <td>e-</td>\n",
       "      <td>user</td>\n",
       "      <td>0</td>\n",
       "      <td>0.544467</td>\n",
       "      <td>-20.0000</td>\n",
       "      <td>0.000097</td>\n",
       "    </tr>\n",
       "    <tr>\n",
       "      <th>1</th>\n",
       "      <td>e-</td>\n",
       "      <td>user</td>\n",
       "      <td>0</td>\n",
       "      <td>0.544359</td>\n",
       "      <td>-19.9999</td>\n",
       "      <td>0.000108</td>\n",
       "    </tr>\n",
       "    <tr>\n",
       "      <th>2</th>\n",
       "      <td>e-</td>\n",
       "      <td>user</td>\n",
       "      <td>0</td>\n",
       "      <td>0.544172</td>\n",
       "      <td>-19.9998</td>\n",
       "      <td>0.000187</td>\n",
       "    </tr>\n",
       "    <tr>\n",
       "      <th>3</th>\n",
       "      <td>e-</td>\n",
       "      <td>user</td>\n",
       "      <td>0</td>\n",
       "      <td>0.543680</td>\n",
       "      <td>-19.9996</td>\n",
       "      <td>0.000492</td>\n",
       "    </tr>\n",
       "    <tr>\n",
       "      <th>4</th>\n",
       "      <td>e-</td>\n",
       "      <td>user</td>\n",
       "      <td>0</td>\n",
       "      <td>0.543083</td>\n",
       "      <td>-19.9993</td>\n",
       "      <td>0.000597</td>\n",
       "    </tr>\n",
       "    <tr>\n",
       "      <th>...</th>\n",
       "      <td>...</td>\n",
       "      <td>...</td>\n",
       "      <td>...</td>\n",
       "      <td>...</td>\n",
       "      <td>...</td>\n",
       "      <td>...</td>\n",
       "    </tr>\n",
       "    <tr>\n",
       "      <th>13977857</th>\n",
       "      <td>e-</td>\n",
       "      <td>user</td>\n",
       "      <td>0</td>\n",
       "      <td>0.069227</td>\n",
       "      <td>-19.9227</td>\n",
       "      <td>0.013475</td>\n",
       "    </tr>\n",
       "    <tr>\n",
       "      <th>13977858</th>\n",
       "      <td>e-</td>\n",
       "      <td>user</td>\n",
       "      <td>0</td>\n",
       "      <td>0.049022</td>\n",
       "      <td>-19.9209</td>\n",
       "      <td>0.020205</td>\n",
       "    </tr>\n",
       "    <tr>\n",
       "      <th>13977859</th>\n",
       "      <td>e-</td>\n",
       "      <td>user</td>\n",
       "      <td>0</td>\n",
       "      <td>0.025893</td>\n",
       "      <td>-19.9197</td>\n",
       "      <td>0.023130</td>\n",
       "    </tr>\n",
       "    <tr>\n",
       "      <th>13977860</th>\n",
       "      <td>e-</td>\n",
       "      <td>user</td>\n",
       "      <td>0</td>\n",
       "      <td>0.003790</td>\n",
       "      <td>-19.9185</td>\n",
       "      <td>0.022103</td>\n",
       "    </tr>\n",
       "    <tr>\n",
       "      <th>13977861</th>\n",
       "      <td>e-</td>\n",
       "      <td>user</td>\n",
       "      <td>0</td>\n",
       "      <td>0.000000</td>\n",
       "      <td>-19.9186</td>\n",
       "      <td>0.003790</td>\n",
       "    </tr>\n",
       "  </tbody>\n",
       "</table>\n",
       "<p>13977862 rows × 6 columns</p>\n",
       "</div>"
      ],
      "text/plain": [
       "         particle_name creator_process  parentID    energy        z        dE\n",
       "0                   e-            user         0  0.544467 -20.0000  0.000097\n",
       "1                   e-            user         0  0.544359 -19.9999  0.000108\n",
       "2                   e-            user         0  0.544172 -19.9998  0.000187\n",
       "3                   e-            user         0  0.543680 -19.9996  0.000492\n",
       "4                   e-            user         0  0.543083 -19.9993  0.000597\n",
       "...                ...             ...       ...       ...      ...       ...\n",
       "13977857            e-            user         0  0.069227 -19.9227  0.013475\n",
       "13977858            e-            user         0  0.049022 -19.9209  0.020205\n",
       "13977859            e-            user         0  0.025893 -19.9197  0.023130\n",
       "13977860            e-            user         0  0.003790 -19.9185  0.022103\n",
       "13977861            e-            user         0  0.000000 -19.9186  0.003790\n",
       "\n",
       "[13977862 rows x 6 columns]"
      ]
     },
     "execution_count": 8,
     "metadata": {},
     "output_type": "execute_result"
    }
   ],
   "source": [
    "data"
   ]
  },
  {
   "cell_type": "markdown",
   "id": "0d4b7d9d",
   "metadata": {},
   "source": [
    "## \"Первичные\" ускорительные частицы"
   ]
  },
  {
   "cell_type": "code",
   "execution_count": 12,
   "id": "fa9c4696",
   "metadata": {},
   "outputs": [
    {
     "data": {
      "text/plain": [
       "7555809"
      ]
     },
     "execution_count": 12,
     "metadata": {},
     "output_type": "execute_result"
    }
   ],
   "source": [
    "primary = data[data['creator_process'] == 'user']\n",
    "len(primary)"
   ]
  },
  {
   "cell_type": "code",
   "execution_count": 14,
   "id": "ee79a29e",
   "metadata": {},
   "outputs": [
    {
     "data": {
      "text/html": [
       "<div>\n",
       "<style scoped>\n",
       "    .dataframe tbody tr th:only-of-type {\n",
       "        vertical-align: middle;\n",
       "    }\n",
       "\n",
       "    .dataframe tbody tr th {\n",
       "        vertical-align: top;\n",
       "    }\n",
       "\n",
       "    .dataframe thead th {\n",
       "        text-align: right;\n",
       "    }\n",
       "</style>\n",
       "<table border=\"1\" class=\"dataframe\">\n",
       "  <thead>\n",
       "    <tr style=\"text-align: right;\">\n",
       "      <th></th>\n",
       "      <th>name</th>\n",
       "      <th>count</th>\n",
       "      <th>percent</th>\n",
       "    </tr>\n",
       "  </thead>\n",
       "  <tbody>\n",
       "    <tr>\n",
       "      <th>0</th>\n",
       "      <td>e-</td>\n",
       "      <td>6392013</td>\n",
       "      <td>84.597334</td>\n",
       "    </tr>\n",
       "    <tr>\n",
       "      <th>1</th>\n",
       "      <td>gamma</td>\n",
       "      <td>996393</td>\n",
       "      <td>13.187112</td>\n",
       "    </tr>\n",
       "    <tr>\n",
       "      <th>2</th>\n",
       "      <td>geantino</td>\n",
       "      <td>167403</td>\n",
       "      <td>2.215554</td>\n",
       "    </tr>\n",
       "  </tbody>\n",
       "</table>\n",
       "</div>"
      ],
      "text/plain": [
       "       name    count    percent\n",
       "0        e-  6392013  84.597334\n",
       "1     gamma   996393  13.187112\n",
       "2  geantino   167403   2.215554"
      ]
     },
     "execution_count": 14,
     "metadata": {},
     "output_type": "execute_result"
    }
   ],
   "source": [
    "procents(primary)"
   ]
  },
  {
   "cell_type": "code",
   "execution_count": 24,
   "id": "bc8dfc54",
   "metadata": {},
   "outputs": [
    {
     "name": "stdout",
     "output_type": "stream",
     "text": [
      "Суммарная доза от первичных частиц: 314826.1191056307\n"
     ]
    },
    {
     "data": {
      "text/html": [
       "<div>\n",
       "<style scoped>\n",
       "    .dataframe tbody tr th:only-of-type {\n",
       "        vertical-align: middle;\n",
       "    }\n",
       "\n",
       "    .dataframe tbody tr th {\n",
       "        vertical-align: top;\n",
       "    }\n",
       "\n",
       "    .dataframe thead th {\n",
       "        text-align: right;\n",
       "    }\n",
       "</style>\n",
       "<table border=\"1\" class=\"dataframe\">\n",
       "  <thead>\n",
       "    <tr style=\"text-align: right;\">\n",
       "      <th></th>\n",
       "      <th>name</th>\n",
       "      <th>dose</th>\n",
       "      <th>dose_percent</th>\n",
       "    </tr>\n",
       "  </thead>\n",
       "  <tbody>\n",
       "    <tr>\n",
       "      <th>0</th>\n",
       "      <td>e-</td>\n",
       "      <td>314715.427436</td>\n",
       "      <td>99.96484</td>\n",
       "    </tr>\n",
       "    <tr>\n",
       "      <th>1</th>\n",
       "      <td>gamma</td>\n",
       "      <td>110.691670</td>\n",
       "      <td>0.03516</td>\n",
       "    </tr>\n",
       "    <tr>\n",
       "      <th>2</th>\n",
       "      <td>geantino</td>\n",
       "      <td>0.000000</td>\n",
       "      <td>0.00000</td>\n",
       "    </tr>\n",
       "  </tbody>\n",
       "</table>\n",
       "</div>"
      ],
      "text/plain": [
       "       name           dose  dose_percent\n",
       "0        e-  314715.427436      99.96484\n",
       "1     gamma     110.691670       0.03516\n",
       "2  geantino       0.000000       0.00000"
      ]
     },
     "execution_count": 24,
     "metadata": {},
     "output_type": "execute_result"
    }
   ],
   "source": [
    "print('Суммарная доза от первичных частиц:', sum(dose_weights(primary)['dose']))\n",
    "dose_weights(primary)"
   ]
  },
  {
   "cell_type": "markdown",
   "id": "9bd08c67",
   "metadata": {},
   "source": [
    "## Вторичные частицы в фантоме"
   ]
  },
  {
   "cell_type": "code",
   "execution_count": 15,
   "id": "caaec192",
   "metadata": {},
   "outputs": [
    {
     "data": {
      "text/plain": [
       "6422053"
      ]
     },
     "execution_count": 15,
     "metadata": {},
     "output_type": "execute_result"
    }
   ],
   "source": [
    "secondary = data[data['creator_process'] != 'user']\n",
    "len(secondary)"
   ]
  },
  {
   "cell_type": "code",
   "execution_count": 26,
   "id": "6b530ca9",
   "metadata": {},
   "outputs": [
    {
     "name": "stdout",
     "output_type": "stream",
     "text": [
      "Суммарная доза от вторичных частиц: 238370.40745660441\n"
     ]
    },
    {
     "data": {
      "text/html": [
       "<div>\n",
       "<style scoped>\n",
       "    .dataframe tbody tr th:only-of-type {\n",
       "        vertical-align: middle;\n",
       "    }\n",
       "\n",
       "    .dataframe tbody tr th {\n",
       "        vertical-align: top;\n",
       "    }\n",
       "\n",
       "    .dataframe thead th {\n",
       "        text-align: right;\n",
       "    }\n",
       "</style>\n",
       "<table border=\"1\" class=\"dataframe\">\n",
       "  <thead>\n",
       "    <tr style=\"text-align: right;\">\n",
       "      <th></th>\n",
       "      <th>name</th>\n",
       "      <th>dose</th>\n",
       "      <th>dose_percent</th>\n",
       "    </tr>\n",
       "  </thead>\n",
       "  <tbody>\n",
       "    <tr>\n",
       "      <th>0</th>\n",
       "      <td>alpha</td>\n",
       "      <td>51.365636</td>\n",
       "      <td>2.154866e-02</td>\n",
       "    </tr>\n",
       "    <tr>\n",
       "      <th>1</th>\n",
       "      <td>C12</td>\n",
       "      <td>17.325490</td>\n",
       "      <td>7.268306e-03</td>\n",
       "    </tr>\n",
       "    <tr>\n",
       "      <th>2</th>\n",
       "      <td>N15</td>\n",
       "      <td>1.620386</td>\n",
       "      <td>6.797765e-04</td>\n",
       "    </tr>\n",
       "    <tr>\n",
       "      <th>3</th>\n",
       "      <td>O16</td>\n",
       "      <td>0.171638</td>\n",
       "      <td>7.200492e-05</td>\n",
       "    </tr>\n",
       "    <tr>\n",
       "      <th>4</th>\n",
       "      <td>gamma</td>\n",
       "      <td>34.834543</td>\n",
       "      <td>1.461362e-02</td>\n",
       "    </tr>\n",
       "    <tr>\n",
       "      <th>5</th>\n",
       "      <td>proton</td>\n",
       "      <td>20.460551</td>\n",
       "      <td>8.583511e-03</td>\n",
       "    </tr>\n",
       "    <tr>\n",
       "      <th>6</th>\n",
       "      <td>O15</td>\n",
       "      <td>0.183168</td>\n",
       "      <td>7.684175e-05</td>\n",
       "    </tr>\n",
       "    <tr>\n",
       "      <th>7</th>\n",
       "      <td>neutron</td>\n",
       "      <td>0.154811</td>\n",
       "      <td>6.494567e-05</td>\n",
       "    </tr>\n",
       "    <tr>\n",
       "      <th>8</th>\n",
       "      <td>e-</td>\n",
       "      <td>228413.363883</td>\n",
       "      <td>9.582287e+01</td>\n",
       "    </tr>\n",
       "    <tr>\n",
       "      <th>9</th>\n",
       "      <td>O18</td>\n",
       "      <td>0.000043</td>\n",
       "      <td>1.809711e-08</td>\n",
       "    </tr>\n",
       "    <tr>\n",
       "      <th>10</th>\n",
       "      <td>O17</td>\n",
       "      <td>0.000008</td>\n",
       "      <td>3.351964e-09</td>\n",
       "    </tr>\n",
       "    <tr>\n",
       "      <th>11</th>\n",
       "      <td>e+</td>\n",
       "      <td>9830.927299</td>\n",
       "      <td>4.124223e+00</td>\n",
       "    </tr>\n",
       "  </tbody>\n",
       "</table>\n",
       "</div>"
      ],
      "text/plain": [
       "       name           dose  dose_percent\n",
       "0     alpha      51.365636  2.154866e-02\n",
       "1       C12      17.325490  7.268306e-03\n",
       "2       N15       1.620386  6.797765e-04\n",
       "3       O16       0.171638  7.200492e-05\n",
       "4     gamma      34.834543  1.461362e-02\n",
       "5    proton      20.460551  8.583511e-03\n",
       "6       O15       0.183168  7.684175e-05\n",
       "7   neutron       0.154811  6.494567e-05\n",
       "8        e-  228413.363883  9.582287e+01\n",
       "9       O18       0.000043  1.809711e-08\n",
       "10      O17       0.000008  3.351964e-09\n",
       "11       e+    9830.927299  4.124223e+00"
      ]
     },
     "execution_count": 26,
     "metadata": {},
     "output_type": "execute_result"
    }
   ],
   "source": [
    "print('Суммарная доза от вторичных частиц:', sum(dose_weights(secondary)['dose']))\n",
    "dose_weights(secondary)"
   ]
  },
  {
   "cell_type": "markdown",
   "id": "819549eb",
   "metadata": {},
   "source": [
    "## Доза от глубины"
   ]
  },
  {
   "cell_type": "markdown",
   "id": "721c0394",
   "metadata": {},
   "source": [
    "**Доза от первичных и вторичных частиц**"
   ]
  },
  {
   "cell_type": "code",
   "execution_count": 78,
   "id": "cd035853",
   "metadata": {},
   "outputs": [],
   "source": [
    "borders1, bins1 = get_z_dose_bins(data)\n",
    "borders2, bins2 = get_z_dose_bins(primary)\n",
    "borders3, bins3 = get_z_dose_bins(secondary)"
   ]
  },
  {
   "cell_type": "code",
   "execution_count": 82,
   "id": "e11cc6a2",
   "metadata": {},
   "outputs": [
    {
     "data": {
      "image/png": "[encoded data removed]",
      "text/plain": [
       "<Figure size 720x432 with 1 Axes>"
      ]
     },
     "metadata": {
      "needs_background": "light"
     },
     "output_type": "display_data"
    }
   ],
   "source": [
    "plt.scatter(borders1, bins1, s=5, label='total')\n",
    "plt.scatter(borders2, bins2, s=5, label='primary')\n",
    "plt.scatter(borders3, bins3, s=5, label='secondary')\n",
    "plt.xlim([0, plt.xlim()[1]])\n",
    "# plt.ylim([0, plt.ylim()[1]])\n",
    "plt.yscale('log')\n",
    "plt.ylabel('Доза, относительные единицы')\n",
    "plt.xlabel('Глубина, см')\n",
    "plt.legend()\n",
    "plt.show()"
   ]
  },
  {
   "cell_type": "markdown",
   "id": "db5cf944",
   "metadata": {},
   "source": [
    "**Доза от первичных частиц**"
   ]
  },
  {
   "cell_type": "code",
   "execution_count": 80,
   "id": "86b9a75b",
   "metadata": {},
   "outputs": [],
   "source": [
    "borders1, bins1 = get_z_dose_bins(primary[primary['particle_name'] == 'e-'])\n",
    "borders2, bins2 = get_z_dose_bins(primary[primary['particle_name'] == 'gamma'])"
   ]
  },
  {
   "cell_type": "code",
   "execution_count": 83,
   "id": "34dd8f20",
   "metadata": {},
   "outputs": [
    {
     "data": {
      "image/png": "[encoded data removed]",
      "text/plain": [
       "<Figure size 720x432 with 1 Axes>"
      ]
     },
     "metadata": {
      "needs_background": "light"
     },
     "output_type": "display_data"
    }
   ],
   "source": [
    "plt.scatter(borders1, bins1, s=5, label='e-')\n",
    "plt.scatter(borders2, bins2, s=5, label='gamma')\n",
    "plt.xlim([0, plt.xlim()[1]])\n",
    "# plt.ylim([0, plt.ylim()[1]])\n",
    "plt.yscale('log')\n",
    "plt.ylabel('Доза, относительные единицы')\n",
    "plt.xlabel('Глубина, см')\n",
    "plt.legend()\n",
    "plt.show()"
   ]
  },
  {
   "cell_type": "markdown",
   "id": "29d47599",
   "metadata": {},
   "source": [
    "**Доза от вторичных частиц**"
   ]
  },
  {
   "cell_type": "code",
   "execution_count": 84,
   "id": "18b8f04b",
   "metadata": {},
   "outputs": [
    {
     "data": {
      "image/png": "[encoded data removed]",
      "text/plain": [
       "<Figure size 720x432 with 1 Axes>"
      ]
     },
     "metadata": {
      "needs_background": "light"
     },
     "output_type": "display_data"
    }
   ],
   "source": [
    "for name in ['e-','e+', 'gamma']:\n",
    "    borders, bins = get_z_dose_bins(secondary[secondary['particle_name'] == name])\n",
    "    plt.scatter(borders, bins, s=5, label=name)\n",
    "plt.yscale('log')\n",
    "plt.ylabel('Доза, относительные единицы')\n",
    "plt.xlabel('Глубина, см')\n",
    "plt.legend()\n",
    "plt.show()"
   ]
  },
  {
   "cell_type": "markdown",
   "id": "bf5693bb",
   "metadata": {},
   "source": [
    "## Распределение по энергиям"
   ]
  },
  {
   "cell_type": "code",
   "execution_count": 87,
   "id": "ded4d62d",
   "metadata": {},
   "outputs": [],
   "source": [
    "def get_energy_count_bins(d, bins=100):\n",
    "    n, e = np.histogram(d['energy'], bins)\n",
    "    return e[:-1], n"
   ]
  },
  {
   "cell_type": "markdown",
   "id": "ac22ba5d",
   "metadata": {},
   "source": [
    "**Энергия вторичных частиц**"
   ]
  },
  {
   "cell_type": "code",
   "execution_count": 88,
   "id": "15f49822",
   "metadata": {},
   "outputs": [
    {
     "data": {
      "image/png": "[encoded data removed]",
      "text/plain": [
       "<Figure size 720x432 with 1 Axes>"
      ]
     },
     "metadata": {
      "needs_background": "light"
     },
     "output_type": "display_data"
    }
   ],
   "source": [
    "for process in ['eIoni', 'compt', 'conv', 'phot']:\n",
    "    energys, counts = get_energy_count_bins(secondary[secondary['creator_process'] == process])\n",
    "    plt.scatter(energys, counts, s=5, label=pnames[process])\n",
    "\n",
    "# for process in ['eIoni', 'compt', 'conv', 'phot']:\n",
    "#     proc_data = filt[filt['creator_process'] == process]\n",
    "#     # n, e, _ = plt.hist(proc_data['energy'], bins=100)\n",
    "#     n, e = np.histogram(proc_data['energy'], bins=100)\n",
    "#     plt.plot(e[:-1], n, label=pnames[process]) # \n",
    "plt.legend()\n",
    "# plt.ylim([10, 10**8])\n",
    "plt.yscale('log')\n",
    "plt.ylabel('Количество частиц')\n",
    "plt.xlabel('Энергия, МэВ')\n",
    "plt.show()"
   ]
  },
  {
   "cell_type": "code",
   "execution_count": 13,
   "id": "b99c1343",
   "metadata": {},
   "outputs": [
    {
     "data": {
      "image/png": "[encoded data removed]",
      "text/plain": [
       "<Figure size 432x288 with 1 Axes>"
      ]
     },
     "metadata": {
      "needs_background": "light"
     },
     "output_type": "display_data"
    }
   ],
   "source": [
    "filt = data[data['name'] == 'gamma']\n",
    "n, e = np.histogram(filt['energy'], bins=100)\n",
    "n, e = n[:-10], e[:-11]\n",
    "plt.plot(e, n/(0.5*10**7))\n",
    "#plt.xlim([0, 20])\n",
    "#plt.legend()\n",
    "plt.yscale('log')\n",
    "plt.ylabel('Количество частиц')\n",
    "plt.xlabel('Энергия, МэВ')\n",
    "plt.show()"
   ]
  }
 ],
 "metadata": {
  "kernelspec": {
   "display_name": "Python 3 (ipykernel)",
   "language": "python",
   "name": "python3"
  },
  "language_info": {
   "codemirror_mode": {
    "name": "ipython",
    "version": 3
   },
   "file_extension": ".py",
   "mimetype": "text/x-python",
   "name": "python",
   "nbconvert_exporter": "python",
   "pygments_lexer": "ipython3",
   "version": "3.10.4"
  }
 },
 "nbformat": 4,
 "nbformat_minor": 5
}
