{
 "cells": [
  {
   "cell_type": "markdown",
   "id": "6b9ffe9f",
   "metadata": {},
   "source": [
    "### Парсинг данных и создание датафрейма"
   ]
  },
  {
   "cell_type": "code",
   "execution_count": null,
   "id": "attended-bermuda",
   "metadata": {},
   "outputs": [],
   "source": [
    "import os\n",
    "import pandas as pd\n",
    "import numpy as np\n",
    "import glob\n",
    "from tqdm import tqdm\n",
    "import matplotlib.pyplot as plt\n",
    "plt.rcParams[\"figure.figsize\"] = (10,6)"
   ]
  },
  {
   "cell_type": "code",
   "execution_count": 2,
   "id": "3ec29165",
   "metadata": {},
   "outputs": [],
   "source": [
    "def procents(d):\n",
    "    l = len(d)\n",
    "    res = []\n",
    "    for name in set(d['name']):\n",
    "        count = len(d[d['name'] == name])\n",
    "        res.append((name, count, count/l*100))\n",
    "    return pd.DataFrame(res, columns=['name', 'count', 'percent'])"
   ]
  },
  {
   "cell_type": "code",
   "execution_count": 3,
   "id": "838f33c2",
   "metadata": {},
   "outputs": [],
   "source": [
    "def dose_weights(d):\n",
    "    l = len(d)\n",
    "    res = []\n",
    "    total_dose = sum(d['dE'])\n",
    "    for name in set(d['name']):\n",
    "        particle_filt = d[d['name'] == name]\n",
    "        dose = sum(particle_filt['dE'])\n",
    "        res.append((name, dose, dose/total_dose*100))\n",
    "    return pd.DataFrame(res, columns=['name', 'dose', 'dose_percent'])"
   ]
  },
  {
   "cell_type": "code",
   "execution_count": 15,
   "id": "ec36fb8b",
   "metadata": {},
   "outputs": [],
   "source": [
    "def get_z_dose_bins(d, bins=100):\n",
    "    borders = np.linspace(-20, 20, bins)\n",
    "    bins = []\n",
    "    for i in tqdm(range(len(borders[:-1]))):\n",
    "        dd = d[d['z'] > borders[i]]\n",
    "        dd = dd[dd['z'] < borders[i+1]]\n",
    "        bins.append(sum(dd['dE']))\n",
    "        del dd\n",
    "    return np.array(borders[:-1])+20, np.array(bins)"
   ]
  },
  {
   "cell_type": "code",
   "execution_count": 5,
   "id": "5ca86d8f",
   "metadata": {},
   "outputs": [],
   "source": [
    "def get_energy_count_bins(d, bins=100):\n",
    "    n, e = np.histogram(d['energy'], bins)\n",
    "    return e[:-1], n"
   ]
  },
  {
   "cell_type": "code",
   "execution_count": 6,
   "id": "c1ef2520",
   "metadata": {},
   "outputs": [],
   "source": [
    "pnames = {'annihil':'Аннигиляция','compt':'Комптон-эффект','conv':'Рождение пар',\n",
    "          'eBrem':'Тормозное излучение','eIoni':'Ионизационные потери','hadElastic':'?',\n",
    "          'phot':'Фотоэффект','photonNuclear':'?'}"
   ]
  },
  {
   "cell_type": "code",
   "execution_count": 7,
   "id": "070cbae0",
   "metadata": {},
   "outputs": [],
   "source": [
    "def load_data(folder = 'build', secondary=True, drop_creator=True):\n",
    "    paths = glob.glob(f\"{folder}/*.csv\")\n",
    "    with open(paths[0], 'r') as f:\n",
    "        print(f\"Headers from file: {paths[0]}\")\n",
    "        hlines = []\n",
    "        while True:\n",
    "            line = f.readline()\n",
    "            if len(line) == 0 or line[0] != '#':\n",
    "                break\n",
    "            hlines.append(line)\n",
    "        title = hlines[1].replace('#title ', '')[:-1]\n",
    "        sep = chr(int(hlines[2].replace('#separator ', '')[:-1]))\n",
    "        vsc_sep = chr(int(hlines[3].replace('#vector_separator ', '')[:-1]))\n",
    "        columns = [' '.join(l.split(' ')[2:])[:-1] for l in hlines[4:]]\n",
    "        meta_len = len(hlines)\n",
    "    data = pd.DataFrame()\n",
    "    for path in tqdm(paths):\n",
    "        item = pd.read_csv(path, skiprows=meta_len, names=columns)\n",
    "        \n",
    "        if secondary:\n",
    "            item = item[item['creator_process'] != 'user']\n",
    "            item = item.drop('creator_process', axis=1)\n",
    "        \n",
    "        data = pd.concat([data, item], ignore_index=True)\n",
    "    return data"
   ]
  },
  {
   "cell_type": "code",
   "execution_count": 8,
   "id": "b887a6a4",
   "metadata": {},
   "outputs": [
    {
     "name": "stdout",
     "output_type": "stream",
     "text": [
      "Headers from file: data_10M_water/Run0_nt_ParticleData_t8.csv\n"
     ]
    },
    {
     "name": "stderr",
     "output_type": "stream",
     "text": [
      "100%|███████████████████████████████████████████| 20/20 [01:33<00:00,  4.67s/it]\n"
     ]
    }
   ],
   "source": [
    "secondary = load_data('data_10M_water')\n",
    "# data2 = load_data('build')\n",
    "# data3 = load_data('data_geen_acrylic')"
   ]
  },
  {
   "cell_type": "code",
   "execution_count": 10,
   "id": "5739a503",
   "metadata": {},
   "outputs": [
    {
     "name": "stdout",
     "output_type": "stream",
     "text": [
      "177107669\n"
     ]
    }
   ],
   "source": [
    "print(len(secondary))"
   ]
  },
  {
   "cell_type": "code",
   "execution_count": 12,
   "id": "5879a1dd",
   "metadata": {},
   "outputs": [],
   "source": [
    "secondary2 = secondary[:100*10**6]"
   ]
  },
  {
   "cell_type": "code",
   "execution_count": 13,
   "id": "b9b2954d",
   "metadata": {},
   "outputs": [],
   "source": [
    "del secondary"
   ]
  },
  {
   "cell_type": "code",
   "execution_count": null,
   "id": "71b24410",
   "metadata": {},
   "outputs": [],
   "source": [
    "secondary = data"
   ]
  },
  {
   "cell_type": "code",
   "execution_count": null,
   "id": "c63bf6ce",
   "metadata": {},
   "outputs": [],
   "source": [
    "print()\n",
    "print(len(data) - )"
   ]
  },
  {
   "cell_type": "code",
   "execution_count": null,
   "id": "49f8d83f",
   "metadata": {},
   "outputs": [],
   "source": [
    "secondary = data[data['creator_process'] != 'user']\n",
    "secondary2 = data2[data2['creator_process'] != 'user']\n",
    "secondary3 = data3[data3['creator_process'] != 'user']\n",
    "print(sum(secondary2['dE'])/sum(secondary['dE']))\n",
    "print(sum(secondary3['dE'])/sum(secondary['dE']))"
   ]
  },
  {
   "cell_type": "code",
   "execution_count": null,
   "id": "1be4d634",
   "metadata": {},
   "outputs": [],
   "source": [
    "print(sum(data2['dE'])/sum(data['dE']))\n",
    "print(sum(data3['dE'])/sum(data['dE']))"
   ]
  },
  {
   "cell_type": "markdown",
   "id": "269b5727",
   "metadata": {},
   "source": [
    "## \"Первичные\" ускорительные частицы"
   ]
  },
  {
   "cell_type": "code",
   "execution_count": null,
   "id": "d59c241f",
   "metadata": {},
   "outputs": [],
   "source": [
    "primary = data[data['creator_process'] == 'user']\n",
    "print(len(primary))\n",
    "# procents(primary)"
   ]
  },
  {
   "cell_type": "code",
   "execution_count": null,
   "id": "42b29472",
   "metadata": {},
   "outputs": [],
   "source": [
    "primary2 = data2[data2['creator_process'] == 'user']\n",
    "print(len(primary2))"
   ]
  },
  {
   "cell_type": "code",
   "execution_count": null,
   "id": "28df52b2",
   "metadata": {},
   "outputs": [],
   "source": [
    "# print('Суммарная доза от первичных частиц:', sum(dose_weights(primary)['dose']))\n",
    "# dose_weights(primary)"
   ]
  },
  {
   "cell_type": "markdown",
   "id": "92f27a46",
   "metadata": {},
   "source": [
    "## Вторичные частицы в фантоме"
   ]
  },
  {
   "cell_type": "code",
   "execution_count": 14,
   "id": "61acad71",
   "metadata": {},
   "outputs": [
    {
     "name": "stdout",
     "output_type": "stream",
     "text": [
      "Количество вторичных частиц 100000000\n",
      "Суммарная доза от вторичных частиц: 4875262.791163675\n"
     ]
    },
    {
     "data": {
      "text/html": [
       "<div>\n",
       "<style scoped>\n",
       "    .dataframe tbody tr th:only-of-type {\n",
       "        vertical-align: middle;\n",
       "    }\n",
       "\n",
       "    .dataframe tbody tr th {\n",
       "        vertical-align: top;\n",
       "    }\n",
       "\n",
       "    .dataframe thead th {\n",
       "        text-align: right;\n",
       "    }\n",
       "</style>\n",
       "<table border=\"1\" class=\"dataframe\">\n",
       "  <thead>\n",
       "    <tr style=\"text-align: right;\">\n",
       "      <th></th>\n",
       "      <th>name</th>\n",
       "      <th>dose</th>\n",
       "      <th>dose_percent</th>\n",
       "    </tr>\n",
       "  </thead>\n",
       "  <tbody>\n",
       "    <tr>\n",
       "      <th>0</th>\n",
       "      <td>O18</td>\n",
       "      <td>6.523109e-01</td>\n",
       "      <td>1.338002e-05</td>\n",
       "    </tr>\n",
       "    <tr>\n",
       "      <th>1</th>\n",
       "      <td>neutron</td>\n",
       "      <td>5.540511e-01</td>\n",
       "      <td>1.136454e-05</td>\n",
       "    </tr>\n",
       "    <tr>\n",
       "      <th>2</th>\n",
       "      <td>e+</td>\n",
       "      <td>2.184126e+05</td>\n",
       "      <td>4.480017e+00</td>\n",
       "    </tr>\n",
       "    <tr>\n",
       "      <th>3</th>\n",
       "      <td>alpha</td>\n",
       "      <td>7.442076e+02</td>\n",
       "      <td>1.526497e-02</td>\n",
       "    </tr>\n",
       "    <tr>\n",
       "      <th>4</th>\n",
       "      <td>N15</td>\n",
       "      <td>1.081206e+01</td>\n",
       "      <td>2.217739e-04</td>\n",
       "    </tr>\n",
       "    <tr>\n",
       "      <th>5</th>\n",
       "      <td>O15</td>\n",
       "      <td>6.472603e-01</td>\n",
       "      <td>1.327642e-05</td>\n",
       "    </tr>\n",
       "    <tr>\n",
       "      <th>6</th>\n",
       "      <td>O16</td>\n",
       "      <td>4.674042e+02</td>\n",
       "      <td>9.587261e-03</td>\n",
       "    </tr>\n",
       "    <tr>\n",
       "      <th>7</th>\n",
       "      <td>deuteron</td>\n",
       "      <td>3.546972e+00</td>\n",
       "      <td>7.275449e-05</td>\n",
       "    </tr>\n",
       "    <tr>\n",
       "      <th>8</th>\n",
       "      <td>gamma</td>\n",
       "      <td>4.077506e+02</td>\n",
       "      <td>8.363664e-03</td>\n",
       "    </tr>\n",
       "    <tr>\n",
       "      <th>9</th>\n",
       "      <td>O17</td>\n",
       "      <td>2.991172e-02</td>\n",
       "      <td>6.135407e-07</td>\n",
       "    </tr>\n",
       "    <tr>\n",
       "      <th>10</th>\n",
       "      <td>proton</td>\n",
       "      <td>1.100064e+04</td>\n",
       "      <td>2.256420e-01</td>\n",
       "    </tr>\n",
       "    <tr>\n",
       "      <th>11</th>\n",
       "      <td>e-</td>\n",
       "      <td>4.643963e+06</td>\n",
       "      <td>9.525564e+01</td>\n",
       "    </tr>\n",
       "    <tr>\n",
       "      <th>12</th>\n",
       "      <td>C12</td>\n",
       "      <td>2.512835e+02</td>\n",
       "      <td>5.154256e-03</td>\n",
       "    </tr>\n",
       "  </tbody>\n",
       "</table>\n",
       "</div>"
      ],
      "text/plain": [
       "        name          dose  dose_percent\n",
       "0        O18  6.523109e-01  1.338002e-05\n",
       "1    neutron  5.540511e-01  1.136454e-05\n",
       "2         e+  2.184126e+05  4.480017e+00\n",
       "3      alpha  7.442076e+02  1.526497e-02\n",
       "4        N15  1.081206e+01  2.217739e-04\n",
       "5        O15  6.472603e-01  1.327642e-05\n",
       "6        O16  4.674042e+02  9.587261e-03\n",
       "7   deuteron  3.546972e+00  7.275449e-05\n",
       "8      gamma  4.077506e+02  8.363664e-03\n",
       "9        O17  2.991172e-02  6.135407e-07\n",
       "10    proton  1.100064e+04  2.256420e-01\n",
       "11        e-  4.643963e+06  9.525564e+01\n",
       "12       C12  2.512835e+02  5.154256e-03"
      ]
     },
     "execution_count": 14,
     "metadata": {},
     "output_type": "execute_result"
    }
   ],
   "source": [
    "# secondary = data[data['creator_process'] != 'user']\n",
    "print('Количество вторичных частиц', len(secondary2))\n",
    "print('Суммарная доза от вторичных частиц:', sum(dose_weights(secondary2)['dose']))\n",
    "dose_weights(secondary2)"
   ]
  },
  {
   "cell_type": "code",
   "execution_count": null,
   "id": "9283918b",
   "metadata": {},
   "outputs": [],
   "source": [
    "secondary2 = data2[data2['creator_process'] != 'user']\n",
    "print('Количество вторичных частиц', len(secondary2))\n",
    "print('Суммарная доза от вторичных частиц:', sum(dose_weights(secondary2)['dose']))\n",
    "dose_weights(secondary2)"
   ]
  },
  {
   "cell_type": "markdown",
   "id": "819549eb",
   "metadata": {},
   "source": [
    "## Доза от глубины"
   ]
  },
  {
   "cell_type": "markdown",
   "id": "2e3bd0b0",
   "metadata": {},
   "source": [
    "**Доза от первичных и вторичных частиц**"
   ]
  },
  {
   "cell_type": "code",
   "execution_count": 17,
   "id": "52d1210b",
   "metadata": {},
   "outputs": [
    {
     "name": "stderr",
     "output_type": "stream",
     "text": [
      "100%|███████████████████████████████████████████| 99/99 [02:40<00:00,  1.62s/it]\n"
     ]
    }
   ],
   "source": [
    "# borders1, bins1 = get_z_dose_bins(data)\n",
    "# borders2, bins2 = get_z_dose_bins(primary)\n",
    "borders3, bins3 = get_z_dose_bins(secondary2)\n",
    "# borders4, bins4 = get_z_dose_bins(secondary2)\n",
    "# borders5, bins5 = get_z_dose_bins(secondary3)"
   ]
  },
  {
   "cell_type": "code",
   "execution_count": 26,
   "id": "f8792580",
   "metadata": {},
   "outputs": [
    {
     "data": {
      "image/png": "[encoded data removed]",
      "text/plain": [
       "<Figure size 720x432 with 1 Axes>"
      ]
     },
     "metadata": {
      "needs_background": "light"
     },
     "output_type": "display_data"
    }
   ],
   "source": [
    "# plt.scatter(borders1, bins1, s=5, label='total')\n",
    "# plt.scatter(borders2, bins2, s=5, label='primary')\n",
    "plt.scatter(borders3, bins3/sum(bins3), s=15, marker='o', label='1')\n",
    "# plt.scatter(borders4, bins4, s=5, marker='v', label='2')\n",
    "# plt.scatter(borders4, bins4, s=5, marker='s', label='3')\n",
    "plt.ylim([0, 0.016001])\n",
    "plt.xlim([0, 40.01])\n",
    "# plt.yscale('log')\n",
    "plt.ylabel('Доза, нормированные единицы')\n",
    "plt.xlabel('Глубина, см')\n",
    "# plt.legend()\n",
    "plt.show()"
   ]
  },
  {
   "cell_type": "markdown",
   "id": "4d3aa294",
   "metadata": {},
   "source": [
    "**Доза от первичных частиц**"
   ]
  },
  {
   "cell_type": "code",
   "execution_count": null,
   "id": "1a8dc565",
   "metadata": {},
   "outputs": [],
   "source": [
    "borders1, bins1 = get_z_dose_bins(primary[primary['name'] == 'e-'])\n",
    "borders2, bins2 = get_z_dose_bins(primary[primary['name'] == 'gamma'])"
   ]
  },
  {
   "cell_type": "code",
   "execution_count": null,
   "id": "f08c3811",
   "metadata": {},
   "outputs": [],
   "source": [
    "plt.scatter(borders1, bins1, s=5, label='e-')\n",
    "plt.scatter(borders2, bins2, s=5, label='gamma')\n",
    "plt.xlim([0, plt.xlim()[1]])\n",
    "# plt.ylim([0, plt.ylim()[1]])\n",
    "plt.yscale('log')\n",
    "plt.ylabel('Доза, относительные единицы')\n",
    "plt.xlabel('Глубина, см')\n",
    "plt.legend()\n",
    "plt.show()"
   ]
  },
  {
   "cell_type": "markdown",
   "id": "a4af5641",
   "metadata": {},
   "source": [
    "**Доза от вторичных частиц**"
   ]
  },
  {
   "cell_type": "code",
   "execution_count": null,
   "id": "0ecf4377",
   "metadata": {},
   "outputs": [],
   "source": [
    "secondary = data[data['creator_process'] != 'user']\n",
    "secondary2 = data2[data2['creator_process'] != 'user']\n",
    "sum(secondary2['dE'])/sum(secondary['dE'])"
   ]
  },
  {
   "cell_type": "code",
   "execution_count": null,
   "id": "d1860725",
   "metadata": {},
   "outputs": [],
   "source": []
  },
  {
   "cell_type": "code",
   "execution_count": null,
   "id": "525c9a8b",
   "metadata": {},
   "outputs": [],
   "source": [
    "for name in ['e-','e+', 'gamma']:\n",
    "    borders, bins = get_z_dose_bins(secondary[secondary['name'] == name])\n",
    "    plt.scatter(borders, bins, s=5, label='Вода, ' + name)\n",
    "    borders, bins = get_z_dose_bins(secondary2[secondary2['name'] == name])\n",
    "    plt.scatter(borders, bins, s=5, label='Парафин, '+name)\n",
    "    \n",
    "plt.yscale('log')\n",
    "plt.ylabel('Доза, относительные единицы')\n",
    "plt.xlabel('Глубина, см')\n",
    "plt.legend()\n",
    "plt.show()"
   ]
  },
  {
   "cell_type": "markdown",
   "id": "fadbaa46",
   "metadata": {},
   "source": [
    "## Распределение по энергиям"
   ]
  },
  {
   "cell_type": "markdown",
   "id": "ac22ba5d",
   "metadata": {},
   "source": [
    "**Энергия по вторичным частицам**"
   ]
  },
  {
   "cell_type": "code",
   "execution_count": null,
   "id": "b3f4f95e",
   "metadata": {},
   "outputs": [],
   "source": [
    "for pname in ['gamma', 'e-', 'e+']:\n",
    "    names_particle = secondary[secondary['name'] == pname]\n",
    "    energys, counts = get_energy_count_bins(names_particle)\n",
    "    plt.scatter(energys, counts, s=5, label='Вода, ' + pname)\n",
    "    \n",
    "    names_particle = secondary2[secondary2['name'] == pname]\n",
    "    energys, counts = get_energy_count_bins(names_particle)\n",
    "    plt.scatter(energys, counts, s=5, label='Парафин, ' + pname)\n",
    "\n",
    "plt.legend()\n",
    "# plt.ylim([10, 10**8])\n",
    "plt.yscale('log')\n",
    "plt.ylabel('Количество частиц')\n",
    "plt.xlabel('Энергия, МэВ')\n",
    "plt.show()"
   ]
  },
  {
   "cell_type": "markdown",
   "id": "e0c9b58e",
   "metadata": {},
   "source": [
    "**Энергия вторичной частицы по процессу рождения**"
   ]
  },
  {
   "cell_type": "code",
   "execution_count": null,
   "id": "62aed066",
   "metadata": {},
   "outputs": [],
   "source": [
    "def energy_by_process(paticles):\n",
    "    for process in pnames.keys():\n",
    "        names_process = paticles[paticles['creator_process'] == process]\n",
    "        if len(names_process) == 0:\n",
    "            continue\n",
    "        energys, counts = get_energy_count_bins(names_process)\n",
    "        plt.scatter(energys, counts, s=5, label=pnames[process])\n",
    "\n",
    "    plt.legend()\n",
    "    # plt.ylim([10, 10**8])\n",
    "    plt.yscale('log')\n",
    "    plt.ylabel('Количество частиц')\n",
    "    plt.xlabel('Энергия, МэВ')\n",
    "    plt.show()"
   ]
  },
  {
   "cell_type": "code",
   "execution_count": null,
   "id": "25e7c415",
   "metadata": {},
   "outputs": [],
   "source": [
    "paticles = secondary[secondary['name'] == 'gamma']\n",
    "energy_by_process(paticles)"
   ]
  },
  {
   "cell_type": "code",
   "execution_count": null,
   "id": "15f49822",
   "metadata": {},
   "outputs": [],
   "source": [
    "paticles = secondary[secondary['name'] == 'e-']\n",
    "energy_by_process(paticles)"
   ]
  },
  {
   "cell_type": "code",
   "execution_count": null,
   "id": "b581a512",
   "metadata": {},
   "outputs": [],
   "source": [
    "paticles = secondary[secondary['name'] == 'e+']\n",
    "energy_by_process(paticles)"
   ]
  },
  {
   "cell_type": "code",
   "execution_count": null,
   "id": "a44937a1",
   "metadata": {},
   "outputs": [],
   "source": []
  },
  {
   "cell_type": "code",
   "execution_count": null,
   "id": "745fee15",
   "metadata": {},
   "outputs": [],
   "source": []
  }
 ],
 "metadata": {
  "kernelspec": {
   "display_name": "Python 3 (ipykernel)",
   "language": "python",
   "name": "python3"
  },
  "language_info": {
   "codemirror_mode": {
    "name": "ipython",
    "version": 3
   },
   "file_extension": ".py",
   "mimetype": "text/x-python",
   "name": "python",
   "nbconvert_exporter": "python",
   "pygments_lexer": "ipython3",
   "version": "3.10.4"
  }
 },
 "nbformat": 4,
 "nbformat_minor": 5
}
