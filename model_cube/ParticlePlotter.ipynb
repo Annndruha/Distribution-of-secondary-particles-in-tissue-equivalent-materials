{
 "cells": [
  {
   "cell_type": "markdown",
   "id": "6b9ffe9f",
   "metadata": {},
   "source": [
    "### Парсинг данных и создание датафрейма"
   ]
  },
  {
   "cell_type": "code",
   "execution_count": 9,
   "id": "attended-bermuda",
   "metadata": {},
   "outputs": [],
   "source": [
    "import os\n",
    "import pandas as pd\n",
    "import numpy as np\n",
    "import glob\n",
    "import matplotlib.pyplot as plt\n",
    "\n",
    "# %matplotlib notebook"
   ]
  },
  {
   "cell_type": "code",
   "execution_count": 10,
   "id": "cf91d50c",
   "metadata": {},
   "outputs": [],
   "source": [
    "runN = \"*\" # If take all runs set runN = \"*\"\n",
    "paths = glob.glob(f\"build/Run{runN}_nt_ParticleData_t*.csv\")"
   ]
  },
  {
   "cell_type": "code",
   "execution_count": 11,
   "id": "b50bbf71",
   "metadata": {},
   "outputs": [
    {
     "name": "stdout",
     "output_type": "stream",
     "text": [
      "Headers from file: build/Run0_nt_ParticleData_t0.csv\n",
      "Metarows: 13\n",
      "Columns: ['particle_name', 'parentID', 'X', 'Y', 'Z', 'vX', 'vY', 'vZ', 'energy']\n"
     ]
    }
   ],
   "source": [
    "with open(paths[0], 'r') as f:\n",
    "    print(f\"Headers from file: {paths[0]}\")\n",
    "    \n",
    "#     lines = f.readline().strip()\n",
    "#     print(lines)\n",
    "#     columns = lines[1:]\n",
    "#     columns = columns.split(\",\")\n",
    "#     meta_len = 1\n",
    "\n",
    "    hlines = []\n",
    "    while True:\n",
    "        line = f.readline()\n",
    "        if len(line) == 0 or line[0] != '#':\n",
    "            break\n",
    "        hlines.append(line)\n",
    "    title = hlines[1].replace('#title ', '')[:-1]\n",
    "    sep = chr(int(hlines[2].replace('#separator ', '')[:-1]))\n",
    "    vsc_sep = chr(int(hlines[3].replace('#vector_separator ', '')[:-1]))\n",
    "    columns = [' '.join(l.split(' ')[2:])[:-1] for l in hlines[4:]]\n",
    "    meta_len = len(hlines)\n",
    "    print(f'Metarows: {meta_len}\\nColumns: {columns}')"
   ]
  },
  {
   "cell_type": "code",
   "execution_count": 12,
   "id": "printable-moral",
   "metadata": {},
   "outputs": [],
   "source": [
    "data = pd.DataFrame()\n",
    "for path in paths:\n",
    "    item = pd.read_csv(path, skiprows=meta_len, names=columns)\n",
    "    data = data.append(item, ignore_index=True)"
   ]
  },
  {
   "cell_type": "code",
   "execution_count": 13,
   "id": "87cdaca3",
   "metadata": {},
   "outputs": [
    {
     "data": {
      "text/html": [
       "<div>\n",
       "<style scoped>\n",
       "    .dataframe tbody tr th:only-of-type {\n",
       "        vertical-align: middle;\n",
       "    }\n",
       "\n",
       "    .dataframe tbody tr th {\n",
       "        vertical-align: top;\n",
       "    }\n",
       "\n",
       "    .dataframe thead th {\n",
       "        text-align: right;\n",
       "    }\n",
       "</style>\n",
       "<table border=\"1\" class=\"dataframe\">\n",
       "  <thead>\n",
       "    <tr style=\"text-align: right;\">\n",
       "      <th></th>\n",
       "      <th>particle_name</th>\n",
       "      <th>parentID</th>\n",
       "      <th>X</th>\n",
       "      <th>Y</th>\n",
       "      <th>Z</th>\n",
       "      <th>vX</th>\n",
       "      <th>vY</th>\n",
       "      <th>vZ</th>\n",
       "      <th>energy</th>\n",
       "    </tr>\n",
       "  </thead>\n",
       "  <tbody>\n",
       "    <tr>\n",
       "      <th>0</th>\n",
       "      <td>gamma</td>\n",
       "      <td>0</td>\n",
       "      <td>2.433260</td>\n",
       "      <td>-0.206985</td>\n",
       "      <td>-100.0000</td>\n",
       "      <td>0.000000</td>\n",
       "      <td>0.000000</td>\n",
       "      <td>15.000000</td>\n",
       "      <td>3.908490</td>\n",
       "    </tr>\n",
       "    <tr>\n",
       "      <th>1</th>\n",
       "      <td>e-</td>\n",
       "      <td>1</td>\n",
       "      <td>2.433260</td>\n",
       "      <td>-0.206985</td>\n",
       "      <td>53.8902</td>\n",
       "      <td>0.040589</td>\n",
       "      <td>-1.678870</td>\n",
       "      <td>11.468900</td>\n",
       "      <td>10.124600</td>\n",
       "    </tr>\n",
       "    <tr>\n",
       "      <th>2</th>\n",
       "      <td>e-</td>\n",
       "      <td>2</td>\n",
       "      <td>2.256430</td>\n",
       "      <td>-2.513670</td>\n",
       "      <td>65.1115</td>\n",
       "      <td>0.507149</td>\n",
       "      <td>-1.212880</td>\n",
       "      <td>1.087560</td>\n",
       "      <td>1.175950</td>\n",
       "    </tr>\n",
       "    <tr>\n",
       "      <th>3</th>\n",
       "      <td>e-</td>\n",
       "      <td>2</td>\n",
       "      <td>1.908240</td>\n",
       "      <td>-1.240490</td>\n",
       "      <td>60.4572</td>\n",
       "      <td>-0.526654</td>\n",
       "      <td>0.061466</td>\n",
       "      <td>0.347126</td>\n",
       "      <td>0.292923</td>\n",
       "    </tr>\n",
       "    <tr>\n",
       "      <th>4</th>\n",
       "      <td>gamma</td>\n",
       "      <td>0</td>\n",
       "      <td>-1.487910</td>\n",
       "      <td>-0.934751</td>\n",
       "      <td>-100.0000</td>\n",
       "      <td>0.000000</td>\n",
       "      <td>0.000000</td>\n",
       "      <td>15.000000</td>\n",
       "      <td>15.000000</td>\n",
       "    </tr>\n",
       "    <tr>\n",
       "      <th>...</th>\n",
       "      <td>...</td>\n",
       "      <td>...</td>\n",
       "      <td>...</td>\n",
       "      <td>...</td>\n",
       "      <td>...</td>\n",
       "      <td>...</td>\n",
       "      <td>...</td>\n",
       "      <td>...</td>\n",
       "      <td>...</td>\n",
       "    </tr>\n",
       "    <tr>\n",
       "      <th>286</th>\n",
       "      <td>e-</td>\n",
       "      <td>6</td>\n",
       "      <td>2.100640</td>\n",
       "      <td>11.315300</td>\n",
       "      <td>33.3705</td>\n",
       "      <td>0.001463</td>\n",
       "      <td>0.025346</td>\n",
       "      <td>-0.026246</td>\n",
       "      <td>0.001231</td>\n",
       "    </tr>\n",
       "    <tr>\n",
       "      <th>287</th>\n",
       "      <td>e-</td>\n",
       "      <td>6</td>\n",
       "      <td>7.214920</td>\n",
       "      <td>-10.147100</td>\n",
       "      <td>29.6266</td>\n",
       "      <td>0.028539</td>\n",
       "      <td>-0.024136</td>\n",
       "      <td>0.012497</td>\n",
       "      <td>0.001499</td>\n",
       "    </tr>\n",
       "    <tr>\n",
       "      <th>288</th>\n",
       "      <td>e-</td>\n",
       "      <td>2</td>\n",
       "      <td>0.937651</td>\n",
       "      <td>1.651950</td>\n",
       "      <td>-13.1599</td>\n",
       "      <td>0.781415</td>\n",
       "      <td>0.646076</td>\n",
       "      <td>1.720180</td>\n",
       "      <td>1.466850</td>\n",
       "    </tr>\n",
       "    <tr>\n",
       "      <th>289</th>\n",
       "      <td>gamma</td>\n",
       "      <td>0</td>\n",
       "      <td>0.632216</td>\n",
       "      <td>-0.835572</td>\n",
       "      <td>-100.0000</td>\n",
       "      <td>0.000000</td>\n",
       "      <td>0.000000</td>\n",
       "      <td>15.000000</td>\n",
       "      <td>15.000000</td>\n",
       "    </tr>\n",
       "    <tr>\n",
       "      <th>290</th>\n",
       "      <td>gamma</td>\n",
       "      <td>0</td>\n",
       "      <td>-0.903626</td>\n",
       "      <td>2.525590</td>\n",
       "      <td>-100.0000</td>\n",
       "      <td>0.000000</td>\n",
       "      <td>0.000000</td>\n",
       "      <td>15.000000</td>\n",
       "      <td>15.000000</td>\n",
       "    </tr>\n",
       "  </tbody>\n",
       "</table>\n",
       "<p>291 rows × 9 columns</p>\n",
       "</div>"
      ],
      "text/plain": [
       "    particle_name  parentID         X          Y         Z        vX  \\\n",
       "0           gamma         0  2.433260  -0.206985 -100.0000  0.000000   \n",
       "1              e-         1  2.433260  -0.206985   53.8902  0.040589   \n",
       "2              e-         2  2.256430  -2.513670   65.1115  0.507149   \n",
       "3              e-         2  1.908240  -1.240490   60.4572 -0.526654   \n",
       "4           gamma         0 -1.487910  -0.934751 -100.0000  0.000000   \n",
       "..            ...       ...       ...        ...       ...       ...   \n",
       "286            e-         6  2.100640  11.315300   33.3705  0.001463   \n",
       "287            e-         6  7.214920 -10.147100   29.6266  0.028539   \n",
       "288            e-         2  0.937651   1.651950  -13.1599  0.781415   \n",
       "289         gamma         0  0.632216  -0.835572 -100.0000  0.000000   \n",
       "290         gamma         0 -0.903626   2.525590 -100.0000  0.000000   \n",
       "\n",
       "           vY         vZ     energy  \n",
       "0    0.000000  15.000000   3.908490  \n",
       "1   -1.678870  11.468900  10.124600  \n",
       "2   -1.212880   1.087560   1.175950  \n",
       "3    0.061466   0.347126   0.292923  \n",
       "4    0.000000  15.000000  15.000000  \n",
       "..        ...        ...        ...  \n",
       "286  0.025346  -0.026246   0.001231  \n",
       "287 -0.024136   0.012497   0.001499  \n",
       "288  0.646076   1.720180   1.466850  \n",
       "289  0.000000  15.000000  15.000000  \n",
       "290  0.000000  15.000000  15.000000  \n",
       "\n",
       "[291 rows x 9 columns]"
      ]
     },
     "execution_count": 13,
     "metadata": {},
     "output_type": "execute_result"
    }
   ],
   "source": [
    "data"
   ]
  },
  {
   "cell_type": "code",
   "execution_count": 14,
   "id": "52c7b9d5",
   "metadata": {},
   "outputs": [
    {
     "data": {
      "text/plain": [
       "{0, 1, 2, 3, 4, 5, 6, 7, 8, 9, 10, 11, 12, 13, 14}"
      ]
     },
     "execution_count": 14,
     "metadata": {},
     "output_type": "execute_result"
    }
   ],
   "source": [
    "set(data[\"parentID\"])"
   ]
  },
  {
   "cell_type": "code",
   "execution_count": 22,
   "id": "161a67fb",
   "metadata": {},
   "outputs": [
    {
     "data": {
      "text/plain": [
       "59"
      ]
     },
     "execution_count": 22,
     "metadata": {},
     "output_type": "execute_result"
    }
   ],
   "source": [
    "len(data[data[\"parentID\"] == 1])"
   ]
  },
  {
   "cell_type": "code",
   "execution_count": 24,
   "id": "9a24c146",
   "metadata": {},
   "outputs": [
    {
     "data": {
      "text/plain": [
       "320.6620259339999"
      ]
     },
     "execution_count": 24,
     "metadata": {},
     "output_type": "execute_result"
    }
   ],
   "source": [
    "sum(data[data[\"parentID\"] == 1]['energy'])"
   ]
  }
 ],
 "metadata": {
  "kernelspec": {
   "display_name": "Python 3 (ipykernel)",
   "language": "python",
   "name": "python3"
  },
  "language_info": {
   "codemirror_mode": {
    "name": "ipython",
    "version": 3
   },
   "file_extension": ".py",
   "mimetype": "text/x-python",
   "name": "python",
   "nbconvert_exporter": "python",
   "pygments_lexer": "ipython3",
   "version": "3.8.10"
  }
 },
 "nbformat": 4,
 "nbformat_minor": 5
}
