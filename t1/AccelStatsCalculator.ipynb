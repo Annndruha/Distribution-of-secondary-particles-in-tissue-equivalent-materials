{
 "cells": [
  {
   "cell_type": "code",
   "execution_count": 1,
   "id": "attended-bermuda",
   "metadata": {},
   "outputs": [],
   "source": [
    "import os\n",
    "\n",
    "import scipy\n",
    "from scipy import stats\n",
    "import pandas as pd\n",
    "import numpy as np\n",
    "import glob\n",
    "import matplotlib.pyplot as plt\n",
    "from mpl_toolkits.mplot3d import Axes3D\n",
    "from matplotlib.pyplot import figure"
   ]
  },
  {
   "cell_type": "markdown",
   "id": "a29ae12e",
   "metadata": {},
   "source": [
    "## Загрузка данных"
   ]
  },
  {
   "cell_type": "code",
   "execution_count": 2,
   "id": "cf91d50c",
   "metadata": {},
   "outputs": [],
   "source": [
    "paths = glob.glob(f\"t1_statistic_32/*results*.csv\")"
   ]
  },
  {
   "cell_type": "code",
   "execution_count": 3,
   "id": "printable-moral",
   "metadata": {
    "scrolled": true
   },
   "outputs": [],
   "source": [
    "data = pd.DataFrame()\n",
    "\n",
    "for path in paths:\n",
    "    item = pd.read_csv(path, skiprows=12, names=['name', 'E'])\n",
    "    data = pd.concat((data, item), ignore_index=True)"
   ]
  },
  {
   "cell_type": "markdown",
   "id": "5eb3a5b6",
   "metadata": {},
   "source": [
    "## Первичная статистика ускорителя"
   ]
  },
  {
   "cell_type": "code",
   "execution_count": 4,
   "id": "460a8001",
   "metadata": {},
   "outputs": [
    {
     "data": {
      "text/html": [
       "<div>\n",
       "<style scoped>\n",
       "    .dataframe tbody tr th:only-of-type {\n",
       "        vertical-align: middle;\n",
       "    }\n",
       "\n",
       "    .dataframe tbody tr th {\n",
       "        vertical-align: top;\n",
       "    }\n",
       "\n",
       "    .dataframe thead th {\n",
       "        text-align: right;\n",
       "    }\n",
       "</style>\n",
       "<table border=\"1\" class=\"dataframe\">\n",
       "  <thead>\n",
       "    <tr style=\"text-align: right;\">\n",
       "      <th></th>\n",
       "      <th>name</th>\n",
       "      <th>count</th>\n",
       "      <th>percent</th>\n",
       "    </tr>\n",
       "  </thead>\n",
       "  <tbody>\n",
       "    <tr>\n",
       "      <th>0</th>\n",
       "      <td>gamma</td>\n",
       "      <td>184684</td>\n",
       "      <td>87.158674</td>\n",
       "    </tr>\n",
       "    <tr>\n",
       "      <th>1</th>\n",
       "      <td>e+</td>\n",
       "      <td>771</td>\n",
       "      <td>0.363861</td>\n",
       "    </tr>\n",
       "    <tr>\n",
       "      <th>2</th>\n",
       "      <td>anti_nu_e</td>\n",
       "      <td>589</td>\n",
       "      <td>0.277969</td>\n",
       "    </tr>\n",
       "    <tr>\n",
       "      <th>3</th>\n",
       "      <td>nu_e</td>\n",
       "      <td>583</td>\n",
       "      <td>0.275138</td>\n",
       "    </tr>\n",
       "    <tr>\n",
       "      <th>4</th>\n",
       "      <td>proton</td>\n",
       "      <td>1111</td>\n",
       "      <td>0.524319</td>\n",
       "    </tr>\n",
       "    <tr>\n",
       "      <th>5</th>\n",
       "      <td>e-</td>\n",
       "      <td>21247</td>\n",
       "      <td>10.027183</td>\n",
       "    </tr>\n",
       "    <tr>\n",
       "      <th>6</th>\n",
       "      <td>O16</td>\n",
       "      <td>738</td>\n",
       "      <td>0.348287</td>\n",
       "    </tr>\n",
       "    <tr>\n",
       "      <th>7</th>\n",
       "      <td>O18</td>\n",
       "      <td>4</td>\n",
       "      <td>0.001888</td>\n",
       "    </tr>\n",
       "    <tr>\n",
       "      <th>8</th>\n",
       "      <td>N15</td>\n",
       "      <td>1</td>\n",
       "      <td>0.000472</td>\n",
       "    </tr>\n",
       "    <tr>\n",
       "      <th>9</th>\n",
       "      <td>neutron</td>\n",
       "      <td>2166</td>\n",
       "      <td>1.022209</td>\n",
       "    </tr>\n",
       "  </tbody>\n",
       "</table>\n",
       "</div>"
      ],
      "text/plain": [
       "        name   count    percent\n",
       "0      gamma  184684  87.158674\n",
       "1         e+     771   0.363861\n",
       "2  anti_nu_e     589   0.277969\n",
       "3       nu_e     583   0.275138\n",
       "4     proton    1111   0.524319\n",
       "5         e-   21247  10.027183\n",
       "6        O16     738   0.348287\n",
       "7        O18       4   0.001888\n",
       "8        N15       1   0.000472\n",
       "9    neutron    2166   1.022209"
      ]
     },
     "execution_count": 4,
     "metadata": {},
     "output_type": "execute_result"
    }
   ],
   "source": [
    "l = len(data)\n",
    "res = []\n",
    "for name in set(data['name']):\n",
    "    count = len(data[data['name'] == name])\n",
    "    res.append((name, count, count/l*100))\n",
    "pd.DataFrame(res, columns=['name', 'count', 'percent'])"
   ]
  },
  {
   "cell_type": "code",
   "execution_count": 6,
   "id": "a6b63450",
   "metadata": {},
   "outputs": [
    {
     "data": {
      "text/html": [
       "<div>\n",
       "<style scoped>\n",
       "    .dataframe tbody tr th:only-of-type {\n",
       "        vertical-align: middle;\n",
       "    }\n",
       "\n",
       "    .dataframe tbody tr th {\n",
       "        vertical-align: top;\n",
       "    }\n",
       "\n",
       "    .dataframe thead th {\n",
       "        text-align: right;\n",
       "    }\n",
       "</style>\n",
       "<table border=\"1\" class=\"dataframe\">\n",
       "  <thead>\n",
       "    <tr style=\"text-align: right;\">\n",
       "      <th></th>\n",
       "      <th>name</th>\n",
       "      <th>avg_particle_energy</th>\n",
       "      <th>total_percent</th>\n",
       "    </tr>\n",
       "  </thead>\n",
       "  <tbody>\n",
       "    <tr>\n",
       "      <th>0</th>\n",
       "      <td>gamma</td>\n",
       "      <td>3.312086</td>\n",
       "      <td>95.421935</td>\n",
       "    </tr>\n",
       "    <tr>\n",
       "      <th>1</th>\n",
       "      <td>e+</td>\n",
       "      <td>2.789159</td>\n",
       "      <td>0.335463</td>\n",
       "    </tr>\n",
       "    <tr>\n",
       "      <th>2</th>\n",
       "      <td>anti_nu_e</td>\n",
       "      <td>0.307165</td>\n",
       "      <td>0.028223</td>\n",
       "    </tr>\n",
       "    <tr>\n",
       "      <th>3</th>\n",
       "      <td>nu_e</td>\n",
       "      <td>0.557158</td>\n",
       "      <td>0.050672</td>\n",
       "    </tr>\n",
       "    <tr>\n",
       "      <th>4</th>\n",
       "      <td>proton</td>\n",
       "      <td>0.022691</td>\n",
       "      <td>0.003933</td>\n",
       "    </tr>\n",
       "    <tr>\n",
       "      <th>5</th>\n",
       "      <td>e-</td>\n",
       "      <td>1.211400</td>\n",
       "      <td>4.015157</td>\n",
       "    </tr>\n",
       "    <tr>\n",
       "      <th>6</th>\n",
       "      <td>O16</td>\n",
       "      <td>0.000000</td>\n",
       "      <td>0.000000</td>\n",
       "    </tr>\n",
       "    <tr>\n",
       "      <th>7</th>\n",
       "      <td>O18</td>\n",
       "      <td>0.000000</td>\n",
       "      <td>0.000000</td>\n",
       "    </tr>\n",
       "    <tr>\n",
       "      <th>8</th>\n",
       "      <td>N15</td>\n",
       "      <td>0.000000</td>\n",
       "      <td>0.000000</td>\n",
       "    </tr>\n",
       "    <tr>\n",
       "      <th>9</th>\n",
       "      <td>neutron</td>\n",
       "      <td>0.428002</td>\n",
       "      <td>0.144618</td>\n",
       "    </tr>\n",
       "  </tbody>\n",
       "</table>\n",
       "</div>"
      ],
      "text/plain": [
       "        name  avg_particle_energy  total_percent\n",
       "0      gamma             3.312086      95.421935\n",
       "1         e+             2.789159       0.335463\n",
       "2  anti_nu_e             0.307165       0.028223\n",
       "3       nu_e             0.557158       0.050672\n",
       "4     proton             0.022691       0.003933\n",
       "5         e-             1.211400       4.015157\n",
       "6        O16             0.000000       0.000000\n",
       "7        O18             0.000000       0.000000\n",
       "8        N15             0.000000       0.000000\n",
       "9    neutron             0.428002       0.144618"
      ]
     },
     "execution_count": 6,
     "metadata": {},
     "output_type": "execute_result"
    }
   ],
   "source": [
    "res = []\n",
    "tot_energy = sum(data['E'])\n",
    "for name in set(data['name']):\n",
    "    particles = data[data['name'] == name]\n",
    "    en = sum(particles['E'])\n",
    "    res.append((name, en/len(particles), en/tot_energy*100))\n",
    "pd.DataFrame(res, columns=['name', 'avg_particle_energy', 'total_percent'])"
   ]
  },
  {
   "cell_type": "markdown",
   "id": "4089dcfc",
   "metadata": {},
   "source": [
    "## Распределение по энергиям (взяты только гамма и электроны)"
   ]
  },
  {
   "cell_type": "code",
   "execution_count": 7,
   "id": "f82ec950",
   "metadata": {},
   "outputs": [],
   "source": [
    "def get_energy_count_bins(d, bins=100):\n",
    "    n, e = np.histogram(d['E'], bins)\n",
    "    return e[:-1], n"
   ]
  },
  {
   "cell_type": "code",
   "execution_count": 12,
   "id": "25e482df",
   "metadata": {},
   "outputs": [
    {
     "data": {
      "text/plain": [
       "23.4702"
      ]
     },
     "execution_count": 12,
     "metadata": {},
     "output_type": "execute_result"
    }
   ],
   "source": [
    "names_particle = data[data['name'] == 'gamma']\n",
    "max(names_particle['E'])"
   ]
  },
  {
   "cell_type": "code",
   "execution_count": 33,
   "id": "b6858302",
   "metadata": {},
   "outputs": [
    {
     "data": {
      "image/png": "[encoded data removed]",
      "text/plain": [
       "<Figure size 720x480 with 1 Axes>"
      ]
     },
     "metadata": {
      "needs_background": "light"
     },
     "output_type": "display_data"
    }
   ],
   "source": [
    "plt.figure(figsize=(6, 4), dpi=120)\n",
    "           \n",
    "tot = 0\n",
    "for lbl, pname in zip(['γ', 'e-', 'e+', 'n'],\n",
    "                      ['gamma', 'e-', 'e+', 'neutron']):\n",
    "    names_particle = data[data['name'] == pname]\n",
    "    tot += len(names_particle)\n",
    "    \n",
    "    \n",
    "for mkr, lbl, pname in zip(['o', '<', '>','^'],\n",
    "                      ['γ', 'e-', 'e+', 'n'],\n",
    "                      ['gamma', 'e-', 'e+', 'neutron']):\n",
    "    names_particle = data[data['name'] == pname]\n",
    "    energys, counts = get_energy_count_bins(names_particle, 60)\n",
    "    plt.scatter(energys, counts/tot*100, s=15, label=lbl, marker=mkr)\n",
    "\n",
    "plt.legend()\n",
    "plt.xlim([0, 25.01])\n",
    "plt.yscale('log')\n",
    "plt.ylabel('Количество частиц, относ. ед.')\n",
    "plt.xlabel('Энергия, МэВ')\n",
    "plt.show()"
   ]
  },
  {
   "cell_type": "code",
   "execution_count": 51,
   "id": "b40ce4e0",
   "metadata": {},
   "outputs": [],
   "source": [
    "for pname in ['gamma', 'e-', 'e+', 'proton', 'neutron']:\n",
    "    names_particle = data[data['name'] == pname]\n",
    "    energys, counts = get_energy_count_bins(names_particle, 40)\n",
    "    with open(f'linac_{pname}_hist.txt', 'w') as f:\n",
    "        for e, w in zip(energys, counts):\n",
    "            f.write(f'{e} {w}\\n')"
   ]
  },
  {
   "cell_type": "code",
   "execution_count": 52,
   "id": "52d71dcb",
   "metadata": {},
   "outputs": [],
   "source": [
    "# particles = data[data['name'] == 'gamma']\n",
    "# plt.hist(particles['E'], bins=100, density=True)\n",
    "# plt.xlim([0, 15.1])\n",
    "# plt.ylabel('Процент числа частиц, %')\n",
    "# plt.xlabel('Энергия электронов, МэВ')\n",
    "# plt.yscale('log')\n",
    "# plt.show()"
   ]
  },
  {
   "cell_type": "markdown",
   "id": "7ae27f56",
   "metadata": {},
   "source": [
    "# Подвал"
   ]
  },
  {
   "cell_type": "markdown",
   "id": "310f2f01",
   "metadata": {},
   "source": [
    "## Распределение по координатам"
   ]
  },
  {
   "cell_type": "code",
   "execution_count": null,
   "id": "8b49ca57",
   "metadata": {},
   "outputs": [],
   "source": [
    "# center = data[(-5 < data['x']) & (data['x'] < 5) & (-5 < data['y']) & (data['y'] < 5)]\n",
    "# plt.rcParams[\"figure.figsize\"] = (6,6)\n",
    "# plt.hist2d(center['x'], center['y'], bins=30)\n",
    "# plt.title('Плотность частиц на выходе из коллиматора')\n",
    "# plt.xlabel('Координата X, см')\n",
    "# plt.ylabel('Координата Y, см')\n",
    "# plt.show()"
   ]
  },
  {
   "cell_type": "markdown",
   "id": "5987efc7",
   "metadata": {},
   "source": [
    "## Распределение по скоростям"
   ]
  },
  {
   "cell_type": "code",
   "execution_count": null,
   "id": "620f6b51",
   "metadata": {},
   "outputs": [],
   "source": [
    "# plt.scatter(center_gamma['vx'], center_gamma['vy'], s=0.2)\n",
    "# plt.xlim([-2, 2])\n",
    "# plt.ylim([-2, 2])\n",
    "# plt.title('Гамма')\n",
    "# plt.xlabel('x компонента скорости, (см/с ?)')\n",
    "# plt.ylabel('y компонента скорости, (см/с ?)')\n",
    "# plt.show()"
   ]
  },
  {
   "cell_type": "code",
   "execution_count": null,
   "id": "70ba3398",
   "metadata": {},
   "outputs": [],
   "source": [
    "# plt.scatter(center_e['vx'], center_e['vy'], s=0.2)\n",
    "# plt.xlim([-2, 2])\n",
    "# plt.ylim([-2, 2])\n",
    "# plt.title('Электроны')\n",
    "# plt.xlabel('x компонента скорости, (см/с ?)')\n",
    "# plt.ylabel('y компонента скорости, (см/с ?)')\n",
    "# plt.show()"
   ]
  },
  {
   "cell_type": "markdown",
   "id": "2913e778",
   "metadata": {},
   "source": [
    "## Визуализация векторов скоростей"
   ]
  },
  {
   "cell_type": "code",
   "execution_count": null,
   "id": "9192de0a",
   "metadata": {},
   "outputs": [],
   "source": [
    "# to_viz = center_gamma[['x','y','z', 'vx','vy','vz']]"
   ]
  },
  {
   "cell_type": "code",
   "execution_count": null,
   "id": "db6a7468",
   "metadata": {},
   "outputs": [],
   "source": [
    "# to_viz = to_viz[:500].T.to_numpy()\n",
    "# to_viz.shape"
   ]
  },
  {
   "cell_type": "code",
   "execution_count": null,
   "id": "8c51d485",
   "metadata": {},
   "outputs": [],
   "source": [
    "# X, Y, Z, U, V, W = [to_viz[cor_vel] for cor_vel in range(len(to_viz))]\n",
    "# fig = plt.figure()\n",
    "# ax3d = fig.add_subplot(111, projection='3d')\n",
    "# ax3d.set_proj_type('persp')\n",
    "# ax3d.quiver(X, Y, Z, U, V, W)\n",
    "# ax3d.set_xlim([-4, 4])\n",
    "# ax3d.set_ylim([-4, 4])\n",
    "# ax3d.set_zlim([40, 50])\n",
    "# plt.show()"
   ]
  },
  {
   "cell_type": "code",
   "execution_count": null,
   "id": "24088041",
   "metadata": {},
   "outputs": [],
   "source": [
    "# import matplotlib.pyplot as plt\n",
    "# import numpy as np\n",
    "\n",
    "# fig = plt.figure()\n",
    "# ax = fig.add_subplot(projection='3d')\n",
    "# x, y = center['x'], center['y']\n",
    "# hist, xedges, yedges = np.histogram2d(x, y, bins=16, range=[[-5, 5], [-5, 5]])\n",
    "\n",
    "# # Construct arrays for the anchor positions of the 16 bars.\n",
    "# xpos, ypos = np.meshgrid(xedges[:-1] + 0.25, yedges[:-1] + 0.25, indexing=\"ij\")\n",
    "# xpos = xpos.ravel()\n",
    "# ypos = ypos.ravel()\n",
    "# zpos = 0\n",
    "\n",
    "# # Construct arrays with the dimensions for the 16 bars.\n",
    "# dx = dy = 0.5 * np.ones_like(zpos)\n",
    "# dz = hist.ravel()\n",
    "\n",
    "# ax.bar3d(xpos, ypos, zpos, dx, dy, dz, zsort='average')\n",
    "\n",
    "# plt.show()"
   ]
  }
 ],
 "metadata": {
  "kernelspec": {
   "display_name": "Python 3",
   "language": "python",
   "name": "python3"
  },
  "language_info": {
   "codemirror_mode": {
    "name": "ipython",
    "version": 3
   },
   "file_extension": ".py",
   "mimetype": "text/x-python",
   "name": "python",
   "nbconvert_exporter": "python",
   "pygments_lexer": "ipython3",
   "version": "3.6.8"
  }
 },
 "nbformat": 4,
 "nbformat_minor": 5
}
