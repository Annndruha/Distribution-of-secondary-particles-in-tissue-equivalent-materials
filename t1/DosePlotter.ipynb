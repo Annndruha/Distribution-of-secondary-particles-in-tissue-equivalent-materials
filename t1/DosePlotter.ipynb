{
 "cells": [
  {
   "cell_type": "code",
   "execution_count": 1,
   "id": "attended-bermuda",
   "metadata": {},
   "outputs": [],
   "source": [
    "%matplotlib inline\n",
    "import os\n",
    "\n",
    "import pandas as pd\n",
    "import numpy as np\n",
    "import glob\n",
    "import matplotlib.pyplot as plt"
   ]
  },
  {
   "cell_type": "markdown",
   "id": "52fea0ec",
   "metadata": {},
   "source": [
    "### Распределение дозы по глубине"
   ]
  },
  {
   "cell_type": "code",
   "execution_count": 2,
   "id": "cf91d50c",
   "metadata": {},
   "outputs": [],
   "source": [
    "paths = glob.glob(f\"build/*results*.csv\")"
   ]
  },
  {
   "cell_type": "code",
   "execution_count": 6,
   "id": "printable-moral",
   "metadata": {
    "scrolled": true
   },
   "outputs": [
    {
     "name": "stderr",
     "output_type": "stream",
     "text": [
      "/tmp/ipykernel_11267/3239030270.py:5: FutureWarning: The frame.append method is deprecated and will be removed from pandas in a future version. Use pandas.concat instead.\n",
      "  data = data.append(item, ignore_index=True)\n",
      "/tmp/ipykernel_11267/3239030270.py:5: FutureWarning: The frame.append method is deprecated and will be removed from pandas in a future version. Use pandas.concat instead.\n",
      "  data = data.append(item, ignore_index=True)\n",
      "/tmp/ipykernel_11267/3239030270.py:5: FutureWarning: The frame.append method is deprecated and will be removed from pandas in a future version. Use pandas.concat instead.\n",
      "  data = data.append(item, ignore_index=True)\n",
      "/tmp/ipykernel_11267/3239030270.py:5: FutureWarning: The frame.append method is deprecated and will be removed from pandas in a future version. Use pandas.concat instead.\n",
      "  data = data.append(item, ignore_index=True)\n",
      "/tmp/ipykernel_11267/3239030270.py:5: FutureWarning: The frame.append method is deprecated and will be removed from pandas in a future version. Use pandas.concat instead.\n",
      "  data = data.append(item, ignore_index=True)\n",
      "/tmp/ipykernel_11267/3239030270.py:5: FutureWarning: The frame.append method is deprecated and will be removed from pandas in a future version. Use pandas.concat instead.\n",
      "  data = data.append(item, ignore_index=True)\n",
      "/tmp/ipykernel_11267/3239030270.py:5: FutureWarning: The frame.append method is deprecated and will be removed from pandas in a future version. Use pandas.concat instead.\n",
      "  data = data.append(item, ignore_index=True)\n",
      "/tmp/ipykernel_11267/3239030270.py:5: FutureWarning: The frame.append method is deprecated and will be removed from pandas in a future version. Use pandas.concat instead.\n",
      "  data = data.append(item, ignore_index=True)\n",
      "/tmp/ipykernel_11267/3239030270.py:5: FutureWarning: The frame.append method is deprecated and will be removed from pandas in a future version. Use pandas.concat instead.\n",
      "  data = data.append(item, ignore_index=True)\n",
      "/tmp/ipykernel_11267/3239030270.py:5: FutureWarning: The frame.append method is deprecated and will be removed from pandas in a future version. Use pandas.concat instead.\n",
      "  data = data.append(item, ignore_index=True)\n",
      "/tmp/ipykernel_11267/3239030270.py:5: FutureWarning: The frame.append method is deprecated and will be removed from pandas in a future version. Use pandas.concat instead.\n",
      "  data = data.append(item, ignore_index=True)\n",
      "/tmp/ipykernel_11267/3239030270.py:5: FutureWarning: The frame.append method is deprecated and will be removed from pandas in a future version. Use pandas.concat instead.\n",
      "  data = data.append(item, ignore_index=True)\n",
      "/tmp/ipykernel_11267/3239030270.py:5: FutureWarning: The frame.append method is deprecated and will be removed from pandas in a future version. Use pandas.concat instead.\n",
      "  data = data.append(item, ignore_index=True)\n",
      "/tmp/ipykernel_11267/3239030270.py:5: FutureWarning: The frame.append method is deprecated and will be removed from pandas in a future version. Use pandas.concat instead.\n",
      "  data = data.append(item, ignore_index=True)\n",
      "/tmp/ipykernel_11267/3239030270.py:5: FutureWarning: The frame.append method is deprecated and will be removed from pandas in a future version. Use pandas.concat instead.\n",
      "  data = data.append(item, ignore_index=True)\n",
      "/tmp/ipykernel_11267/3239030270.py:5: FutureWarning: The frame.append method is deprecated and will be removed from pandas in a future version. Use pandas.concat instead.\n",
      "  data = data.append(item, ignore_index=True)\n",
      "/tmp/ipykernel_11267/3239030270.py:5: FutureWarning: The frame.append method is deprecated and will be removed from pandas in a future version. Use pandas.concat instead.\n",
      "  data = data.append(item, ignore_index=True)\n",
      "/tmp/ipykernel_11267/3239030270.py:5: FutureWarning: The frame.append method is deprecated and will be removed from pandas in a future version. Use pandas.concat instead.\n",
      "  data = data.append(item, ignore_index=True)\n",
      "/tmp/ipykernel_11267/3239030270.py:5: FutureWarning: The frame.append method is deprecated and will be removed from pandas in a future version. Use pandas.concat instead.\n",
      "  data = data.append(item, ignore_index=True)\n",
      "/tmp/ipykernel_11267/3239030270.py:5: FutureWarning: The frame.append method is deprecated and will be removed from pandas in a future version. Use pandas.concat instead.\n",
      "  data = data.append(item, ignore_index=True)\n"
     ]
    }
   ],
   "source": [
    "data = pd.DataFrame()\n",
    "\n",
    "for path in paths:\n",
    "    item = pd.read_csv(path, skiprows=12, names=['name', 'x', 'y', 'z', 'vx', 'vy', 'vz', 'E'])\n",
    "    data = data.append(item, ignore_index=True)"
   ]
  },
  {
   "cell_type": "code",
   "execution_count": 7,
   "id": "8666a676",
   "metadata": {},
   "outputs": [
    {
     "data": {
      "text/html": [
       "<div>\n",
       "<style scoped>\n",
       "    .dataframe tbody tr th:only-of-type {\n",
       "        vertical-align: middle;\n",
       "    }\n",
       "\n",
       "    .dataframe tbody tr th {\n",
       "        vertical-align: top;\n",
       "    }\n",
       "\n",
       "    .dataframe thead th {\n",
       "        text-align: right;\n",
       "    }\n",
       "</style>\n",
       "<table border=\"1\" class=\"dataframe\">\n",
       "  <thead>\n",
       "    <tr style=\"text-align: right;\">\n",
       "      <th></th>\n",
       "      <th>name</th>\n",
       "      <th>x</th>\n",
       "      <th>y</th>\n",
       "      <th>z</th>\n",
       "      <th>vx</th>\n",
       "      <th>vy</th>\n",
       "      <th>vz</th>\n",
       "      <th>E</th>\n",
       "    </tr>\n",
       "  </thead>\n",
       "  <tbody>\n",
       "    <tr>\n",
       "      <th>0</th>\n",
       "      <td>gamma</td>\n",
       "      <td>-16.794000</td>\n",
       "      <td>-15.748500</td>\n",
       "      <td>42.0000</td>\n",
       "      <td>-0.806664</td>\n",
       "      <td>-0.776350</td>\n",
       "      <td>2.089580</td>\n",
       "      <td>2.370610</td>\n",
       "    </tr>\n",
       "    <tr>\n",
       "      <th>1</th>\n",
       "      <td>gamma</td>\n",
       "      <td>19.620400</td>\n",
       "      <td>6.591690</td>\n",
       "      <td>42.0000</td>\n",
       "      <td>0.588351</td>\n",
       "      <td>0.304784</td>\n",
       "      <td>1.624040</td>\n",
       "      <td>1.754010</td>\n",
       "    </tr>\n",
       "    <tr>\n",
       "      <th>2</th>\n",
       "      <td>gamma</td>\n",
       "      <td>-19.114000</td>\n",
       "      <td>19.615100</td>\n",
       "      <td>42.0000</td>\n",
       "      <td>-4.227880</td>\n",
       "      <td>4.346390</td>\n",
       "      <td>9.386260</td>\n",
       "      <td>11.174400</td>\n",
       "    </tr>\n",
       "    <tr>\n",
       "      <th>3</th>\n",
       "      <td>gamma</td>\n",
       "      <td>5.626820</td>\n",
       "      <td>15.470700</td>\n",
       "      <td>42.0000</td>\n",
       "      <td>0.122308</td>\n",
       "      <td>0.355415</td>\n",
       "      <td>0.970732</td>\n",
       "      <td>1.040960</td>\n",
       "    </tr>\n",
       "    <tr>\n",
       "      <th>4</th>\n",
       "      <td>gamma</td>\n",
       "      <td>-16.699800</td>\n",
       "      <td>-17.653300</td>\n",
       "      <td>42.0000</td>\n",
       "      <td>-1.450740</td>\n",
       "      <td>-1.466940</td>\n",
       "      <td>3.416410</td>\n",
       "      <td>3.991040</td>\n",
       "    </tr>\n",
       "    <tr>\n",
       "      <th>...</th>\n",
       "      <td>...</td>\n",
       "      <td>...</td>\n",
       "      <td>...</td>\n",
       "      <td>...</td>\n",
       "      <td>...</td>\n",
       "      <td>...</td>\n",
       "      <td>...</td>\n",
       "      <td>...</td>\n",
       "    </tr>\n",
       "    <tr>\n",
       "      <th>767</th>\n",
       "      <td>gamma</td>\n",
       "      <td>-0.027773</td>\n",
       "      <td>0.443903</td>\n",
       "      <td>42.0000</td>\n",
       "      <td>-0.017264</td>\n",
       "      <td>0.026405</td>\n",
       "      <td>2.139560</td>\n",
       "      <td>1.701960</td>\n",
       "    </tr>\n",
       "    <tr>\n",
       "      <th>768</th>\n",
       "      <td>e-</td>\n",
       "      <td>-0.136012</td>\n",
       "      <td>0.609457</td>\n",
       "      <td>55.4144</td>\n",
       "      <td>0.104991</td>\n",
       "      <td>0.585137</td>\n",
       "      <td>0.534518</td>\n",
       "      <td>0.412967</td>\n",
       "    </tr>\n",
       "    <tr>\n",
       "      <th>769</th>\n",
       "      <td>gamma</td>\n",
       "      <td>0.584124</td>\n",
       "      <td>17.149700</td>\n",
       "      <td>42.0000</td>\n",
       "      <td>0.025602</td>\n",
       "      <td>1.282540</td>\n",
       "      <td>3.051630</td>\n",
       "      <td>3.310290</td>\n",
       "    </tr>\n",
       "    <tr>\n",
       "      <th>770</th>\n",
       "      <td>gamma</td>\n",
       "      <td>17.998000</td>\n",
       "      <td>11.811000</td>\n",
       "      <td>42.0000</td>\n",
       "      <td>0.698847</td>\n",
       "      <td>0.497283</td>\n",
       "      <td>1.975320</td>\n",
       "      <td>2.153510</td>\n",
       "    </tr>\n",
       "    <tr>\n",
       "      <th>771</th>\n",
       "      <td>gamma</td>\n",
       "      <td>7.004720</td>\n",
       "      <td>19.154900</td>\n",
       "      <td>42.0000</td>\n",
       "      <td>0.167583</td>\n",
       "      <td>0.468338</td>\n",
       "      <td>1.129630</td>\n",
       "      <td>1.234290</td>\n",
       "    </tr>\n",
       "  </tbody>\n",
       "</table>\n",
       "<p>772 rows × 8 columns</p>\n",
       "</div>"
      ],
      "text/plain": [
       "      name          x          y        z        vx        vy        vz  \\\n",
       "0    gamma -16.794000 -15.748500  42.0000 -0.806664 -0.776350  2.089580   \n",
       "1    gamma  19.620400   6.591690  42.0000  0.588351  0.304784  1.624040   \n",
       "2    gamma -19.114000  19.615100  42.0000 -4.227880  4.346390  9.386260   \n",
       "3    gamma   5.626820  15.470700  42.0000  0.122308  0.355415  0.970732   \n",
       "4    gamma -16.699800 -17.653300  42.0000 -1.450740 -1.466940  3.416410   \n",
       "..     ...        ...        ...      ...       ...       ...       ...   \n",
       "767  gamma  -0.027773   0.443903  42.0000 -0.017264  0.026405  2.139560   \n",
       "768     e-  -0.136012   0.609457  55.4144  0.104991  0.585137  0.534518   \n",
       "769  gamma   0.584124  17.149700  42.0000  0.025602  1.282540  3.051630   \n",
       "770  gamma  17.998000  11.811000  42.0000  0.698847  0.497283  1.975320   \n",
       "771  gamma   7.004720  19.154900  42.0000  0.167583  0.468338  1.129630   \n",
       "\n",
       "             E  \n",
       "0     2.370610  \n",
       "1     1.754010  \n",
       "2    11.174400  \n",
       "3     1.040960  \n",
       "4     3.991040  \n",
       "..         ...  \n",
       "767   1.701960  \n",
       "768   0.412967  \n",
       "769   3.310290  \n",
       "770   2.153510  \n",
       "771   1.234290  \n",
       "\n",
       "[772 rows x 8 columns]"
      ]
     },
     "execution_count": 7,
     "metadata": {},
     "output_type": "execute_result"
    }
   ],
   "source": [
    "data"
   ]
  },
  {
   "cell_type": "code",
   "execution_count": 8,
   "id": "5ccd6f7c",
   "metadata": {},
   "outputs": [
    {
     "data": {
      "text/plain": [
       "<matplotlib.collections.PathCollection at 0x7f47d6b04f40>"
      ]
     },
     "execution_count": 8,
     "metadata": {},
     "output_type": "execute_result"
    },
    {
     "data": {
      "image/png": "[encoded data removed]",
      "text/plain": [
       "<Figure size 432x288 with 1 Axes>"
      ]
     },
     "metadata": {
      "needs_background": "light"
     },
     "output_type": "display_data"
    }
   ],
   "source": [
    "plt.scatter(data['x'], data['y'])"
   ]
  },
  {
   "cell_type": "code",
   "execution_count": 36,
   "id": "68fdcf1d",
   "metadata": {},
   "outputs": [],
   "source": [
    "center = data[(-5 < data['x']) & (data['x'] < 5) & (-5 < data['y']) & (data['y'] < 5)]"
   ]
  },
  {
   "cell_type": "code",
   "execution_count": 37,
   "id": "b844d391",
   "metadata": {},
   "outputs": [
    {
     "data": {
      "image/png": "[encoded data removed]",
      "text/plain": [
       "<Figure size 432x288 with 1 Axes>"
      ]
     },
     "metadata": {
      "needs_background": "light"
     },
     "output_type": "display_data"
    }
   ],
   "source": [
    "plt.hist(center['E'], bins=50)\n",
    "plt.show()"
   ]
  },
  {
   "cell_type": "code",
   "execution_count": 38,
   "id": "a92b7c1b",
   "metadata": {},
   "outputs": [
    {
     "data": {
      "image/png": "[encoded data removed]",
      "text/plain": [
       "<Figure size 432x288 with 1 Axes>"
      ]
     },
     "metadata": {
      "needs_background": "light"
     },
     "output_type": "display_data"
    }
   ],
   "source": [
    "plt.hist2d(center['x'], center['y'], bins=10)\n",
    "plt.show()"
   ]
  },
  {
   "cell_type": "code",
   "execution_count": 4,
   "id": "d8a8cc6e",
   "metadata": {},
   "outputs": [],
   "source": [
    "data = data.sort_values(by=['name'], ascending=False)"
   ]
  },
  {
   "cell_type": "code",
   "execution_count": 5,
   "id": "6ea20f42",
   "metadata": {},
   "outputs": [],
   "source": [
    "\n",
    "data['z'] -= data['z'].min()\n",
    "z_bins = 300\n",
    "dz = (data['z'].max() - data['z'].min()) / z_bins"
   ]
  },
  {
   "cell_type": "code",
   "execution_count": 6,
   "id": "e0d67886",
   "metadata": {},
   "outputs": [],
   "source": [
    "data_dict = []\n",
    "for i in np.arange(data['z'].min(), data['z'].max(), dz):\n",
    "    data_dict.append({'z': i + dz / 2, 'edep': data[(data['z'] > i) & (data['z'] < (i + dz))]['edep'].sum()})"
   ]
  },
  {
   "cell_type": "code",
   "execution_count": 7,
   "id": "aging-pressure",
   "metadata": {
    "scrolled": true
   },
   "outputs": [
    {
     "data": {
      "image/png": "[encoded data removed]",
      "text/plain": [
       "<Figure size 432x288 with 1 Axes>"
      ]
     },
     "metadata": {
      "needs_background": "light"
     },
     "output_type": "display_data"
    }
   ],
   "source": [
    "hist = pd.DataFrame(data_dict)\n",
    "hist['edep'] /= hist['edep'].max()\n",
    "\n",
    "d2plot = hist['edep'].values[::-1]\n",
    "plt.bar(np.arange(len(d2plot)) * dz + dz / 2, d2plot)\n",
    "\n",
    "hist['z'] = hist['z'].values[::-1]\n",
    "#hist.sort_values(by=['z']).to_csv('aDoseDepthHist.csv', index=False)\n",
    "plt.ylabel('D / Dmax')\n",
    "plt.xlabel('Z, mm')\n",
    "plt.suptitle('Распределение дозы по глубине')\n",
    "#plt.savefig('aDoseDepthHist.png')"
   ]
  },
  {
   "cell_type": "markdown",
   "id": "a62dbe5d",
   "metadata": {},
   "source": [
    "### Распределение по энергии и типу частиц"
   ]
  },
  {
   "cell_type": "code",
   "execution_count": 8,
   "id": "c43c7998",
   "metadata": {},
   "outputs": [],
   "source": [
    "paths = glob.glob(f\"build/*DoseData_t*.csv\")"
   ]
  },
  {
   "cell_type": "code",
   "execution_count": 9,
   "id": "1f9bd712",
   "metadata": {},
   "outputs": [],
   "source": [
    "data = pd.DataFrame()\n",
    "\n",
    "for path in paths:\n",
    "    item = pd.read_csv(path, skiprows=8, names=['particle_name', 'energy'])\n",
    "    data = data.append(item, ignore_index=True)"
   ]
  },
  {
   "cell_type": "code",
   "execution_count": 10,
   "id": "f1d5dbcc",
   "metadata": {},
   "outputs": [],
   "source": [
    "particle_names = [name for name in set(data[\"particle_name\"].values) if not name.startswith(\"W\")]\n",
    "datas = {}\n",
    "for name in particle_names:\n",
    "    if name.startswith(\"W\") is False:\n",
    "        datas[name] = data[data[\"particle_name\"]==name]"
   ]
  },
  {
   "cell_type": "code",
   "execution_count": 11,
   "id": "ff5c5461",
   "metadata": {},
   "outputs": [
    {
     "data": {
      "text/plain": [
       "['gamma', 'e+', 'e-']"
      ]
     },
     "execution_count": 11,
     "metadata": {},
     "output_type": "execute_result"
    }
   ],
   "source": [
    "particle_names"
   ]
  },
  {
   "cell_type": "code",
   "execution_count": 12,
   "id": "6762dbf2",
   "metadata": {},
   "outputs": [
    {
     "data": {
      "image/png": "[encoded data removed]",
      "text/plain": [
       "<Figure size 432x288 with 1 Axes>"
      ]
     },
     "metadata": {
      "needs_background": "light"
     },
     "output_type": "display_data"
    },
    {
     "data": {
      "image/png": "[encoded data removed]",
      "text/plain": [
       "<Figure size 432x288 with 1 Axes>"
      ]
     },
     "metadata": {
      "needs_background": "light"
     },
     "output_type": "display_data"
    },
    {
     "data": {
      "image/png": "[encoded data removed]",
      "text/plain": [
       "<Figure size 432x288 with 1 Axes>"
      ]
     },
     "metadata": {
      "needs_background": "light"
     },
     "output_type": "display_data"
    }
   ],
   "source": [
    "for name in particle_names:\n",
    "    d = datas[name][\"energy\"].to_numpy()\n",
    "    plt.hist(d, bins=100)\n",
    "    plt.title(name)\n",
    "    plt.ylabel('Energy, MeV')\n",
    "    plt.xlabel('bins')\n",
    "    plt.show()"
   ]
  }
 ],
 "metadata": {
  "kernelspec": {
   "display_name": "Python 3 (ipykernel)",
   "language": "python",
   "name": "python3"
  },
  "language_info": {
   "codemirror_mode": {
    "name": "ipython",
    "version": 3
   },
   "file_extension": ".py",
   "mimetype": "text/x-python",
   "name": "python",
   "nbconvert_exporter": "python",
   "pygments_lexer": "ipython3",
   "version": "3.10.4"
  }
 },
 "nbformat": 4,
 "nbformat_minor": 5
}
