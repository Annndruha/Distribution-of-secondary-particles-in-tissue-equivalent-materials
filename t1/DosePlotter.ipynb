{
 "cells": [
  {
   "cell_type": "code",
   "execution_count": 1,
   "id": "attended-bermuda",
   "metadata": {},
   "outputs": [],
   "source": [
    "%matplotlib inline\n",
    "import os\n",
    "\n",
    "import scipy\n",
    "import pandas as pd\n",
    "import numpy as np\n",
    "import glob\n",
    "import matplotlib.pyplot as plt"
   ]
  },
  {
   "cell_type": "markdown",
   "id": "52fea0ec",
   "metadata": {},
   "source": [
    "### Распределение дозы по глубине"
   ]
  },
  {
   "cell_type": "code",
   "execution_count": 164,
   "id": "cf91d50c",
   "metadata": {},
   "outputs": [],
   "source": [
    "paths = glob.glob(f\"build/*results*.csv\")"
   ]
  },
  {
   "cell_type": "code",
   "execution_count": 192,
   "id": "printable-moral",
   "metadata": {
    "scrolled": true
   },
   "outputs": [],
   "source": [
    "data_raw = pd.DataFrame()\n",
    "\n",
    "for path in paths:\n",
    "    item = pd.read_csv(path, skiprows=12, names=['name', 'x', 'y', 'z', 'vx', 'vy', 'vz', 'E'])\n",
    "    data_raw = pd.concat((data_raw, item), ignore_index=True)"
   ]
  },
  {
   "cell_type": "code",
   "execution_count": 193,
   "id": "8666a676",
   "metadata": {},
   "outputs": [
    {
     "data": {
      "text/html": [
       "<div>\n",
       "<style scoped>\n",
       "    .dataframe tbody tr th:only-of-type {\n",
       "        vertical-align: middle;\n",
       "    }\n",
       "\n",
       "    .dataframe tbody tr th {\n",
       "        vertical-align: top;\n",
       "    }\n",
       "\n",
       "    .dataframe thead th {\n",
       "        text-align: right;\n",
       "    }\n",
       "</style>\n",
       "<table border=\"1\" class=\"dataframe\">\n",
       "  <thead>\n",
       "    <tr style=\"text-align: right;\">\n",
       "      <th></th>\n",
       "      <th>name</th>\n",
       "      <th>x</th>\n",
       "      <th>y</th>\n",
       "      <th>z</th>\n",
       "      <th>vx</th>\n",
       "      <th>vy</th>\n",
       "      <th>vz</th>\n",
       "      <th>E</th>\n",
       "    </tr>\n",
       "  </thead>\n",
       "  <tbody>\n",
       "    <tr>\n",
       "      <th>0</th>\n",
       "      <td>gamma</td>\n",
       "      <td>8.62687</td>\n",
       "      <td>18.7803</td>\n",
       "      <td>42.0</td>\n",
       "      <td>0.41231</td>\n",
       "      <td>0.63044</td>\n",
       "      <td>1.54586</td>\n",
       "      <td>1.71963</td>\n",
       "    </tr>\n",
       "    <tr>\n",
       "      <th>1</th>\n",
       "      <td>gamma</td>\n",
       "      <td>-2.03114</td>\n",
       "      <td>-17.4397</td>\n",
       "      <td>42.0</td>\n",
       "      <td>-0.073924</td>\n",
       "      <td>-0.555033</td>\n",
       "      <td>1.37733</td>\n",
       "      <td>1.33898</td>\n",
       "    </tr>\n",
       "    <tr>\n",
       "      <th>2</th>\n",
       "      <td>e-</td>\n",
       "      <td>-2.291</td>\n",
       "      <td>-19.3907</td>\n",
       "      <td>46.8415</td>\n",
       "      <td>0.350289</td>\n",
       "      <td>-0.13986</td>\n",
       "      <td>0.175045</td>\n",
       "      <td>0.139984</td>\n",
       "    </tr>\n",
       "    <tr>\n",
       "      <th>3</th>\n",
       "      <td>gamma</td>\n",
       "      <td>-8.38571</td>\n",
       "      <td>-17.9946</td>\n",
       "      <td>42.0</td>\n",
       "      <td>-0.37091</td>\n",
       "      <td>-0.762739</td>\n",
       "      <td>1.81036</td>\n",
       "      <td>1.99918</td>\n",
       "    </tr>\n",
       "    <tr>\n",
       "      <th>4</th>\n",
       "      <td>gamma</td>\n",
       "      <td>-18.9994</td>\n",
       "      <td>-3.01534</td>\n",
       "      <td>42.0</td>\n",
       "      <td>-0.779771</td>\n",
       "      <td>-0.09588</td>\n",
       "      <td>1.97419</td>\n",
       "      <td>2.12478</td>\n",
       "    </tr>\n",
       "    <tr>\n",
       "      <th>...</th>\n",
       "      <td>...</td>\n",
       "      <td>...</td>\n",
       "      <td>...</td>\n",
       "      <td>...</td>\n",
       "      <td>...</td>\n",
       "      <td>...</td>\n",
       "      <td>...</td>\n",
       "      <td>...</td>\n",
       "    </tr>\n",
       "    <tr>\n",
       "      <th>33705</th>\n",
       "      <td>gamma</td>\n",
       "      <td>8.7599</td>\n",
       "      <td>19.7676</td>\n",
       "      <td>42.0</td>\n",
       "      <td>0.229794</td>\n",
       "      <td>0.276895</td>\n",
       "      <td>0.651779</td>\n",
       "      <td>0.744508</td>\n",
       "    </tr>\n",
       "    <tr>\n",
       "      <th>33706</th>\n",
       "      <td>gamma</td>\n",
       "      <td>12.2698</td>\n",
       "      <td>-16.2425</td>\n",
       "      <td>42.0</td>\n",
       "      <td>0.621733</td>\n",
       "      <td>-0.914522</td>\n",
       "      <td>2.28327</td>\n",
       "      <td>2.53697</td>\n",
       "    </tr>\n",
       "    <tr>\n",
       "      <th>33707</th>\n",
       "      <td>gamma</td>\n",
       "      <td>19.8023</td>\n",
       "      <td>18.7404</td>\n",
       "      <td>42.0</td>\n",
       "      <td>0.587275</td>\n",
       "      <td>0.762211</td>\n",
       "      <td>1.65769</td>\n",
       "      <td>1.91672</td>\n",
       "    </tr>\n",
       "    <tr>\n",
       "      <th>33708</th>\n",
       "      <td>gamma</td>\n",
       "      <td>17.0878</td>\n",
       "      <td>-10.129</td>\n",
       "      <td>42.0</td>\n",
       "      <td>0.682991</td>\n",
       "      <td>-0.327058</td>\n",
       "      <td>1.60618</td>\n",
       "      <td>0.77677</td>\n",
       "    </tr>\n",
       "    <tr>\n",
       "      <th>33709</th>\n",
       "      <td>e-</td>\n",
       "      <td>17.7079</td>\n",
       "      <td>-10.426</td>\n",
       "      <td>43.4583</td>\n",
       "      <td>1.00932</td>\n",
       "      <td>-0.399502</td>\n",
       "      <td>0.916805</td>\n",
       "      <td>0.911748</td>\n",
       "    </tr>\n",
       "  </tbody>\n",
       "</table>\n",
       "<p>33710 rows × 8 columns</p>\n",
       "</div>"
      ],
      "text/plain": [
       "        name        x        y        z        vx        vy        vz  \\\n",
       "0      gamma  8.62687  18.7803     42.0   0.41231   0.63044   1.54586   \n",
       "1      gamma -2.03114 -17.4397     42.0 -0.073924 -0.555033   1.37733   \n",
       "2         e-   -2.291 -19.3907  46.8415  0.350289  -0.13986  0.175045   \n",
       "3      gamma -8.38571 -17.9946     42.0  -0.37091 -0.762739   1.81036   \n",
       "4      gamma -18.9994 -3.01534     42.0 -0.779771  -0.09588   1.97419   \n",
       "...      ...      ...      ...      ...       ...       ...       ...   \n",
       "33705  gamma   8.7599  19.7676     42.0  0.229794  0.276895  0.651779   \n",
       "33706  gamma  12.2698 -16.2425     42.0  0.621733 -0.914522   2.28327   \n",
       "33707  gamma  19.8023  18.7404     42.0  0.587275  0.762211   1.65769   \n",
       "33708  gamma  17.0878  -10.129     42.0  0.682991 -0.327058   1.60618   \n",
       "33709     e-  17.7079  -10.426  43.4583   1.00932 -0.399502  0.916805   \n",
       "\n",
       "              E  \n",
       "0       1.71963  \n",
       "1       1.33898  \n",
       "2      0.139984  \n",
       "3       1.99918  \n",
       "4       2.12478  \n",
       "...         ...  \n",
       "33705  0.744508  \n",
       "33706   2.53697  \n",
       "33707   1.91672  \n",
       "33708   0.77677  \n",
       "33709  0.911748  \n",
       "\n",
       "[33710 rows x 8 columns]"
      ]
     },
     "execution_count": 193,
     "metadata": {},
     "output_type": "execute_result"
    }
   ],
   "source": [
    "data = data_raw\n",
    "data_raw"
   ]
  },
  {
   "cell_type": "code",
   "execution_count": 194,
   "id": "aecdd4e7",
   "metadata": {},
   "outputs": [
    {
     "data": {
      "text/html": [
       "<div>\n",
       "<style scoped>\n",
       "    .dataframe tbody tr th:only-of-type {\n",
       "        vertical-align: middle;\n",
       "    }\n",
       "\n",
       "    .dataframe tbody tr th {\n",
       "        vertical-align: top;\n",
       "    }\n",
       "\n",
       "    .dataframe thead th {\n",
       "        text-align: right;\n",
       "    }\n",
       "</style>\n",
       "<table border=\"1\" class=\"dataframe\">\n",
       "  <thead>\n",
       "    <tr style=\"text-align: right;\">\n",
       "      <th></th>\n",
       "      <th>name</th>\n",
       "      <th>count</th>\n",
       "      <th>percent</th>\n",
       "    </tr>\n",
       "  </thead>\n",
       "  <tbody>\n",
       "    <tr>\n",
       "      <th>0</th>\n",
       "      <td>O16</td>\n",
       "      <td>333</td>\n",
       "      <td>0.987837</td>\n",
       "    </tr>\n",
       "    <tr>\n",
       "      <th>1</th>\n",
       "      <td>e+</td>\n",
       "      <td>146</td>\n",
       "      <td>0.433106</td>\n",
       "    </tr>\n",
       "    <tr>\n",
       "      <th>2</th>\n",
       "      <td>nu_e</td>\n",
       "      <td>438</td>\n",
       "      <td>1.299318</td>\n",
       "    </tr>\n",
       "    <tr>\n",
       "      <th>3</th>\n",
       "      <td>anti_nu_e</td>\n",
       "      <td>490</td>\n",
       "      <td>1.453575</td>\n",
       "    </tr>\n",
       "    <tr>\n",
       "      <th>4</th>\n",
       "      <td>neutron</td>\n",
       "      <td>1221</td>\n",
       "      <td>3.622071</td>\n",
       "    </tr>\n",
       "    <tr>\n",
       "      <th>5</th>\n",
       "      <td>proton</td>\n",
       "      <td>841</td>\n",
       "      <td>2.494809</td>\n",
       "    </tr>\n",
       "    <tr>\n",
       "      <th>6</th>\n",
       "      <td>gamma</td>\n",
       "      <td>20821</td>\n",
       "      <td>61.765055</td>\n",
       "    </tr>\n",
       "    <tr>\n",
       "      <th>7</th>\n",
       "      <td>e-</td>\n",
       "      <td>9420</td>\n",
       "      <td>27.944230</td>\n",
       "    </tr>\n",
       "  </tbody>\n",
       "</table>\n",
       "</div>"
      ],
      "text/plain": [
       "        name  count    percent\n",
       "0        O16    333   0.987837\n",
       "1         e+    146   0.433106\n",
       "2       nu_e    438   1.299318\n",
       "3  anti_nu_e    490   1.453575\n",
       "4    neutron   1221   3.622071\n",
       "5     proton    841   2.494809\n",
       "6      gamma  20821  61.765055\n",
       "7         e-   9420  27.944230"
      ]
     },
     "execution_count": 194,
     "metadata": {},
     "output_type": "execute_result"
    }
   ],
   "source": [
    "l = len(data_raw)\n",
    "res = []\n",
    "for name in set(data_raw['name']):\n",
    "    count = len(data_raw[data_raw['name'] == name])\n",
    "    res.append((name, count, count/l*100))\n",
    "    \n",
    "pd.DataFrame(res, columns=['name', 'count', 'percent'])"
   ]
  },
  {
   "cell_type": "code",
   "execution_count": 195,
   "id": "de57e9c0",
   "metadata": {},
   "outputs": [
    {
     "data": {
      "image/png": "[encoded data removed]",
      "text/plain": [
       "<Figure size 432x288 with 1 Axes>"
      ]
     },
     "metadata": {
      "needs_background": "light"
     },
     "output_type": "display_data"
    }
   ],
   "source": [
    "plt.hist2d(data['x'], data['y'], bins=30)\n",
    "plt.show()"
   ]
  },
  {
   "cell_type": "code",
   "execution_count": 196,
   "id": "8ad4db2e",
   "metadata": {},
   "outputs": [
    {
     "data": {
      "image/png": "[encoded data removed]",
      "text/plain": [
       "<Figure size 432x288 with 1 Axes>"
      ]
     },
     "metadata": {
      "needs_background": "light"
     },
     "output_type": "display_data"
    }
   ],
   "source": [
    "center = data[(-10 < data['x']) & (data['x'] < 10) & (-10 < data['y']) & (data['y'] < 10)]\n",
    "plt.hist2d(center['x'], center['y'], bins=20)\n",
    "plt.show()"
   ]
  },
  {
   "cell_type": "code",
   "execution_count": 242,
   "id": "99f57b5e",
   "metadata": {},
   "outputs": [
    {
     "data": {
      "image/png": "[encoded data removed]",
      "text/plain": [
       "<Figure size 648x216 with 2 Axes>"
      ]
     },
     "metadata": {
      "needs_background": "light"
     },
     "output_type": "display_data"
    }
   ],
   "source": [
    "cnt_x = np.array(center['x'], dtype=float)\n",
    "cnt_y = np.array(center['y'], dtype=float)\n",
    "\n",
    "fig, axs = plt.subplots(1, 2, figsize=(9, 3), sharey=True)\n",
    "\n",
    "_, bins, _ = axs[0].hist(cnt_x, 50, density=True)\n",
    "mu, sigma = scipy.stats.norm.fit(cnt_x)\n",
    "best_fit_line = scipy.stats.norm.pdf(bins, mu, sigma)\n",
    "axs[0].plot(bins, best_fit_line)\n",
    "\n",
    "_, bins, _ = axs[1].hist(cnt_y, 50, density=True)\n",
    "mu, sigma = scipy.stats.norm.fit(cnt_y)\n",
    "best_fit_line1 = scipy.stats.norm.pdf(bins, mu, sigma*0.5)\n",
    "best_fit_line2 = scipy.stats.norm.pdf(bins, mu, sigma)\n",
    "axs[1].plot(bins, (best_fit_line1+best_fit_line2)/2)\n",
    "plt.show()"
   ]
  },
  {
   "cell_type": "code",
   "execution_count": 170,
   "id": "aa8dc292",
   "metadata": {},
   "outputs": [
    {
     "data": {
      "image/png": "[encoded data removed]",
      "text/plain": [
       "<Figure size 432x288 with 1 Axes>"
      ]
     },
     "metadata": {
      "needs_background": "light"
     },
     "output_type": "display_data"
    }
   ],
   "source": [
    "import matplotlib.pyplot as plt\n",
    "import numpy as np\n",
    "\n",
    "fig = plt.figure()\n",
    "ax = fig.add_subplot(projection='3d')\n",
    "x, y = center['x'], center['y']\n",
    "hist, xedges, yedges = np.histogram2d(x, y, bins=16, range=[[-5, 5], [-5, 5]])\n",
    "\n",
    "# Construct arrays for the anchor positions of the 16 bars.\n",
    "xpos, ypos = np.meshgrid(xedges[:-1] + 0.25, yedges[:-1] + 0.25, indexing=\"ij\")\n",
    "xpos = xpos.ravel()\n",
    "ypos = ypos.ravel()\n",
    "zpos = 0\n",
    "\n",
    "# Construct arrays with the dimensions for the 16 bars.\n",
    "dx = dy = 0.5 * np.ones_like(zpos)\n",
    "dz = hist.ravel()\n",
    "\n",
    "ax.bar3d(xpos, ypos, zpos, dx, dy, dz, zsort='average')\n",
    "\n",
    "plt.show()"
   ]
  },
  {
   "cell_type": "markdown",
   "id": "d0a82156",
   "metadata": {},
   "source": [
    "### Other"
   ]
  },
  {
   "cell_type": "code",
   "execution_count": 4,
   "id": "d8a8cc6e",
   "metadata": {},
   "outputs": [],
   "source": [
    "data = data.sort_values(by=['name'], ascending=False)"
   ]
  },
  {
   "cell_type": "code",
   "execution_count": 5,
   "id": "6ea20f42",
   "metadata": {},
   "outputs": [],
   "source": [
    "\n",
    "data['z'] -= data['z'].min()\n",
    "z_bins = 300\n",
    "dz = (data['z'].max() - data['z'].min()) / z_bins"
   ]
  },
  {
   "cell_type": "code",
   "execution_count": 6,
   "id": "e0d67886",
   "metadata": {},
   "outputs": [],
   "source": [
    "data_dict = []\n",
    "for i in np.arange(data['z'].min(), data['z'].max(), dz):\n",
    "    data_dict.append({'z': i + dz / 2, 'edep': data[(data['z'] > i) & (data['z'] < (i + dz))]['edep'].sum()})"
   ]
  },
  {
   "cell_type": "code",
   "execution_count": 7,
   "id": "aging-pressure",
   "metadata": {
    "scrolled": true
   },
   "outputs": [
    {
     "data": {
      "image/png": "[encoded data removed]",
      "text/plain": [
       "<Figure size 432x288 with 1 Axes>"
      ]
     },
     "metadata": {
      "needs_background": "light"
     },
     "output_type": "display_data"
    }
   ],
   "source": [
    "hist = pd.DataFrame(data_dict)\n",
    "hist['edep'] /= hist['edep'].max()\n",
    "\n",
    "d2plot = hist['edep'].values[::-1]\n",
    "plt.bar(np.arange(len(d2plot)) * dz + dz / 2, d2plot)\n",
    "\n",
    "hist['z'] = hist['z'].values[::-1]\n",
    "#hist.sort_values(by=['z']).to_csv('aDoseDepthHist.csv', index=False)\n",
    "plt.ylabel('D / Dmax')\n",
    "plt.xlabel('Z, mm')\n",
    "plt.suptitle('Распределение дозы по глубине')\n",
    "#plt.savefig('aDoseDepthHist.png')"
   ]
  },
  {
   "cell_type": "markdown",
   "id": "a62dbe5d",
   "metadata": {},
   "source": [
    "### Распределение по энергии и типу частиц"
   ]
  },
  {
   "cell_type": "code",
   "execution_count": 8,
   "id": "c43c7998",
   "metadata": {},
   "outputs": [],
   "source": [
    "paths = glob.glob(f\"build/*DoseData_t*.csv\")"
   ]
  },
  {
   "cell_type": "code",
   "execution_count": 9,
   "id": "1f9bd712",
   "metadata": {},
   "outputs": [],
   "source": [
    "data = pd.DataFrame()\n",
    "\n",
    "for path in paths:\n",
    "    item = pd.read_csv(path, skiprows=8, names=['particle_name', 'energy'])\n",
    "    data = data.append(item, ignore_index=True)"
   ]
  },
  {
   "cell_type": "code",
   "execution_count": 10,
   "id": "f1d5dbcc",
   "metadata": {},
   "outputs": [],
   "source": [
    "particle_names = [name for name in set(data[\"particle_name\"].values) if not name.startswith(\"W\")]\n",
    "datas = {}\n",
    "for name in particle_names:\n",
    "    if name.startswith(\"W\") is False:\n",
    "        datas[name] = data[data[\"particle_name\"]==name]"
   ]
  },
  {
   "cell_type": "code",
   "execution_count": 11,
   "id": "ff5c5461",
   "metadata": {},
   "outputs": [
    {
     "data": {
      "text/plain": [
       "['gamma', 'e+', 'e-']"
      ]
     },
     "execution_count": 11,
     "metadata": {},
     "output_type": "execute_result"
    }
   ],
   "source": [
    "particle_names"
   ]
  },
  {
   "cell_type": "code",
   "execution_count": 12,
   "id": "6762dbf2",
   "metadata": {},
   "outputs": [
    {
     "data": {
      "image/png": "[encoded data removed]",
      "text/plain": [
       "<Figure size 432x288 with 1 Axes>"
      ]
     },
     "metadata": {
      "needs_background": "light"
     },
     "output_type": "display_data"
    },
    {
     "data": {
      "image/png": "[encoded data removed]",
      "text/plain": [
       "<Figure size 432x288 with 1 Axes>"
      ]
     },
     "metadata": {
      "needs_background": "light"
     },
     "output_type": "display_data"
    },
    {
     "data": {
      "image/png": "[encoded data removed]",
      "text/plain": [
       "<Figure size 432x288 with 1 Axes>"
      ]
     },
     "metadata": {
      "needs_background": "light"
     },
     "output_type": "display_data"
    }
   ],
   "source": [
    "for name in particle_names:\n",
    "    d = datas[name][\"energy\"].to_numpy()\n",
    "    plt.hist(d, bins=100)\n",
    "    plt.title(name)\n",
    "    plt.ylabel('Energy, MeV')\n",
    "    plt.xlabel('bins')\n",
    "    plt.show()"
   ]
  }
 ],
 "metadata": {
  "kernelspec": {
   "display_name": "Python 3 (ipykernel)",
   "language": "python",
   "name": "python3"
  },
  "language_info": {
   "codemirror_mode": {
    "name": "ipython",
    "version": 3
   },
   "file_extension": ".py",
   "mimetype": "text/x-python",
   "name": "python",
   "nbconvert_exporter": "python",
   "pygments_lexer": "ipython3",
   "version": "3.10.4"
  }
 },
 "nbformat": 4,
 "nbformat_minor": 5
}
