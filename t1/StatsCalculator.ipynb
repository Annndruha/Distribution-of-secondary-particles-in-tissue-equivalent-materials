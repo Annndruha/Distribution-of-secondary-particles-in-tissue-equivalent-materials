{
 "cells": [
  {
   "cell_type": "code",
   "execution_count": 330,
   "id": "attended-bermuda",
   "metadata": {},
   "outputs": [],
   "source": [
    "%matplotlib inline\n",
    "import os\n",
    "\n",
    "import scipy\n",
    "import pandas as pd\n",
    "import numpy as np\n",
    "import glob\n",
    "import matplotlib.pyplot as plt"
   ]
  },
  {
   "cell_type": "markdown",
   "id": "986f0a04",
   "metadata": {},
   "source": [
    "## Загрузка данных"
   ]
  },
  {
   "cell_type": "code",
   "execution_count": 331,
   "id": "cf91d50c",
   "metadata": {},
   "outputs": [],
   "source": [
    "paths = glob.glob(f\"build/*results*.csv\")"
   ]
  },
  {
   "cell_type": "code",
   "execution_count": 368,
   "id": "printable-moral",
   "metadata": {
    "scrolled": true
   },
   "outputs": [],
   "source": [
    "data_raw = pd.DataFrame()\n",
    "\n",
    "for path in paths:\n",
    "    item = pd.read_csv(path, skiprows=12, names=['name', 'x', 'y', 'z', 'vx', 'vy', 'vz', 'E'])\n",
    "    data_raw = pd.concat((data_raw, item), ignore_index=True)"
   ]
  },
  {
   "cell_type": "markdown",
   "id": "cb2fa4a2",
   "metadata": {},
   "source": [
    "## Первичная статистика ускорителя"
   ]
  },
  {
   "cell_type": "code",
   "execution_count": 369,
   "id": "8666a676",
   "metadata": {},
   "outputs": [
    {
     "data": {
      "text/html": [
       "<div>\n",
       "<style scoped>\n",
       "    .dataframe tbody tr th:only-of-type {\n",
       "        vertical-align: middle;\n",
       "    }\n",
       "\n",
       "    .dataframe tbody tr th {\n",
       "        vertical-align: top;\n",
       "    }\n",
       "\n",
       "    .dataframe thead th {\n",
       "        text-align: right;\n",
       "    }\n",
       "</style>\n",
       "<table border=\"1\" class=\"dataframe\">\n",
       "  <thead>\n",
       "    <tr style=\"text-align: right;\">\n",
       "      <th></th>\n",
       "      <th>name</th>\n",
       "      <th>x</th>\n",
       "      <th>y</th>\n",
       "      <th>z</th>\n",
       "      <th>vx</th>\n",
       "      <th>vy</th>\n",
       "      <th>vz</th>\n",
       "      <th>E</th>\n",
       "    </tr>\n",
       "  </thead>\n",
       "  <tbody>\n",
       "    <tr>\n",
       "      <th>0</th>\n",
       "      <td>gamma</td>\n",
       "      <td>8.62687</td>\n",
       "      <td>18.7803</td>\n",
       "      <td>42.0</td>\n",
       "      <td>0.41231</td>\n",
       "      <td>0.63044</td>\n",
       "      <td>1.54586</td>\n",
       "      <td>1.71963</td>\n",
       "    </tr>\n",
       "    <tr>\n",
       "      <th>1</th>\n",
       "      <td>gamma</td>\n",
       "      <td>-2.03114</td>\n",
       "      <td>-17.4397</td>\n",
       "      <td>42.0</td>\n",
       "      <td>-0.073924</td>\n",
       "      <td>-0.555033</td>\n",
       "      <td>1.37733</td>\n",
       "      <td>1.33898</td>\n",
       "    </tr>\n",
       "    <tr>\n",
       "      <th>2</th>\n",
       "      <td>e-</td>\n",
       "      <td>-2.291</td>\n",
       "      <td>-19.3907</td>\n",
       "      <td>46.8415</td>\n",
       "      <td>0.350289</td>\n",
       "      <td>-0.13986</td>\n",
       "      <td>0.175045</td>\n",
       "      <td>0.139984</td>\n",
       "    </tr>\n",
       "    <tr>\n",
       "      <th>3</th>\n",
       "      <td>gamma</td>\n",
       "      <td>-8.38571</td>\n",
       "      <td>-17.9946</td>\n",
       "      <td>42.0</td>\n",
       "      <td>-0.37091</td>\n",
       "      <td>-0.762739</td>\n",
       "      <td>1.81036</td>\n",
       "      <td>1.99918</td>\n",
       "    </tr>\n",
       "    <tr>\n",
       "      <th>4</th>\n",
       "      <td>gamma</td>\n",
       "      <td>-18.9994</td>\n",
       "      <td>-3.01534</td>\n",
       "      <td>42.0</td>\n",
       "      <td>-0.779771</td>\n",
       "      <td>-0.09588</td>\n",
       "      <td>1.97419</td>\n",
       "      <td>2.12478</td>\n",
       "    </tr>\n",
       "    <tr>\n",
       "      <th>...</th>\n",
       "      <td>...</td>\n",
       "      <td>...</td>\n",
       "      <td>...</td>\n",
       "      <td>...</td>\n",
       "      <td>...</td>\n",
       "      <td>...</td>\n",
       "      <td>...</td>\n",
       "      <td>...</td>\n",
       "    </tr>\n",
       "    <tr>\n",
       "      <th>55709</th>\n",
       "      <td>gamma</td>\n",
       "      <td>14.0789</td>\n",
       "      <td>18.369</td>\n",
       "      <td>42.0</td>\n",
       "      <td>0.340252</td>\n",
       "      <td>0.552483</td>\n",
       "      <td>1.16344</td>\n",
       "      <td>1.298</td>\n",
       "    </tr>\n",
       "    <tr>\n",
       "      <th>55710</th>\n",
       "      <td>e-</td>\n",
       "      <td>14.1429</td>\n",
       "      <td>18.4729</td>\n",
       "      <td>42.2188</td>\n",
       "      <td>0.001106</td>\n",
       "      <td>0.018642</td>\n",
       "      <td>0.012501</td>\n",
       "      <td>0.000472</td>\n",
       "    </tr>\n",
       "    <tr>\n",
       "      <th>55711</th>\n",
       "      <td>e-</td>\n",
       "      <td>14.1429</td>\n",
       "      <td>18.4729</td>\n",
       "      <td>42.2188</td>\n",
       "      <td>-0.120193</td>\n",
       "      <td>0.132953</td>\n",
       "      <td>0.057874</td>\n",
       "      <td>0.031939</td>\n",
       "    </tr>\n",
       "    <tr>\n",
       "      <th>55712</th>\n",
       "      <td>gamma</td>\n",
       "      <td>3.55719</td>\n",
       "      <td>17.0166</td>\n",
       "      <td>42.0</td>\n",
       "      <td>0.02247</td>\n",
       "      <td>0.041182</td>\n",
       "      <td>0.115992</td>\n",
       "      <td>0.12512</td>\n",
       "    </tr>\n",
       "    <tr>\n",
       "      <th>55713</th>\n",
       "      <td>e-</td>\n",
       "      <td>-5.079</td>\n",
       "      <td>15.8285</td>\n",
       "      <td>42.0</td>\n",
       "      <td>-0.247604</td>\n",
       "      <td>0.537771</td>\n",
       "      <td>1.74108</td>\n",
       "      <td>1.39766</td>\n",
       "    </tr>\n",
       "  </tbody>\n",
       "</table>\n",
       "<p>55714 rows × 8 columns</p>\n",
       "</div>"
      ],
      "text/plain": [
       "        name        x        y        z        vx        vy        vz  \\\n",
       "0      gamma  8.62687  18.7803     42.0   0.41231   0.63044   1.54586   \n",
       "1      gamma -2.03114 -17.4397     42.0 -0.073924 -0.555033   1.37733   \n",
       "2         e-   -2.291 -19.3907  46.8415  0.350289  -0.13986  0.175045   \n",
       "3      gamma -8.38571 -17.9946     42.0  -0.37091 -0.762739   1.81036   \n",
       "4      gamma -18.9994 -3.01534     42.0 -0.779771  -0.09588   1.97419   \n",
       "...      ...      ...      ...      ...       ...       ...       ...   \n",
       "55709  gamma  14.0789   18.369     42.0  0.340252  0.552483   1.16344   \n",
       "55710     e-  14.1429  18.4729  42.2188  0.001106  0.018642  0.012501   \n",
       "55711     e-  14.1429  18.4729  42.2188 -0.120193  0.132953  0.057874   \n",
       "55712  gamma  3.55719  17.0166     42.0   0.02247  0.041182  0.115992   \n",
       "55713     e-   -5.079  15.8285     42.0 -0.247604  0.537771   1.74108   \n",
       "\n",
       "              E  \n",
       "0       1.71963  \n",
       "1       1.33898  \n",
       "2      0.139984  \n",
       "3       1.99918  \n",
       "4       2.12478  \n",
       "...         ...  \n",
       "55709     1.298  \n",
       "55710  0.000472  \n",
       "55711  0.031939  \n",
       "55712   0.12512  \n",
       "55713   1.39766  \n",
       "\n",
       "[55714 rows x 8 columns]"
      ]
     },
     "execution_count": 369,
     "metadata": {},
     "output_type": "execute_result"
    }
   ],
   "source": [
    "data = data_raw\n",
    "data_raw"
   ]
  },
  {
   "cell_type": "code",
   "execution_count": 370,
   "id": "a267c669",
   "metadata": {},
   "outputs": [
    {
     "data": {
      "text/html": [
       "<div>\n",
       "<style scoped>\n",
       "    .dataframe tbody tr th:only-of-type {\n",
       "        vertical-align: middle;\n",
       "    }\n",
       "\n",
       "    .dataframe tbody tr th {\n",
       "        vertical-align: top;\n",
       "    }\n",
       "\n",
       "    .dataframe thead th {\n",
       "        text-align: right;\n",
       "    }\n",
       "</style>\n",
       "<table border=\"1\" class=\"dataframe\">\n",
       "  <thead>\n",
       "    <tr style=\"text-align: right;\">\n",
       "      <th></th>\n",
       "      <th>name</th>\n",
       "      <th>count</th>\n",
       "      <th>percent</th>\n",
       "    </tr>\n",
       "  </thead>\n",
       "  <tbody>\n",
       "    <tr>\n",
       "      <th>0</th>\n",
       "      <td>O16</td>\n",
       "      <td>546</td>\n",
       "      <td>0.980005</td>\n",
       "    </tr>\n",
       "    <tr>\n",
       "      <th>1</th>\n",
       "      <td>e+</td>\n",
       "      <td>262</td>\n",
       "      <td>0.470259</td>\n",
       "    </tr>\n",
       "    <tr>\n",
       "      <th>2</th>\n",
       "      <td>nu_e</td>\n",
       "      <td>713</td>\n",
       "      <td>1.279750</td>\n",
       "    </tr>\n",
       "    <tr>\n",
       "      <th>3</th>\n",
       "      <td>anti_nu_e</td>\n",
       "      <td>795</td>\n",
       "      <td>1.426930</td>\n",
       "    </tr>\n",
       "    <tr>\n",
       "      <th>4</th>\n",
       "      <td>neutron</td>\n",
       "      <td>2004</td>\n",
       "      <td>3.596942</td>\n",
       "    </tr>\n",
       "    <tr>\n",
       "      <th>5</th>\n",
       "      <td>proton</td>\n",
       "      <td>1378</td>\n",
       "      <td>2.473346</td>\n",
       "    </tr>\n",
       "    <tr>\n",
       "      <th>6</th>\n",
       "      <td>gamma</td>\n",
       "      <td>34453</td>\n",
       "      <td>61.839035</td>\n",
       "    </tr>\n",
       "    <tr>\n",
       "      <th>7</th>\n",
       "      <td>e-</td>\n",
       "      <td>15563</td>\n",
       "      <td>27.933733</td>\n",
       "    </tr>\n",
       "  </tbody>\n",
       "</table>\n",
       "</div>"
      ],
      "text/plain": [
       "        name  count    percent\n",
       "0        O16    546   0.980005\n",
       "1         e+    262   0.470259\n",
       "2       nu_e    713   1.279750\n",
       "3  anti_nu_e    795   1.426930\n",
       "4    neutron   2004   3.596942\n",
       "5     proton   1378   2.473346\n",
       "6      gamma  34453  61.839035\n",
       "7         e-  15563  27.933733"
      ]
     },
     "execution_count": 370,
     "metadata": {},
     "output_type": "execute_result"
    }
   ],
   "source": [
    "l = len(data_raw)\n",
    "res = []\n",
    "for name in set(data_raw['name']):\n",
    "    count = len(data_raw[data_raw['name'] == name])\n",
    "    res.append((name, count, count/l*100))\n",
    "    \n",
    "pd.DataFrame(res, columns=['name', 'count', 'percent'])"
   ]
  },
  {
   "cell_type": "markdown",
   "id": "6062a000",
   "metadata": {},
   "source": [
    "## Распределение по координатам"
   ]
  },
  {
   "cell_type": "code",
   "execution_count": 371,
   "id": "7d4efa4a",
   "metadata": {},
   "outputs": [
    {
     "data": {
      "image/png": "[encoded data removed]",
      "text/plain": [
       "<Figure size 432x288 with 1 Axes>"
      ]
     },
     "metadata": {
      "needs_background": "light"
     },
     "output_type": "display_data"
    }
   ],
   "source": [
    "center = data[(-10 < data['x']) & (data['x'] < 10) & (-10 < data['y']) & (data['y'] < 10)]\n",
    "plt.hist2d(center['x'], center['y'], bins=30)\n",
    "plt.title('Density of particles')\n",
    "plt.xlabel('Coordinate X')\n",
    "plt.ylabel('Coordinate Y')\n",
    "plt.show()"
   ]
  },
  {
   "cell_type": "code",
   "execution_count": 372,
   "id": "fd3f2028",
   "metadata": {},
   "outputs": [
    {
     "data": {
      "image/png": "[encoded data removed]",
      "text/plain": [
       "<Figure size 432x288 with 1 Axes>"
      ]
     },
     "metadata": {
      "needs_background": "light"
     },
     "output_type": "display_data"
    }
   ],
   "source": [
    "y_bins, x_bins, fff = plt.hist(cnt_x, 50, density=True)"
   ]
  },
  {
   "cell_type": "code",
   "execution_count": 380,
   "id": "4904cc6b",
   "metadata": {},
   "outputs": [
    {
     "data": {
      "image/png": "[encoded data removed]",
      "text/plain": [
       "<Figure size 648x216 with 2 Axes>"
      ]
     },
     "metadata": {
      "needs_background": "light"
     },
     "output_type": "display_data"
    }
   ],
   "source": [
    "cnt_x = np.array(center['x'], dtype=float)\n",
    "cnt_y = np.array(center['y'], dtype=float)\n",
    "\n",
    "fig, axs = plt.subplots(1, 2, figsize=(9, 3), sharey=True)\n",
    "\n",
    "_, bins, _ = axs[0].hist(cnt_x, 50, density=True)\n",
    "mu, sigma = scipy.stats.norm.fit(cnt_x)\n",
    "best_fit_line1 = scipy.stats.norm.pdf(bins, mu+1.13, sigma*0.45)\n",
    "best_fit_line2 = scipy.stats.norm.pdf(bins, mu-1.13, sigma*0.45)\n",
    "best_fit_line3 = scipy.stats.norm.pdf(bins, mu, sigma*10)\n",
    "axs[0].plot(bins, (best_fit_line1+best_fit_line2+best_fit_line3)/2.4)\n",
    "\n",
    "_, bins, _ = axs[1].hist(cnt_y, 50, density=True)\n",
    "mu, sigma = scipy.stats.norm.fit(cnt_y)\n",
    "best_fit_line1 = scipy.stats.norm.pdf(bins, mu+1.13, sigma*0.45)\n",
    "best_fit_line2 = scipy.stats.norm.pdf(bins, mu-1.13, sigma*0.45)\n",
    "best_fit_line3 = scipy.stats.norm.pdf(bins, mu, sigma*10)\n",
    "axs[1].plot(bins, (best_fit_line1+best_fit_line2+best_fit_line3)/2.2)\n",
    "\n",
    "plt.show()"
   ]
  },
  {
   "cell_type": "code",
   "execution_count": 375,
   "id": "164a8e8f",
   "metadata": {},
   "outputs": [
    {
     "data": {
      "image/png": "[encoded data removed]",
      "text/plain": [
       "<Figure size 432x288 with 1 Axes>"
      ]
     },
     "metadata": {
      "needs_background": "light"
     },
     "output_type": "display_data"
    }
   ],
   "source": [
    "import matplotlib.pyplot as plt\n",
    "import numpy as np\n",
    "\n",
    "fig = plt.figure()\n",
    "ax = fig.add_subplot(projection='3d')\n",
    "x, y = center['x'], center['y']\n",
    "hist, xedges, yedges = np.histogram2d(x, y, bins=16, range=[[-5, 5], [-5, 5]])\n",
    "\n",
    "# Construct arrays for the anchor positions of the 16 bars.\n",
    "xpos, ypos = np.meshgrid(xedges[:-1] + 0.25, yedges[:-1] + 0.25, indexing=\"ij\")\n",
    "xpos = xpos.ravel()\n",
    "ypos = ypos.ravel()\n",
    "zpos = 0\n",
    "\n",
    "# Construct arrays with the dimensions for the 16 bars.\n",
    "dx = dy = 0.5 * np.ones_like(zpos)\n",
    "dz = hist.ravel()\n",
    "\n",
    "ax.bar3d(xpos, ypos, zpos, dx, dy, dz, zsort='average')\n",
    "\n",
    "plt.show()"
   ]
  }
 ],
 "metadata": {
  "kernelspec": {
   "display_name": "Python 3 (ipykernel)",
   "language": "python",
   "name": "python3"
  },
  "language_info": {
   "codemirror_mode": {
    "name": "ipython",
    "version": 3
   },
   "file_extension": ".py",
   "mimetype": "text/x-python",
   "name": "python",
   "nbconvert_exporter": "python",
   "pygments_lexer": "ipython3",
   "version": "3.10.4"
  }
 },
 "nbformat": 4,
 "nbformat_minor": 5
}
